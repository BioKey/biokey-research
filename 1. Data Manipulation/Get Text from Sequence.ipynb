{
 "cells": [
  {
   "cell_type": "code",
   "execution_count": 1,
   "metadata": {
    "collapsed": true
   },
   "outputs": [],
   "source": [
    "import psycopg2\n",
    "import pandas as pd\n",
    "import sys\n",
    "sys.path.append(\"..\")\n",
    "import credentials\n",
    "from sqlalchemy import create_engine\n",
    "engine = create_engine(credentials.postgres)\n",
    "import numpy as np\n",
    "from datetime import datetime\n",
    "import string\n",
    "from tqdm import tnrange, tqdm_notebook\n",
    "# This makes plots render inline"
   ]
  },
  {
   "cell_type": "code",
   "execution_count": 2,
   "metadata": {
    "collapsed": true
   },
   "outputs": [],
   "source": [
    "% matplotlib inline"
   ]
  },
  {
   "cell_type": "code",
   "execution_count": 3,
   "metadata": {
    "collapsed": true
   },
   "outputs": [],
   "source": [
    "# Basic Connection and Query\n",
    "connection = engine.connect()"
   ]
  },
  {
   "cell_type": "code",
   "execution_count": 4,
   "metadata": {
    "collapsed": true
   },
   "outputs": [],
   "source": [
    "key_codes = pd.read_csv('key_codes.csv').set_index('code').key"
   ]
  },
  {
   "cell_type": "code",
   "execution_count": 5,
   "metadata": {
    "collapsed": true
   },
   "outputs": [],
   "source": [
    "def get_sequence(connection=connection, filter_alpha=False):\n",
    "    people = {}\n",
    "    # Calculate Dwells\n",
    "    result = connection.execute(\"SELECT * FROM strokes WHERE user_id='1d63b44d-a7cb-4ee6-b228-b0ff5b7d086f' ORDER BY key_time\")\n",
    "    dwells = []\n",
    "    for row in result:\n",
    "        # ('1d63b44d-a7cb-4ee6-b228-b0ff5b7d086f', 1509862331813, '3675', '40964', 'd')\n",
    "        row = (row[0], row[1], int(row[2]), int(row[3]), row[4])\n",
    "        # Assure Users are in Dictionaries\n",
    "        if row[0] not in people:\n",
    "            people[row[0]] = {}\n",
    "            \n",
    "        if row[2] not in people[row[0]] and row[4] == 'd':\n",
    "            people[row[0]][row[2]] = row[1]\n",
    "        elif row[2] in people[row[0]] and row[4] == 'd':\n",
    "            people[row[0]][row[2]] = row[1]\n",
    "        elif row[2] in people[row[0]] and row[4] == 'u':\n",
    "            dwell = row[1] - people[row[0]][row[2]]\n",
    "            try:\n",
    "                if not filter_alpha or (filter_alpha and key_codes[row[2]] in string.ascii_uppercase):\n",
    "                    dwells.append({\n",
    "                        'person': row[0],\n",
    "                        'key_code': row[2],\n",
    "                        'key': key_codes[row[2]],\n",
    "                        'down': people[row[0]][row[2]],\n",
    "                        'up': row[1],\n",
    "                        'dwell': dwell\n",
    "                    })\n",
    "            except Exception as e:\n",
    "                pass\n",
    "                \n",
    "            del(people[row[0]][row[2]])\n",
    "    return pd.DataFrame(dwells).sort_values('down')\n"
   ]
  },
  {
   "cell_type": "code",
   "execution_count": 8,
   "metadata": {
    "collapsed": true
   },
   "outputs": [],
   "source": [
    "df = get_sequence()"
   ]
  },
  {
   "cell_type": "code",
   "execution_count": 45,
   "metadata": {},
   "outputs": [],
   "source": [
    "message = []\n",
    "for k in df.key:\n",
    "    if k in string.ascii_uppercase or k.isdigit():\n",
    "        message.append(k)\n",
    "    elif k == 'ENTER':\n",
    "        message.append('\\n')\n",
    "    elif k == 'PERIOD':\n",
    "        message.append('.')\n",
    "    elif k == 'BACKSPACE':\n",
    "        message.pop()\n",
    "    elif k == 'SPACE':\n",
    "        message.append(' ')\n",
    "    elif k == 'COMMA':\n",
    "        message.append(',')\n",
    "    elif k == 'SEMICOLON':\n",
    "        message.append(';')\n",
    "    elif k == 'TAB':\n",
    "        message.append('\\t')\n",
    "    elif k == 'MINUS':\n",
    "        message.append('-')\n",
    "    elif k == 'SLASH':\n",
    "        message.append('/')"
   ]
  },
  {
   "cell_type": "code",
   "execution_count": 46,
   "metadata": {},
   "outputs": [],
   "source": [
    "text = ''.join(message)"
   ]
  },
  {
   "cell_type": "code",
   "execution_count": null,
   "metadata": {
    "collapsed": true
   },
   "outputs": [],
   "source": []
  }
 ],
 "metadata": {
  "kernelspec": {
   "display_name": "Python 3",
   "language": "python",
   "name": "python3"
  },
  "language_info": {
   "codemirror_mode": {
    "name": "ipython",
    "version": 3
   },
   "file_extension": ".py",
   "mimetype": "text/x-python",
   "name": "python",
   "nbconvert_exporter": "python",
   "pygments_lexer": "ipython3",
   "version": "3.6.1"
  }
 },
 "nbformat": 4,
 "nbformat_minor": 2
}
