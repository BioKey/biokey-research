{
 "cells": [
  {
   "cell_type": "markdown",
   "metadata": {},
   "source": [
    "# [A continuous identity verification method based on free-text keystroke dynamics](http://ieeexplore.ieee.org.proxy1.lib.uwo.ca/document/7844242/authors)"
   ]
  },
  {
   "cell_type": "code",
   "execution_count": 2,
   "metadata": {
    "collapsed": true
   },
   "outputs": [],
   "source": [
    "import psycopg2\n",
    "import pandas as pd\n",
    "import sys\n",
    "sys.path.append(\"..\")\n",
    "import credentials\n",
    "from sqlalchemy import create_engine\n",
    "engine = create_engine(credentials.postgres)\n",
    "import numpy as np\n",
    "from datetime import datetime\n",
    "import time\n",
    "import string\n",
    "from tqdm import tnrange, tqdm_notebook, tqdm\n",
    "import numpy.ma as ma\n",
    "from multiprocessing import Pool\n",
    "# This makes plots render inline"
   ]
  },
  {
   "cell_type": "code",
   "execution_count": 3,
   "metadata": {},
   "outputs": [
    {
     "data": {
      "application/vnd.jupyter.widget-view+json": {
       "model_id": "d5896aa2733049cdaafde4c9e5e52ba5",
       "version_major": 2,
       "version_minor": 0
      },
      "text/html": [
       "<p>Failed to display Jupyter Widget of type <code>HBox</code>.</p>\n",
       "<p>\n",
       "  If you're reading this message in Jupyter Notebook or JupyterLab, it may mean\n",
       "  that the widgets JavaScript is still loading. If this message persists, it\n",
       "  likely means that the widgets JavaScript library is either not installed or\n",
       "  not enabled. See the <a href=\"https://ipywidgets.readthedocs.io/en/stable/user_install.html\">Jupyter\n",
       "  Widgets Documentation</a> for setup instructions.\n",
       "</p>\n",
       "<p>\n",
       "  If you're reading this message in another notebook frontend (for example, a static\n",
       "  rendering on GitHub or <a href=\"https://nbviewer.jupyter.org/\">NBViewer</a>),\n",
       "  it may mean that your frontend doesn't currently support widgets.\n",
       "</p>\n"
      ],
      "text/plain": [
       "HBox(children=(IntProgress(value=1, bar_style='info', max=1), HTML(value='')))"
      ]
     },
     "metadata": {},
     "output_type": "display_data"
    },
    {
     "name": "stdout",
     "output_type": "stream",
     "text": [
      "\n"
     ]
    }
   ],
   "source": [
    "# Register `pandas.progress_apply` and `pandas.Series.map_apply` with `tqdm`\n",
    "# (can use `tqdm_gui`, `tqdm_notebook`, optional kwargs, etc.)\n",
    "tqdm_notebook().pandas(desc=\"Progress\")"
   ]
  },
  {
   "cell_type": "code",
   "execution_count": 4,
   "metadata": {
    "collapsed": true
   },
   "outputs": [],
   "source": [
    "% matplotlib inline"
   ]
  },
  {
   "cell_type": "code",
   "execution_count": 5,
   "metadata": {
    "collapsed": true
   },
   "outputs": [],
   "source": [
    "key_codes = pd.read_csv('key_codes.csv').set_index('code').key"
   ]
  },
  {
   "cell_type": "code",
   "execution_count": 6,
   "metadata": {
    "collapsed": true
   },
   "outputs": [],
   "source": [
    "# Basic Connection and Query\n",
    "connection = engine.connect()"
   ]
  },
  {
   "cell_type": "code",
   "execution_count": 7,
   "metadata": {
    "collapsed": true
   },
   "outputs": [],
   "source": [
    "def get_sequence(user_id=None, limit=None, connection=connection, filter_alpha=False):\n",
    "    people = {}\n",
    "    # Calculate Dwells\n",
    "    condition_text = 'WHERE user_id=\\'%s\\'' % user_id if user_id is not None else ''\n",
    "    limit_text = 'LIMIT \\'%s\\'' % str(limit) if limit is not None else ''\n",
    "    print(\"SELECT * FROM strokes %s ORDER BY key_time %s\" % (condition_text, limit_text))\n",
    "    result = connection.execute(\"SELECT * FROM strokes %s ORDER BY key_time %s\" % (condition_text, limit_text)).fetchall()\n",
    "    dwells = []\n",
    "    for i in tnrange(len(result), desc='Loading'):\n",
    "        row = result[i]\n",
    "        row = (row[0], row[1], int(row[2]), int(row[3]), row[4])\n",
    "        # Assure Users are in Dictionaries\n",
    "        if row[0] not in people:\n",
    "            people[row[0]] = {}\n",
    "            \n",
    "        if row[2] not in people[row[0]] and row[4] == 'd':\n",
    "            people[row[0]][row[2]] = row[1]\n",
    "        elif row[2] in people[row[0]] and row[4] == 'd':\n",
    "            people[row[0]][row[2]] = row[1]\n",
    "        elif row[2] in people[row[0]] and row[4] == 'u':\n",
    "            dwell = row[1] - people[row[0]][row[2]]\n",
    "            try:\n",
    "                if not filter_alpha or (filter_alpha and key_codes[row[2]] in string.ascii_uppercase):\n",
    "                    dwells.append({\n",
    "                        'person': row[0],\n",
    "                        'key_code': row[2],\n",
    "                        'key': key_codes[row[2]],\n",
    "                        'down': people[row[0]][row[2]],\n",
    "                        'up': row[1],\n",
    "                        'dwell': dwell\n",
    "                    })\n",
    "            except Exception as e:\n",
    "                pass\n",
    "                \n",
    "            del(people[row[0]][row[2]])\n",
    "    return pd.DataFrame(dwells).sort_values('down')\n"
   ]
  },
  {
   "cell_type": "code",
   "execution_count": 8,
   "metadata": {},
   "outputs": [
    {
     "name": "stdout",
     "output_type": "stream",
     "text": [
      "SELECT * FROM strokes WHERE user_id='1d63b44d-a7cb-4ee6-b228-b0ff5b7d086f' ORDER BY key_time \n"
     ]
    },
    {
     "data": {
      "application/vnd.jupyter.widget-view+json": {
       "model_id": "e009b8b5bf7944a8beb83f125d2fcf60",
       "version_major": 2,
       "version_minor": 0
      },
      "text/html": [
       "<p>Failed to display Jupyter Widget of type <code>HBox</code>.</p>\n",
       "<p>\n",
       "  If you're reading this message in Jupyter Notebook or JupyterLab, it may mean\n",
       "  that the widgets JavaScript is still loading. If this message persists, it\n",
       "  likely means that the widgets JavaScript library is either not installed or\n",
       "  not enabled. See the <a href=\"https://ipywidgets.readthedocs.io/en/stable/user_install.html\">Jupyter\n",
       "  Widgets Documentation</a> for setup instructions.\n",
       "</p>\n",
       "<p>\n",
       "  If you're reading this message in another notebook frontend (for example, a static\n",
       "  rendering on GitHub or <a href=\"https://nbviewer.jupyter.org/\">NBViewer</a>),\n",
       "  it may mean that your frontend doesn't currently support widgets.\n",
       "</p>\n"
      ],
      "text/plain": [
       "HBox(children=(IntProgress(value=0, description='Loading', max=615921), HTML(value='')))"
      ]
     },
     "metadata": {},
     "output_type": "display_data"
    },
    {
     "name": "stdout",
     "output_type": "stream",
     "text": [
      "\n"
     ]
    }
   ],
   "source": [
    "df = get_sequence(user_id='1d63b44d-a7cb-4ee6-b228-b0ff5b7d086f', filter_alpha=True)"
   ]
  },
  {
   "cell_type": "code",
   "execution_count": null,
   "metadata": {
    "collapsed": true
   },
   "outputs": [],
   "source": [
    "S = df.key\n",
    "Interval = (df.shift(-1).down - df.up)\n",
    "orderedInterval = Interval.sort_values().reset_index(drop=True)"
   ]
  },
  {
   "cell_type": "code",
   "execution_count": null,
   "metadata": {},
   "outputs": [
    {
     "data": {
      "application/vnd.jupyter.widget-view+json": {
       "model_id": "e2bbda8b0f064a049a1507139cff8d0b",
       "version_major": 2,
       "version_minor": 0
      },
      "text/html": [
       "<p>Failed to display Jupyter Widget of type <code>HBox</code>.</p>\n",
       "<p>\n",
       "  If you're reading this message in Jupyter Notebook or JupyterLab, it may mean\n",
       "  that the widgets JavaScript is still loading. If this message persists, it\n",
       "  likely means that the widgets JavaScript library is either not installed or\n",
       "  not enabled. See the <a href=\"https://ipywidgets.readthedocs.io/en/stable/user_install.html\">Jupyter\n",
       "  Widgets Documentation</a> for setup instructions.\n",
       "</p>\n",
       "<p>\n",
       "  If you're reading this message in another notebook frontend (for example, a static\n",
       "  rendering on GitHub or <a href=\"https://nbviewer.jupyter.org/\">NBViewer</a>),\n",
       "  it may mean that your frontend doesn't currently support widgets.\n",
       "</p>\n"
      ],
      "text/plain": [
       "HBox(children=(IntProgress(value=0, description='Progress', max=175602), HTML(value='')))"
      ]
     },
     "metadata": {},
     "output_type": "display_data"
    }
   ],
   "source": [
    "required = pd.DataFrame({i: Interval.shift(-i) for i in range(10)}).cummax(axis=1)\n",
    "duration = pd.DataFrame({i: df.up.shift(-i) - df.down for i in range(10)})\n",
    "keys = pd.DataFrame({i: df.key.shift(-i) for i in range(10)}).fillna('').progress_apply(lambda x: ['-'.join(x[:i+2]) for i in x.index], axis=1)"
   ]
  },
  {
   "cell_type": "code",
   "execution_count": null,
   "metadata": {
    "collapsed": true
   },
   "outputs": [],
   "source": [
    "a = np.tile(orderedInterval[:-1],(1,1,1)).transpose()\n",
    "Sa = np.tile(required, (1,1,1))"
   ]
  },
  {
   "cell_type": "code",
   "execution_count": null,
   "metadata": {
    "collapsed": true
   },
   "outputs": [],
   "source": [
    "def imap_unordered_bar(func, args, n_processes = 4):\n",
    "    p = Pool(n_processes)\n",
    "    res_list = []\n",
    "    with tqdm_notebook(total = len(args)) as pbar:\n",
    "        for i, res in tqdm_notebook(enumerate(p.imap_unordered(func, args))):\n",
    "            pbar.update()\n",
    "            res_list.append(res)\n",
    "    pbar.close()\n",
    "    p.close()\n",
    "    p.join()\n",
    "    return res_list\n",
    "\n",
    "def get_counts(i):\n",
    "    A = {}\n",
    "    counter = i*n\n",
    "    M = (Sa < a[i*n:n*(i+1)]).sum(2) - 1\n",
    "    indexes = np.tile(M.transpose(), (1,1,1)).transpose()\n",
    "    identity = np.tile(np.arange(10), (1, 1, 1))\n",
    "    selected = np.not_equal(indexes, identity)\n",
    "    ar = ma.array(seq, mask=selected)\n",
    "    for i in ar:\n",
    "        pairs, counts = np.unique(i.compressed(), return_counts=True)\n",
    "        A[counter] = counts.mean()\n",
    "        counter = counter + 1\n",
    "    return A"
   ]
  },
  {
   "cell_type": "code",
   "execution_count": null,
   "metadata": {
    "collapsed": true
   },
   "outputs": [],
   "source": [
    "n = 50\n",
    "k = np.array(keys)\n",
    "seq = np.tile(k, (n,1,1))\n",
    "result = imap_unordered_bar(get_counts, range(int(a.shape[0]/n)))"
   ]
  },
  {
   "cell_type": "code",
   "execution_count": null,
   "metadata": {
    "collapsed": true
   },
   "outputs": [],
   "source": [
    "A = {}\n",
    "for d in result:\n",
    "    A.update(d)"
   ]
  },
  {
   "cell_type": "code",
   "execution_count": null,
   "metadata": {
    "collapsed": true
   },
   "outputs": [],
   "source": [
    "orderedInterval.loc[orderedInterval < 1000].count()/orderedInterval.count()"
   ]
  },
  {
   "cell_type": "code",
   "execution_count": null,
   "metadata": {
    "collapsed": true
   },
   "outputs": [],
   "source": [
    "A = pd.Series(A)\n",
    "A.plot()"
   ]
  },
  {
   "cell_type": "code",
   "execution_count": null,
   "metadata": {
    "collapsed": true
   },
   "outputs": [],
   "source": [
    "pd.DataFrame({'a': orderedInterval, 'Count': A}).loc[(orderedInterval<200) & (orderedInterval>-100)].set_index('a').dropna().plot()"
   ]
  },
  {
   "cell_type": "code",
   "execution_count": 116,
   "metadata": {
    "collapsed": true
   },
   "outputs": [],
   "source": [
    "A.to_csv('average_lengths.csv')"
   ]
  },
  {
   "cell_type": "code",
   "execution_count": 169,
   "metadata": {},
   "outputs": [
    {
     "name": "stdout",
     "output_type": "stream",
     "text": [
      "A: -15.0, E: 20875\n"
     ]
    }
   ],
   "source": [
    "e = A.loc[A == A.max()].index[-1]\n",
    "print('A: %s, E: %s' % (str(orderedInterval[e]), str(e)))"
   ]
  },
  {
   "cell_type": "code",
   "execution_count": 170,
   "metadata": {},
   "outputs": [
    {
     "name": "stderr",
     "output_type": "stream",
     "text": [
      "/anaconda/lib/python3.6/site-packages/ipykernel_launcher.py:1: RuntimeWarning: invalid value encountered in less\n",
      "  \"\"\"Entry point for launching an IPython kernel.\n"
     ]
    }
   ],
   "source": [
    "M = (Sa < orderedInterval[e]).sum(2) - 1\n",
    "indexes = np.tile(M.transpose(), (1,1,1)).transpose()\n",
    "identity = np.tile(np.arange(10), (1, 1, 1))\n",
    "selected = np.not_equal(indexes, identity)"
   ]
  },
  {
   "cell_type": "code",
   "execution_count": 171,
   "metadata": {
    "collapsed": true
   },
   "outputs": [],
   "source": [
    "Am = pd.DataFrame({\n",
    "    'A': ma.array(np.tile(k, (1,1,1)), mask=selected)[0].compressed(), \n",
    "    'T': ma.array(np.tile(np.array(duration), (1,1,1)), mask=selected)[0].compressed()\n",
    "})\n",
    "\n",
    "avg = Am.groupby('A').T.mean()\n",
    "std = Am.groupby('A').T.std()\n",
    "count = Am.groupby('A').T.count()\n",
    "\n",
    "avg.to_csv('a_mean.csv')\n",
    "std.to_csv('a_std.csv')\n",
    "count.to_csv('a_count.csv')"
   ]
  },
  {
   "cell_type": "code",
   "execution_count": 172,
   "metadata": {},
   "outputs": [
    {
     "data": {
      "text/plain": [
       "array([[<matplotlib.axes._subplots.AxesSubplot object at 0x1244044a8>,\n",
       "        <matplotlib.axes._subplots.AxesSubplot object at 0x124566390>,\n",
       "        <matplotlib.axes._subplots.AxesSubplot object at 0x1245d2470>],\n",
       "       [<matplotlib.axes._subplots.AxesSubplot object at 0x1245ece10>,\n",
       "        <matplotlib.axes._subplots.AxesSubplot object at 0x12459e0f0>,\n",
       "        <matplotlib.axes._subplots.AxesSubplot object at 0x12459e128>],\n",
       "       [<matplotlib.axes._subplots.AxesSubplot object at 0x124636048>,\n",
       "        <matplotlib.axes._subplots.AxesSubplot object at 0x1246109e8>,\n",
       "        <matplotlib.axes._subplots.AxesSubplot object at 0x12467db38>],\n",
       "       [<matplotlib.axes._subplots.AxesSubplot object at 0x1246a8b38>,\n",
       "        <matplotlib.axes._subplots.AxesSubplot object at 0x1246d3b70>,\n",
       "        <matplotlib.axes._subplots.AxesSubplot object at 0x1246ffc88>]], dtype=object)"
      ]
     },
     "execution_count": 172,
     "metadata": {},
     "output_type": "execute_result"
    },
    {
     "data": {
      "image/png": "[encoded data removed]",
      "text/plain": [
       "<matplotlib.figure.Figure at 0x1244272b0>"
      ]
     },
     "metadata": {},
     "output_type": "display_data"
    }
   ],
   "source": [
    "Am[Am.A.isin(count.sort_values(ascending=False).head(10).index)]['T'].hist(by=Am[Am.A.isin(count.sort_values(ascending=False).head(10).index)]['A'])"
   ]
  },
  {
   "cell_type": "code",
   "execution_count": 342,
   "metadata": {
    "collapsed": true
   },
   "outputs": [],
   "source": [
    "def get_user_seqs(user_id, limit=None):\n",
    "    challenge = get_sequence(user_id=user_id, limit=limit, filter_alpha=True)\n",
    "    Interval_challenge = (challenge.shift(-1).down - challenge.up)\n",
    "\n",
    "    required_challenge = pd.DataFrame({i: Interval_challenge.shift(-i) for i in range(10)}).cummax(axis=1)\n",
    "    duration_challenge = pd.DataFrame({i: challenge.up.shift(-i) - challenge.down for i in range(10)})\n",
    "    keys_challenge = pd.DataFrame({i: challenge.key.shift(-i) for i in range(10)}).fillna('').progress_apply(lambda x: ['-'.join(x[:i+2]) for i in x.index], axis=1)\n",
    "\n",
    "    M = (np.array(required_challenge) < orderedInterval[e]).sum(1) - 1\n",
    "    indexes = np.tile(M.transpose(), (1, 1)).transpose()\n",
    "    identity = np.tile(np.arange(10), (1, 1))\n",
    "    selected = np.not_equal(indexes, identity)\n",
    "\n",
    "    return pd.DataFrame({\n",
    "        'A': ma.array(np.tile(np.array(keys_challenge), (1,1,1)), mask=selected)[0].compressed(), \n",
    "        'T': ma.array(np.tile(np.array(duration_challenge), (1,1,1)), mask=selected)[0].compressed()\n",
    "    })"
   ]
  },
  {
   "cell_type": "code",
   "execution_count": 273,
   "metadata": {
    "collapsed": true
   },
   "outputs": [],
   "source": [
    "connor = Am"
   ]
  },
  {
   "cell_type": "code",
   "execution_count": 274,
   "metadata": {},
   "outputs": [
    {
     "data": {
      "application/vnd.jupyter.widget-view+json": {
       "model_id": "98008cdd4443476da8afb5c1a707de8b"
      }
     },
     "metadata": {},
     "output_type": "display_data"
    },
    {
     "name": "stdout",
     "output_type": "stream",
     "text": [
      "\n"
     ]
    },
    {
     "data": {
      "application/vnd.jupyter.widget-view+json": {
       "model_id": "d451e30879a64da1b0671b3fc8c69e96"
      }
     },
     "metadata": {},
     "output_type": "display_data"
    },
    {
     "name": "stdout",
     "output_type": "stream",
     "text": [
      "\n"
     ]
    },
    {
     "name": "stderr",
     "output_type": "stream",
     "text": [
      "/anaconda/lib/python3.6/site-packages/ipykernel_launcher.py:9: RuntimeWarning: invalid value encountered in less\n",
      "  if __name__ == '__main__':\n"
     ]
    }
   ],
   "source": [
    "josh = get_user_seqs('e85b3844-5af0-47ea-bf51-62da4b4efc39')"
   ]
  },
  {
   "cell_type": "code",
   "execution_count": 275,
   "metadata": {},
   "outputs": [
    {
     "data": {
      "application/vnd.jupyter.widget-view+json": {
       "model_id": "f6f9216cb7a64ddab73481f7aed19e66"
      }
     },
     "metadata": {},
     "output_type": "display_data"
    },
    {
     "name": "stdout",
     "output_type": "stream",
     "text": [
      "\n"
     ]
    },
    {
     "data": {
      "application/vnd.jupyter.widget-view+json": {
       "model_id": "5caeba78c1e74888b5d04b2c97a6672c"
      }
     },
     "metadata": {},
     "output_type": "display_data"
    },
    {
     "name": "stdout",
     "output_type": "stream",
     "text": [
      "\n"
     ]
    },
    {
     "name": "stderr",
     "output_type": "stream",
     "text": [
      "/anaconda/lib/python3.6/site-packages/ipykernel_launcher.py:9: RuntimeWarning: invalid value encountered in less\n",
      "  if __name__ == '__main__':\n"
     ]
    }
   ],
   "source": [
    "BK = get_user_seqs('7bb179ed-9f9f-46ce-a403-57e88a92f216')"
   ]
  },
  {
   "cell_type": "code",
   "execution_count": 276,
   "metadata": {},
   "outputs": [
    {
     "data": {
      "application/vnd.jupyter.widget-view+json": {
       "model_id": "348de4ac5fa548d1ab874303ee94e99c"
      }
     },
     "metadata": {},
     "output_type": "display_data"
    },
    {
     "name": "stdout",
     "output_type": "stream",
     "text": [
      "\n"
     ]
    },
    {
     "data": {
      "application/vnd.jupyter.widget-view+json": {
       "model_id": "b6565d0a78db44cc8faf51be8678b44e"
      }
     },
     "metadata": {},
     "output_type": "display_data"
    },
    {
     "name": "stdout",
     "output_type": "stream",
     "text": [
      "\n"
     ]
    },
    {
     "name": "stderr",
     "output_type": "stream",
     "text": [
      "/anaconda/lib/python3.6/site-packages/ipykernel_launcher.py:9: RuntimeWarning: invalid value encountered in less\n",
      "  if __name__ == '__main__':\n"
     ]
    }
   ],
   "source": [
    "tony = get_user_seqs('62042708-5989-4bbf-a106-d7a66281b367')"
   ]
  },
  {
   "cell_type": "code",
   "execution_count": 377,
   "metadata": {},
   "outputs": [
    {
     "data": {
      "application/vnd.jupyter.widget-view+json": {
       "model_id": "a65fdb5a13f64931a06727aeb607a082"
      }
     },
     "metadata": {},
     "output_type": "display_data"
    },
    {
     "data": {
      "application/vnd.jupyter.widget-view+json": {
       "model_id": "4c0dbf37cae4417d9dcebc8b08b926f7"
      }
     },
     "metadata": {},
     "output_type": "display_data"
    },
    {
     "name": "stderr",
     "output_type": "stream",
     "text": [
      "/anaconda/lib/python3.6/site-packages/ipykernel_launcher.py:9: RuntimeWarning: invalid value encountered in less\n",
      "  if __name__ == '__main__':\n"
     ]
    }
   ],
   "source": [
    "connor_short = get_user_seqs('1d63b44d-a7cb-4ee6-b228-b0ff5b7d086f', limit=100)"
   ]
  },
  {
   "cell_type": "code",
   "execution_count": 378,
   "metadata": {},
   "outputs": [
    {
     "data": {
      "application/vnd.jupyter.widget-view+json": {
       "model_id": "089fe6a1cc1f467780c59217d3ecac35"
      }
     },
     "metadata": {},
     "output_type": "display_data"
    },
    {
     "data": {
      "application/vnd.jupyter.widget-view+json": {
       "model_id": "6248bd23698a49b2ab529a7a349ba99e"
      }
     },
     "metadata": {},
     "output_type": "display_data"
    },
    {
     "name": "stderr",
     "output_type": "stream",
     "text": [
      "/anaconda/lib/python3.6/site-packages/ipykernel_launcher.py:9: RuntimeWarning: invalid value encountered in less\n",
      "  if __name__ == '__main__':\n"
     ]
    }
   ],
   "source": [
    "josh_short = get_user_seqs('e85b3844-5af0-47ea-bf51-62da4b4efc39', limit=100)"
   ]
  },
  {
   "cell_type": "code",
   "execution_count": 379,
   "metadata": {},
   "outputs": [
    {
     "data": {
      "text/plain": [
       "0.41715699362871383"
      ]
     },
     "execution_count": 379,
     "metadata": {},
     "output_type": "execute_result"
    }
   ],
   "source": [
    "connor_short.groupby('A').T.apply(get_distance).mean()"
   ]
  },
  {
   "cell_type": "code",
   "execution_count": 380,
   "metadata": {},
   "outputs": [
    {
     "data": {
      "text/plain": [
       "0.542572487710635"
      ]
     },
     "execution_count": 380,
     "metadata": {},
     "output_type": "execute_result"
    }
   ],
   "source": [
    "josh_short.groupby('A').T.apply(get_distance).mean()"
   ]
  },
  {
   "cell_type": "code",
   "execution_count": 277,
   "metadata": {
    "collapsed": true
   },
   "outputs": [],
   "source": [
    "def get_distance(seq, avg=avg, std=std):\n",
    "    if avg.get(seq.name) is None: return 0\n",
    "    else: return np.exp(-np.square((seq-avg[seq.name]))/(2*np.square(std[seq.name]))).mean()"
   ]
  },
  {
   "cell_type": "code",
   "execution_count": 337,
   "metadata": {
    "collapsed": true
   },
   "outputs": [],
   "source": [
    "def diff_user(user):\n",
    "    num = 10\n",
    "    its = 1000\n",
    "    samples = np.array([user.sample(num).groupby('A').T.apply(get_distance).mean() for i in tnrange(its)])\n",
    "    print({\n",
    "        'mean': samples.mean(),\n",
    "        'min': samples.min(),\n",
    "        'max': samples.max(),\n",
    "        'std': samples.std()\n",
    "    })\n",
    "    return pd.Series(samples).hist()"
   ]
  },
  {
   "cell_type": "code",
   "execution_count": 338,
   "metadata": {},
   "outputs": [
    {
     "data": {
      "application/vnd.jupyter.widget-view+json": {
       "model_id": "49bef90fa9bc45d684e8db131fcd6ed2"
      }
     },
     "metadata": {},
     "output_type": "display_data"
    },
    {
     "name": "stdout",
     "output_type": "stream",
     "text": [
      "\n",
      "{'mean': 0.73514328969266063, 'min': 0.40574558586552645, 'max': 0.9450331024070433, 'std': 0.087269735606724269}\n"
     ]
    },
    {
     "data": {
      "text/plain": [
       "<matplotlib.axes._subplots.AxesSubplot at 0x1262b0a20>"
      ]
     },
     "execution_count": 338,
     "metadata": {},
     "output_type": "execute_result"
    },
    {
     "data": {
      "image/png": "[encoded data removed]",
      "text/plain": [
       "<matplotlib.figure.Figure at 0x13ee004e0>"
      ]
     },
     "metadata": {},
     "output_type": "display_data"
    }
   ],
   "source": [
    "diff_user(connor)"
   ]
  },
  {
   "cell_type": "code",
   "execution_count": 339,
   "metadata": {},
   "outputs": [
    {
     "data": {
      "application/vnd.jupyter.widget-view+json": {
       "model_id": "4d9d5ea531744f28be89569de82a49fc"
      }
     },
     "metadata": {},
     "output_type": "display_data"
    },
    {
     "name": "stdout",
     "output_type": "stream",
     "text": [
      "\n",
      "{'mean': 0.4980951942194467, 'min': 0.1526508755013575, 'max': 0.922803662989365, 'std': 0.1217126803359196}\n"
     ]
    },
    {
     "data": {
      "text/plain": [
       "<matplotlib.axes._subplots.AxesSubplot at 0x13c8af240>"
      ]
     },
     "execution_count": 339,
     "metadata": {},
     "output_type": "execute_result"
    },
    {
     "data": {
      "image/png": "[encoded data removed]",
      "text/plain": [
       "<matplotlib.figure.Figure at 0x13b0fa828>"
      ]
     },
     "metadata": {},
     "output_type": "display_data"
    }
   ],
   "source": [
    "diff_user(josh)"
   ]
  },
  {
   "cell_type": "code",
   "execution_count": 340,
   "metadata": {},
   "outputs": [
    {
     "data": {
      "application/vnd.jupyter.widget-view+json": {
       "model_id": "d2a6a0ffb0db4a12b2e137f4fa89c7fd"
      }
     },
     "metadata": {},
     "output_type": "display_data"
    },
    {
     "name": "stdout",
     "output_type": "stream",
     "text": [
      "\n",
      "{'mean': 0.50625267274143282, 'min': 0.13646013025942746, 'max': 0.90816998910067781, 'std': 0.13069734810185263}\n"
     ]
    },
    {
     "data": {
      "text/plain": [
       "<matplotlib.axes._subplots.AxesSubplot at 0x13c8bd400>"
      ]
     },
     "execution_count": 340,
     "metadata": {},
     "output_type": "execute_result"
    },
    {
     "data": {
      "image/png": "[encoded data removed]",
      "text/plain": [
       "<matplotlib.figure.Figure at 0x126270dd8>"
      ]
     },
     "metadata": {},
     "output_type": "display_data"
    }
   ],
   "source": [
    "diff_user(BK)"
   ]
  },
  {
   "cell_type": "code",
   "execution_count": 341,
   "metadata": {},
   "outputs": [
    {
     "data": {
      "application/vnd.jupyter.widget-view+json": {
       "model_id": "ee7f428472b546eda57c757847f47eb0"
      }
     },
     "metadata": {},
     "output_type": "display_data"
    },
    {
     "name": "stdout",
     "output_type": "stream",
     "text": [
      "\n",
      "{'mean': 0.27823177539685812, 'min': 0.0055322568067989412, 'max': 0.66145319638939015, 'std': 0.11088460762952421}\n"
     ]
    },
    {
     "data": {
      "text/plain": [
       "<matplotlib.axes._subplots.AxesSubplot at 0x1262e6b00>"
      ]
     },
     "execution_count": 341,
     "metadata": {},
     "output_type": "execute_result"
    },
    {
     "data": {
      "image/png": "[encoded data removed]",
      "text/plain": [
       "<matplotlib.figure.Figure at 0x125fbbba8>"
      ]
     },
     "metadata": {},
     "output_type": "display_data"
    }
   ],
   "source": [
    "diff_user(tony)"
   ]
  },
  {
   "cell_type": "code",
   "execution_count": 332,
   "metadata": {
    "collapsed": true
   },
   "outputs": [],
   "source": [
    "seq_length = Am.A.apply(lambda x: len(x.split('-')))"
   ]
  },
  {
   "cell_type": "code",
   "execution_count": null,
   "metadata": {
    "collapsed": true
   },
   "outputs": [],
   "source": []
  }
 ],
 "metadata": {
  "kernelspec": {
   "display_name": "Python 3",
   "language": "python",
   "name": "python3"
  },
  "language_info": {
   "codemirror_mode": {
    "name": "ipython",
    "version": 3
   },
   "file_extension": ".py",
   "mimetype": "text/x-python",
   "name": "python",
   "nbconvert_exporter": "python",
   "pygments_lexer": "ipython3",
   "version": "3.6.1"
  }
 },
 "nbformat": 4,
 "nbformat_minor": 2
}
