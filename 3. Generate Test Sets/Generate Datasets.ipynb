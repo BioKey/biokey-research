{
 "cells": [
  {
   "cell_type": "code",
   "execution_count": 1,
   "metadata": {
    "collapsed": true
   },
   "outputs": [],
   "source": [
    "import sys\n",
    "sys.path.append(\"..\")\n",
    "import credentials\n",
    "import os"
   ]
  },
  {
   "cell_type": "code",
   "execution_count": 2,
   "metadata": {
    "collapsed": true
   },
   "outputs": [],
   "source": [
    "%matplotlib inline"
   ]
  },
  {
   "cell_type": "code",
   "execution_count": 3,
   "metadata": {
    "collapsed": true
   },
   "outputs": [],
   "source": [
    "import pandas as pd\n",
    "import numpy as np\n",
    "from tqdm import tqdm_notebook, tqdm\n",
    "from sqlalchemy import create_engine\n",
    "engine = create_engine(credentials.postgres)"
   ]
  },
  {
   "cell_type": "code",
   "execution_count": 4,
   "metadata": {
    "collapsed": true
   },
   "outputs": [],
   "source": [
    "# Basic Connection and Query\n",
    "connection = engine.connect()"
   ]
  },
  {
   "cell_type": "markdown",
   "metadata": {},
   "source": [
    "# Cache Strokes"
   ]
  },
  {
   "cell_type": "code",
   "execution_count": 9,
   "metadata": {
    "collapsed": true
   },
   "outputs": [],
   "source": [
    "force = True\n",
    "if force:\n",
    "    df = pd.read_sql_query(\"SELECT * FROM strokes WHERE user_id='3b57c0d9-2b14-4ec2-8b29-ad4e94811962' ORDER BY key_time\", engine)\n",
    "else:\n",
    "    try: \n",
    "        df = pd.read_csv('output/strokes.csv').sort_values('key_time')\n",
    "    except:\n",
    "        df = pd.read_sql_query('SELECT * FROM strokes ORDER BY key_time', engine)"
   ]
  },
  {
   "cell_type": "markdown",
   "metadata": {},
   "source": [
    "## Cache Each User"
   ]
  },
  {
   "cell_type": "code",
   "execution_count": 10,
   "metadata": {
    "collapsed": true
   },
   "outputs": [],
   "source": [
    "def process_user(user_strokes):\n",
    "    # -------------\n",
    "    # Output Strokes\n",
    "    # -------------\n",
    "    user = user_strokes.user_id.iloc[0]\n",
    "    user_directory = 'output/users/{0}'.format(user)\n",
    "    if not os.path.exists(user_directory):\n",
    "        os.makedirs(user_directory)\n",
    "    user_strokes.drop('user_id', 1).to_csv('{0}/strokes.csv'.format(user_directory), index=False)\n",
    "    # -------------\n",
    "    # Output dwells\n",
    "    # -------------\n",
    "    dwells = pd.DataFrame()\n",
    "    for key, strokes in user_strokes.groupby('key_code'):\n",
    "        # Eliminate non duplicate strokes\n",
    "        strokes = strokes.loc[(strokes.direction != strokes.direction.shift(1))]\n",
    "        # Split up and down actions\n",
    "        down = strokes.loc[strokes.direction == 'd'].reset_index(drop=True)\n",
    "        up = strokes.loc[strokes.direction == 'u'].reset_index(drop=True)\n",
    "        # Filter non-matching strokes\n",
    "        number = np.min([down.count(), up.count()])\n",
    "        down = down.head(number)\n",
    "        up = up.head(number)\n",
    "        # Add to DataFrame\n",
    "        dwells = dwells.append(pd.DataFrame({\n",
    "            'key_code': key,\n",
    "            'down': down.key_time,\n",
    "            'up': up.key_time,\n",
    "            'dwell': up.key_time - down.key_time\n",
    "        }), ignore_index=True)\n",
    "    # Output user's dwells to csv\n",
    "    dwells = dwells.sort_values('down')[['key_code', 'down', 'up', 'dwell']].reset_index(drop=True)\n",
    "    dwells.to_csv('{0}/dwells.csv'.format(user_directory), index=False)\n",
    "    # -------------\n",
    "    # Output flights\n",
    "    # -------------\n",
    "    flights = pd.DataFrame({\n",
    "        'key_orig': dwells.key_code,\n",
    "        'key_dest': dwells.shift(-1).key_code,\n",
    "        'orig_down': dwells.down,\n",
    "        'orig_up': dwells.up,\n",
    "        'dest_down': dwells.shift(-1).down,\n",
    "        'dest_up': dwells.shift(-1).up,\n",
    "        'interval': dwells.shift(-1).down - dwells.up,\n",
    "        'down_to_down': dwells.shift(-1).down - dwells.down,\n",
    "        'up_to_up': dwells.shift(-1).up - dwells.up,\n",
    "        'duration': dwells.shift(-1).up - dwells.down\n",
    "    }).sort_values('orig_down')[['key_orig', 'key_dest', 'orig_down', 'orig_up', 'dest_down', 'dest_up', 'interval', 'down_to_down', 'up_to_up', 'duration']].reset_index(drop=True)\n",
    "    flights.to_csv('{0}/flights.csv'.format(user_directory), index=False)\n",
    "    # Prepare to return\n",
    "    dwells['user_id'] = user\n",
    "    flights['user_id'] = user\n",
    "    return pd.Series({'dwells': dwells, 'flights': flights})\n",
    "\n",
    "def process(strokes):\n",
    "    try:\n",
    "        get_ipython\n",
    "        tqdm_notebook().pandas(desc=\"Loading Data\")\n",
    "    except:\n",
    "        twdm().pandas(desc=\"Loading Data\")\n",
    "    results = strokes.groupby('user_id').progress_apply(process_user)\n",
    "    dwells = pd.concat([i for i in results.dwells], ignore_index=False).sort_values('down')\n",
    "    flights = pd.concat([i for i in results.flights], ignore_index=False).sort_values('orig_down')\n",
    "    return pd.Series({'dwells': dwells, 'flights': flights})"
   ]
  },
  {
   "cell_type": "code",
   "execution_count": 18,
   "metadata": {
    "collapsed": true
   },
   "outputs": [],
   "source": [
    "user_strokes = df\n",
    "user = user_strokes.user_id.iloc[0]\n",
    "# -------------\n",
    "# Output dwells\n",
    "# -------------\n",
    "dwells = pd.DataFrame()\n",
    "for key, strokes in user_strokes.groupby('key_code'):\n",
    "    # Eliminate non duplicate strokes\n",
    "    strokes = strokes.loc[(strokes.direction != strokes.direction.shift(1))]\n",
    "    # Split up and down actions\n",
    "    down = strokes.loc[strokes.direction == 'd'].reset_index(drop=True)\n",
    "    up = strokes.loc[strokes.direction == 'u'].reset_index(drop=True)\n",
    "    # Filter non-matching strokes\n",
    "    number = np.min([down.count(), up.count()])\n",
    "    down = down.head(number)\n",
    "    up = up.head(number)\n",
    "    # Add to DataFrame\n",
    "    dwells = dwells.append(pd.DataFrame({\n",
    "        'key_code': key,\n",
    "        'down': down.key_time,\n",
    "        'up': up.key_time,\n",
    "        'dwell': up.key_time - down.key_time\n",
    "    }), ignore_index=True)\n",
    "# Output user's dwells to csv\n",
    "dwells = dwells.sort_values('down')[['key_code', 'down', 'up', 'dwell']].reset_index(drop=True)"
   ]
  },
  {
   "cell_type": "code",
   "execution_count": 13,
   "metadata": {
    "scrolled": true
   },
   "outputs": [
    {
     "data": {
      "application/vnd.jupyter.widget-view+json": {
       "model_id": "f1e966367428433db71a8b090e39982d"
      }
     },
     "metadata": {},
     "output_type": "display_data"
    },
    {
     "name": "stdout",
     "output_type": "stream",
     "text": [
      "\n"
     ]
    },
    {
     "data": {
      "application/vnd.jupyter.widget-view+json": {
       "model_id": "b03e4e706a3f448dbb91903c0700497e"
      }
     },
     "metadata": {},
     "output_type": "display_data"
    },
    {
     "name": "stdout",
     "output_type": "stream",
     "text": [
      "\n"
     ]
    }
   ],
   "source": [
    "results = process(df)"
   ]
  },
  {
   "cell_type": "code",
   "execution_count": 14,
   "metadata": {},
   "outputs": [
    {
     "data": {
      "text/plain": [
       "<matplotlib.axes._subplots.AxesSubplot at 0x1148b8390>"
      ]
     },
     "execution_count": 14,
     "metadata": {},
     "output_type": "execute_result"
    },
    {
     "data": {
      "image/png": "[encoded data removed]",
      "text/plain": [
       "<matplotlib.figure.Figure at 0x114960a58>"
      ]
     },
     "metadata": {},
     "output_type": "display_data"
    }
   ],
   "source": [
    "results.dwells.dwell.hist()"
   ]
  },
  {
   "cell_type": "code",
   "execution_count": null,
   "metadata": {
    "collapsed": true
   },
   "outputs": [],
   "source": []
  }
 ],
 "metadata": {
  "kernelspec": {
   "display_name": "Python 3",
   "language": "python",
   "name": "python3"
  },
  "language_info": {
   "codemirror_mode": {
    "name": "ipython",
    "version": 3
   },
   "file_extension": ".py",
   "mimetype": "text/x-python",
   "name": "python",
   "nbconvert_exporter": "python",
   "pygments_lexer": "ipython3",
   "version": "3.6.1"
  }
 },
 "nbformat": 4,
 "nbformat_minor": 2
}
