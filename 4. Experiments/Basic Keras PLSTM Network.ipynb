{
 "cells": [
  {
   "cell_type": "code",
   "execution_count": 1,
   "metadata": {
    "nbpresent": {
     "id": "974f7219-e2cc-4eca-bb92-7b672c4284ae"
    }
   },
   "outputs": [
    {
     "name": "stderr",
     "output_type": "stream",
     "text": [
      "/home/ubuntu/anaconda3/envs/tensorflow_p36/lib/python3.6/site-packages/matplotlib/__init__.py:962: UserWarning: Duplicate key in file \"/home/ubuntu/.config/matplotlib/matplotlibrc\", line #2\n",
      "  (fname, cnt))\n",
      "/home/ubuntu/anaconda3/envs/tensorflow_p36/lib/python3.6/site-packages/matplotlib/__init__.py:962: UserWarning: Duplicate key in file \"/home/ubuntu/.config/matplotlib/matplotlibrc\", line #3\n",
      "  (fname, cnt))\n"
     ]
    }
   ],
   "source": [
    "import sys\n",
    "import os\n",
    "sys.path.append(\"..\")\n",
    "from biokey.data import DataInterface\n",
    "import biokey.tools\n",
    "import credentials"
   ]
  },
  {
   "cell_type": "code",
   "execution_count": 2,
   "metadata": {
    "nbpresent": {
     "id": "7f0941c8-34e1-45a3-8b37-fc50777e5bf7"
    }
   },
   "outputs": [],
   "source": [
    "import numpy as np\n",
    "import pandas as pd\n",
    "import datetime\n",
    "import matplotlib.pyplot as plt\n",
    "% matplotlib inline"
   ]
  },
  {
   "cell_type": "code",
   "execution_count": 3,
   "metadata": {
    "nbpresent": {
     "id": "62565a05-a910-485d-b9ee-126be807d30b"
    }
   },
   "outputs": [
    {
     "name": "stdout",
     "output_type": "stream",
     "text": [
      "Loading Data\n",
      "\t- Attempting cache load\n",
      "\t- Loaded strokes from cache\n",
      "Processing Data\n",
      "\t- Attempting cache load\n",
      "\t- Loaded dwell and flight from cache\n",
      "Done Loading\n",
      "\n"
     ]
    }
   ],
   "source": [
    "data = DataInterface(credentials.postgres)"
   ]
  },
  {
   "cell_type": "code",
   "execution_count": 4,
   "metadata": {
    "nbpresent": {
     "id": "c666f574-8f78-4d6a-a222-9155c43e885e"
    }
   },
   "outputs": [],
   "source": [
    "datasets = data.get_user_sets('1d63b44d-a7cb-4ee6-b228-b0ff5b7d086f')\n",
    "datasets.train = biokey.tools.filter_keys(datasets.train)\n",
    "datasets.test = biokey.tools.filter_keys(datasets.test)"
   ]
  },
  {
   "cell_type": "markdown",
   "metadata": {
    "nbpresent": {
     "id": "9e6d8e50-bda9-4cc9-98b2-4318e6cbdbe4"
    }
   },
   "source": [
    "# Form Dwell Sequence Frames"
   ]
  },
  {
   "cell_type": "code",
   "execution_count": 5,
   "metadata": {},
   "outputs": [],
   "source": [
    "def generate_arrays(df):\n",
    "    downsample_rate = 10\n",
    "    train = df.copy()[['key_enum', 'down', 'up', 'is_user']]\n",
    "    train.down = ((df.down - df.down.min())/downsample_rate).round().astype('int64')\n",
    "    train.up = ((df.up - df.down.min())/downsample_rate).round().astype('int64')\n",
    "    train.is_user = (train.is_user).astype('int32')\n",
    "    train['not_user'] = (train.is_user == False).astype('int32')\n",
    "    \n",
    "    sample_freq = 100*60\n",
    "    sample_length = train.up.max()\n",
    "    # only select first n frames\n",
    "    n = 100\n",
    "    sample_length = int(sample_length/sample_freq)*n\n",
    "    num_rows = int(sample_length/sample_freq)\n",
    "    num_keys = train.key_enum.unique().max() + 1\n",
    "\n",
    "    x_series = np.zeros((num_rows*sample_freq , num_keys), dtype='int16')\n",
    "    y_series = np.zeros((num_rows*sample_freq, 3), dtype='int16')\n",
    "    y_series[:,2] = 1 # Set inactive to true\n",
    "    #(is_user, is_imposter, inactive)\n",
    "    for x in train.itertuples():\n",
    "        x_series[x.down:x.up, x.key_enum] = 1\n",
    "        y_series[x.down:x.up, 0] = x.is_user\n",
    "        y_series[x.down:x.up, 1] = x.not_user\n",
    "        y_series[x.down:x.up, 2] = 0\n",
    "    x_batches = np.array(np.array_split(x_series, num_rows))\n",
    "    y_batches = np.array(np.array_split(y_series, num_rows))\n",
    "    y_sample = y_batches.sum(axis=1)\n",
    "    y_sample[:,0] = (y_sample[:,0] > y_sample[:,1]).astype('int16')\n",
    "    y_sample[:,1] = (y_sample[:,0] < y_sample[:,1]).astype('int16')\n",
    "    y_sample[:,2] = ((y_sample[:,0] == 0) & (y_sample[:,1] == 0)).astype('int16')\n",
    "    \n",
    "    return x_batches, y_sample"
   ]
  },
  {
   "cell_type": "code",
   "execution_count": 6,
   "metadata": {},
   "outputs": [],
   "source": [
    "X, Y = generate_arrays(datasets.train)"
   ]
  },
  {
   "cell_type": "code",
   "execution_count": 7,
   "metadata": {},
   "outputs": [],
   "source": [
    "X_test, Y_test = generate_arrays(datasets.test)"
   ]
  },
  {
   "cell_type": "markdown",
   "metadata": {},
   "source": [
    "# Visualize for Fun"
   ]
  },
  {
   "cell_type": "code",
   "execution_count": 8,
   "metadata": {},
   "outputs": [
    {
     "ename": "ValueError",
     "evalue": "need at least one array to concatenate",
     "output_type": "error",
     "traceback": [
      "\u001b[0;31m---------------------------------------------------------------------------\u001b[0m",
      "\u001b[0;31mValueError\u001b[0m                                Traceback (most recent call last)",
      "\u001b[0;32m<ipython-input-8-96e24db9568f>\u001b[0m in \u001b[0;36m<module>\u001b[0;34m()\u001b[0m\n\u001b[1;32m      1\u001b[0m \u001b[0mselect_index\u001b[0m \u001b[0;34m=\u001b[0m \u001b[0;36m1020\u001b[0m\u001b[0;34m\u001b[0m\u001b[0m\n\u001b[1;32m      2\u001b[0m \u001b[0mselect_length\u001b[0m \u001b[0;34m=\u001b[0m \u001b[0;36m5\u001b[0m\u001b[0;34m\u001b[0m\u001b[0m\n\u001b[0;32m----> 3\u001b[0;31m \u001b[0mplt\u001b[0m\u001b[0;34m.\u001b[0m\u001b[0mimshow\u001b[0m\u001b[0;34m(\u001b[0m\u001b[0mnp\u001b[0m\u001b[0;34m.\u001b[0m\u001b[0mconcatenate\u001b[0m\u001b[0;34m(\u001b[0m\u001b[0mX\u001b[0m\u001b[0;34m[\u001b[0m\u001b[0mselect_index\u001b[0m\u001b[0;34m:\u001b[0m\u001b[0mselect_length\u001b[0m\u001b[0;34m+\u001b[0m\u001b[0mselect_index\u001b[0m\u001b[0;34m]\u001b[0m\u001b[0;34m)\u001b[0m\u001b[0;34m.\u001b[0m\u001b[0mT\u001b[0m\u001b[0;34m,\u001b[0m \u001b[0mcmap\u001b[0m\u001b[0;34m=\u001b[0m\u001b[0;34m'hot'\u001b[0m\u001b[0;34m,\u001b[0m \u001b[0minterpolation\u001b[0m\u001b[0;34m=\u001b[0m\u001b[0;34m'nearest'\u001b[0m\u001b[0;34m,\u001b[0m \u001b[0maspect\u001b[0m\u001b[0;34m=\u001b[0m\u001b[0;34m'auto'\u001b[0m\u001b[0;34m)\u001b[0m\u001b[0;34m\u001b[0m\u001b[0m\n\u001b[0m\u001b[1;32m      4\u001b[0m \u001b[0mplt\u001b[0m\u001b[0;34m.\u001b[0m\u001b[0mshow\u001b[0m\u001b[0;34m(\u001b[0m\u001b[0;34m)\u001b[0m\u001b[0;34m\u001b[0m\u001b[0m\n\u001b[1;32m      5\u001b[0m \u001b[0mY\u001b[0m\u001b[0;34m[\u001b[0m\u001b[0mselect_index\u001b[0m\u001b[0;34m:\u001b[0m\u001b[0mselect_length\u001b[0m\u001b[0;34m+\u001b[0m\u001b[0mselect_index\u001b[0m\u001b[0;34m]\u001b[0m\u001b[0;34m\u001b[0m\u001b[0m\n",
      "\u001b[0;31mValueError\u001b[0m: need at least one array to concatenate"
     ]
    }
   ],
   "source": [
    "select_index = 1020\n",
    "select_length = 5\n",
    "plt.imshow(np.concatenate(X[select_index:select_length+select_index]).T, cmap='hot', interpolation='nearest', aspect='auto')\n",
    "plt.show()\n",
    "Y[select_index:select_length+select_index]"
   ]
  },
  {
   "cell_type": "markdown",
   "metadata": {},
   "source": [
    "# Use Keras"
   ]
  },
  {
   "cell_type": "code",
   "execution_count": 8,
   "metadata": {},
   "outputs": [
    {
     "name": "stderr",
     "output_type": "stream",
     "text": [
      "/home/ubuntu/anaconda3/envs/tensorflow_p36/lib/python3.6/site-packages/h5py/__init__.py:36: FutureWarning: Conversion of the second argument of issubdtype from `float` to `np.floating` is deprecated. In future, it will be treated as `np.float64 == np.dtype(float).type`.\n",
      "  from ._conv import register_converters as _register_converters\n",
      "Using TensorFlow backend.\n",
      "/home/ubuntu/anaconda3/envs/tensorflow_p36/lib/python3.6/importlib/_bootstrap.py:219: RuntimeWarning: compiletime version 3.5 of module 'tensorflow.python.framework.fast_tensor_util' does not match runtime version 3.6\n",
      "  return f(*args, **kwds)\n"
     ]
    }
   ],
   "source": [
    "from keras import backend as K\n",
    "from keras.models import Sequential\n",
    "from keras.layers import Dense, LSTM, Dropout\n",
    "from keras.callbacks import TensorBoard\n",
    "from sklearn.metrics import roc_curve, auc\n",
    "from phased_lstm_keras.PhasedLSTM import PhasedLSTM as PLSTM"
   ]
  },
  {
   "cell_type": "code",
   "execution_count": 9,
   "metadata": {},
   "outputs": [],
   "source": [
    "# Parameters\n",
    "learning_rate = 0.001\n",
    "training_epochs = 5\n",
    "batch_size = 100\n",
    "\n",
    "# Network Parameters\n",
    "input_shape = (X.shape[1], X.shape[2])\n",
    "n_hidden_1 = 32 # 1st layer number of features\n",
    "n_hidden_2 = 32 # 2nd layer number of features\n",
    "n_classes = Y.shape[1] # Number of classes to predict"
   ]
  },
  {
   "cell_type": "markdown",
   "metadata": {},
   "source": [
    "# PhasedLSTM"
   ]
  },
  {
   "cell_type": "code",
   "execution_count": null,
   "metadata": {},
   "outputs": [
    {
     "name": "stdout",
     "output_type": "stream",
     "text": [
      "_________________________________________________________________\n",
      "Layer (type)                 Output Shape              Param #   \n",
      "=================================================================\n",
      "phased_lstm_1 (PhasedLSTM)   (None, 32)                7648      \n",
      "_________________________________________________________________\n",
      "dense_1 (Dense)              (None, 3)                 99        \n",
      "=================================================================\n",
      "Total params: 7,747\n",
      "Trainable params: 7,747\n",
      "Non-trainable params: 0\n",
      "_________________________________________________________________\n"
     ]
    }
   ],
   "source": [
    "n_hidden_1 = 32\n",
    "# create model\n",
    "model_PLSTM = Sequential()\n",
    "model_PLSTM.add(PLSTM(n_hidden_1, input_shape=input_shape, implementation=2))\n",
    "model_PLSTM.add(Dense(n_classes, activation='softmax'))\n",
    "# Compile model\n",
    "model_PLSTM.compile(optimizer='rmsprop', loss='categorical_crossentropy', metrics=['accuracy'])\n",
    "model_PLSTM.summary()\n",
    "tbCallBack = TensorBoard(log_dir='./Graph/plstm'+str(n_hidden_1), histogram_freq=0, write_graph=True, write_images=True)"
   ]
  },
  {
   "cell_type": "code",
   "execution_count": null,
   "metadata": {},
   "outputs": [
    {
     "name": "stdout",
     "output_type": "stream",
     "text": [
      "Epoch 1/5\n",
      "1404/1404 [==============================] - 192s 137ms/step - loss: 0.9503 - acc: 0.7358\n",
      "Epoch 2/5\n",
      " 100/1404 [=>............................] - ETA: 2:44 - loss: 0.7166 - acc: 0.7900"
     ]
    }
   ],
   "source": [
    "model_PLSTM.fit(X, Y, epochs=training_epochs, batch_size=batch_size, callbacks=[tbCallBack])\n",
    "model_PLSTM.save('model_plstm'+str(n_hidden_1)+'.h5')"
   ]
  },
  {
   "cell_type": "code",
   "execution_count": null,
   "metadata": {},
   "outputs": [],
   "source": [
    "n_hidden_1 = 256\n",
    "# create model\n",
    "model_PLSTM = Sequential()\n",
    "model_PLSTM.add(PLSTM(n_hidden_1, input_shape=input_shape, implementation=2))\n",
    "model_PLSTM.add(Dense(n_classes, activation='softmax'))\n",
    "# Compile model\n",
    "model_PLSTM.compile(optimizer='rmsprop', loss='categorical_crossentropy', metrics=['accuracy'])\n",
    "model_PLSTM.summary()\n",
    "tbCallBack = TensorBoard(log_dir='./Graph/plstm'+str(n_hidden_1), histogram_freq=0, write_graph=True, write_images=True)"
   ]
  },
  {
   "cell_type": "code",
   "execution_count": null,
   "metadata": {},
   "outputs": [],
   "source": [
    "model_PLSTM.fit(X, Y, epochs=training_epochs, batch_size=batch_size, callbacks=[tbCallBack])\n",
    "model_PLSTM.save('model_plstm'+str(n_hidden_1)+'.h5')"
   ]
  },
  {
   "cell_type": "markdown",
   "metadata": {},
   "source": [
    "# LSTM"
   ]
  },
  {
   "cell_type": "code",
   "execution_count": null,
   "metadata": {},
   "outputs": [],
   "source": [
    "n_hidden_1 = 32\n",
    "# create model\n",
    "model_LSTM = Sequential()\n",
    "model_LSTM.add(PLSTM(n_hidden_1, input_shape=input_shape, implementation=2))\n",
    "model_LSTM.add(Dense(n_classes, activation='softmax'))\n",
    "# Compile model\n",
    "model_LSTM.compile(optimizer='rmsprop', loss='categorical_crossentropy', metrics=['accuracy'])\n",
    "model_LSTM.summary()\n",
    "tbCallBack = TensorBoard(log_dir='./Graph/lstm'+str(n_hidden_1), histogram_freq=0, write_graph=True, write_images=True)"
   ]
  },
  {
   "cell_type": "code",
   "execution_count": null,
   "metadata": {},
   "outputs": [],
   "source": [
    "model_LSTM.fit(X, Y, epochs=training_epochs, batch_size=batch_size, callbacks=[tbCallBack])\n",
    "model_PLSTM.save('model_lstm'+str(n_hidden_1)+'.h5')"
   ]
  },
  {
   "cell_type": "code",
   "execution_count": null,
   "metadata": {},
   "outputs": [],
   "source": [
    "n_hidden_1 = 256\n",
    "# create model\n",
    "model_LSTM = Sequential()\n",
    "model_LSTM.add(PLSTM(n_hidden_1, input_shape=input_shape, implementation=2))\n",
    "model_LSTM.add(Dense(n_classes, activation='softmax'))\n",
    "# Compile model\n",
    "model_LSTM.compile(optimizer='rmsprop', loss='categorical_crossentropy', metrics=['accuracy'])\n",
    "model_LSTM.summary()\n",
    "tbCallBack = TensorBoard(log_dir='./Graph/lstm'+str(n_hidden_1), histogram_freq=0, write_graph=True, write_images=True)"
   ]
  },
  {
   "cell_type": "code",
   "execution_count": null,
   "metadata": {},
   "outputs": [],
   "source": [
    "model_LSTM.fit(X, Y, epochs=training_epochs, batch_size=batch_size, callbacks=[tbCallBack])\n",
    "model_PLSTM.save('model_lstm'+str(n_hidden_1)+'.h5')"
   ]
  },
  {
   "cell_type": "markdown",
   "metadata": {},
   "source": [
    "# Assess Results"
   ]
  },
  {
   "cell_type": "code",
   "execution_count": null,
   "metadata": {},
   "outputs": [],
   "source": [
    "def generate_results(y_test, y_score):\n",
    "    fpr, tpr, _ = roc_curve(y_test, y_score)\n",
    "    roc_auc = auc(fpr, tpr)\n",
    "    plt.figure()\n",
    "    plt.plot(fpr, tpr, label='ROC curve (area = %0.2f)' % roc_auc)\n",
    "    plt.plot([0, 1], [0, 1], 'k--')\n",
    "    plt.xlim([0.0, 1.05])\n",
    "    plt.ylim([0.0, 1.05])\n",
    "    plt.xlabel('False Positive Rate')\n",
    "    plt.ylabel('True Positive Rate')\n",
    "    plt.title('Receiver operating characteristic curve')\n",
    "    plt.show()\n",
    "    print('AUC: %f' % roc_auc)"
   ]
  },
  {
   "cell_type": "code",
   "execution_count": null,
   "metadata": {},
   "outputs": [],
   "source": []
  }
 ],
 "metadata": {
  "kernelspec": {
   "display_name": "Environment (conda_tensorflow_p36)",
   "language": "python",
   "name": "conda_tensorflow_p36"
  },
  "language_info": {
   "codemirror_mode": {
    "name": "ipython",
    "version": 3
   },
   "file_extension": ".py",
   "mimetype": "text/x-python",
   "name": "python",
   "nbconvert_exporter": "python",
   "pygments_lexer": "ipython3",
   "version": "3.6.4"
  }
 },
 "nbformat": 4,
 "nbformat_minor": 2
}
