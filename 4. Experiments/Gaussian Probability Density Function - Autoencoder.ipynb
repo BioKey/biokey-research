{
 "cells": [
  {
   "cell_type": "markdown",
   "metadata": {},
   "source": [
    "# [A continuous identity verification method based on free-text keystroke dynamics](http://ieeexplore.ieee.org.proxy1.lib.uwo.ca/document/7844242/authors)"
   ]
  },
  {
   "cell_type": "code",
   "execution_count": 1,
   "metadata": {},
   "outputs": [
    {
     "name": "stderr",
     "output_type": "stream",
     "text": [
      "/home/ubuntu/anaconda3/envs/tensorflow_p36/lib/python3.6/site-packages/matplotlib/__init__.py:962: UserWarning: Duplicate key in file \"/home/ubuntu/.config/matplotlib/matplotlibrc\", line #2\n",
      "  (fname, cnt))\n",
      "/home/ubuntu/anaconda3/envs/tensorflow_p36/lib/python3.6/site-packages/matplotlib/__init__.py:962: UserWarning: Duplicate key in file \"/home/ubuntu/.config/matplotlib/matplotlibrc\", line #3\n",
      "  (fname, cnt))\n"
     ]
    }
   ],
   "source": [
    "import psycopg2\n",
    "import pandas as pd\n",
    "import sys\n",
    "sys.path.append(\"..\")\n",
    "import credentials\n",
    "import numpy as np\n",
    "from datetime import datetime\n",
    "import time\n",
    "import string\n",
    "from tqdm import tnrange, tqdm_notebook, tqdm\n",
    "from tqdm._tqdm_notebook import tqdm_notebook\n",
    "import numpy.ma as ma\n",
    "from multiprocessing import Pool\n",
    "from scipy.optimize import minimize\n",
    "from biokey.data import DataInterface\n",
    "import biokey.tools\n",
    "from biokey.tools import parallel_process\n",
    "import json\n",
    "import random\n",
    "# This makes plots render inline"
   ]
  },
  {
   "cell_type": "code",
   "execution_count": 2,
   "metadata": {},
   "outputs": [],
   "source": [
    "% matplotlib inline"
   ]
  },
  {
   "cell_type": "code",
   "execution_count": 3,
   "metadata": {},
   "outputs": [
    {
     "name": "stdout",
     "output_type": "stream",
     "text": [
      "Loading Data\n",
      "\t- Attempting cache load\n",
      "\t- Loaded strokes from cache\n",
      "Processing Data\n",
      "\t- Attempting cache load\n",
      "\t- Loaded dwell and flight from cache\n",
      "Done Loading\n",
      "\n"
     ]
    }
   ],
   "source": [
    "data = DataInterface(credentials.postgres)"
   ]
  },
  {
   "cell_type": "code",
   "execution_count": 4,
   "metadata": {},
   "outputs": [],
   "source": [
    "key_press_count = data.get_dwells().key.value_counts()\n",
    "mask = list(string.ascii_uppercase)\n",
    "mask.extend(['ESCAPE', 'ENTER', 'SPACE', 'CONTROL', 'META', 'BACKSPACE', 'SHIFT'])"
   ]
  },
  {
   "cell_type": "code",
   "execution_count": 5,
   "metadata": {},
   "outputs": [],
   "source": [
    "datasets = data.get_all_sets()\n",
    "# for u in datasets:\n",
    "#     datasets[u] = biokey.tools.filter_sets(datasets[u], to_include=mask)"
   ]
  },
  {
   "cell_type": "markdown",
   "metadata": {},
   "source": [
    "# Building Profile Using Threshold"
   ]
  },
  {
   "cell_type": "code",
   "execution_count": 6,
   "metadata": {},
   "outputs": [],
   "source": [
    "from scipy.stats import ttest_ind_from_stats\n",
    "\n",
    "class Node(object):\n",
    "    def __init__(self, name):\n",
    "        self.name = name\n",
    "        self.children = {}\n",
    "        self.stats = None\n",
    "        self.parent = None\n",
    "    def add(self, hash1):\n",
    "        self.children[hash1.name] = hash1\n",
    "        self.parent = self\n",
    "        return hash1\n",
    "    def goto(self, name):\n",
    "        if(name in self.children):\n",
    "            return self.children[name]\n",
    "\n",
    "class Profile(object):\n",
    "    def __init__(self, df, threshold, trim=None):\n",
    "        self.trimmed = trim\n",
    "        self.threshold = threshold\n",
    "        if data is not None and threshold is not None:\n",
    "            self._build_profile(df, threshold)\n",
    "            if trim:\n",
    "                self.profile = self.profile.loc[self.profile['count'] >= trim]\n",
    "                self._build_tree()\n",
    "    \n",
    "    def _build_profile(self, df, t):\n",
    "        df = df.copy()\n",
    "        df['interval'] = (df.shift(-1).down - df.down)\n",
    "        chain = []\n",
    "        inner_queue = []\n",
    "        start = None\n",
    "        seqs = []\n",
    "        count = -1\n",
    "        for row in df.itertuples():\n",
    "            count += 1\n",
    "            row = {\n",
    "                'key': row.key,\n",
    "                'down': row.down,\n",
    "                'up': row.up,\n",
    "                'interval': row.interval,\n",
    "                'count': count\n",
    "            }\n",
    "            if start == None:\n",
    "                # First after threshold\n",
    "                start = row\n",
    "            else:\n",
    "                # Nth after threshold - queue as starters\n",
    "                inner_queue.append(row)\n",
    "            # Add it to the chain\n",
    "            chain.append(str(row['key']))\n",
    "            seqs.append({'seq': '-'.join(chain), 'duration': row['up'] - start['down'], 'start': start['count'], 'end': row['count']})\n",
    "            # If threshold is not met then start again\n",
    "            if row['interval'] > t:\n",
    "                for i in range(len(inner_queue)):\n",
    "                    start = inner_queue[i]\n",
    "                    chain = []\n",
    "                    for r in inner_queue[i:]:\n",
    "                        chain.append(str(row['key']))\n",
    "                        seqs.append({'seq': '-'.join(chain), 'duration': row['up'] - start['down'], 'start': start['count'], 'end': row['count']})\n",
    "                chain = []\n",
    "                inner_queue = []\n",
    "                start = None\n",
    "        # Aggregate sequences\n",
    "        self.seqs = pd.DataFrame(seqs)\n",
    "        s = self.seqs.copy()\n",
    "        s.loc[:,'log_duration'] = np.log(s.duration)\n",
    "        seq_dur = s.groupby('seq').aggregate(['mean', 'std', 'count']).log_duration\n",
    "        # Fill missing values with a proxy\n",
    "        seq_dur['std'] = seq_dur['std'].fillna((seq_dur['std']/seq_dur['mean']).mean()*seq_dur['mean'])\n",
    "        self.profile = seq_dur\n",
    "        self._build_tree()\n",
    "    \n",
    "    def update_profile(self, df):\n",
    "        self.profile = df\n",
    "        self._build_tree()\n",
    "    \n",
    "    def diversify(self, other_profile):\n",
    "        compared_profiles = pd.merge(self.profile, other_profile.profile, left_index=True, right_index=True)\n",
    "        compared_profiles['pvalue'] = compared_profiles.apply((lambda x: ttest_ind_from_stats(x.mean_x, x.std_x, x.count_x, x.mean_y, x.std_y, x.count_y, False).pvalue), axis=1)\n",
    "        new_profile = compared_profiles.loc[compared_profiles.pvalue < 0.05,['mean_x', 'std_x', 'count_x']]\n",
    "        new_profile.columns = ['mean', 'std', 'count']\n",
    "        self.update_profile(new_profile)\n",
    "        \n",
    "    def _build_tree(self):\n",
    "        self.root = Node('root')\n",
    "        for s, row in self.profile.iterrows():\n",
    "            n = self.root\n",
    "            for k in s.split('-'):\n",
    "                new = n.goto(k)\n",
    "                if not new:\n",
    "                    new = n.add(Node(k))\n",
    "                n = new\n",
    "            n.stats = row.to_dict()\n",
    "            \n",
    "    def trim(self, n):\n",
    "        \"Returns a new profile, trimmed to sequences with n instances\"\n",
    "        new_p = Profile(None, self.threshold, n)\n",
    "        new_p.profile = self.profile.loc[self.profile['count'] >= n]\n",
    "        new_p.seqs = self.profile.loc[self.seqs.seq.isin(self.profile.index)]\n",
    "        new_p._build_tree()\n",
    "        return new_p\n",
    "    \n",
    "    def search_tree(self, path):\n",
    "        \"Search tree for the node at a given list path\"\n",
    "        n = self.root\n",
    "        for p in path:\n",
    "            new = n.goto(p)\n",
    "            if not new:\n",
    "                return None\n",
    "            n = new\n",
    "        return n\n",
    "    \n",
    "    def features(self):\n",
    "        return np.array(self.profile.index)\n",
    "\n",
    "    def test_distance(self, path, duration):\n",
    "        \"Returns the probability that a typed path's duration was the profiles's\"\n",
    "        node = self.search_tree(path)\n",
    "        if node is None or node.stats is None:\n",
    "            return -1\n",
    "        stats = node.stats\n",
    "        return np.exp(-np.square((np.log(duration)-stats['mean']))/(2*np.square(stats['std'])))\n",
    "        \n",
    "    def test_window(self, df):\n",
    "        df = df.copy()\n",
    "        df['interval'] = (df.shift(-1).down - df.down)\n",
    "        chain = []\n",
    "        inner_queue = []\n",
    "        start = -1\n",
    "        instances = {}\n",
    "        results = {}\n",
    "        \n",
    "        for f in self.features():\n",
    "            instances[f] = []\n",
    "            results[f] = 0\n",
    "        for row in df.itertuples():\n",
    "            if start == -1:\n",
    "                start = row.down\n",
    "            else:\n",
    "                inner_queue.append(row)\n",
    "            chain.append(str(row.key))\n",
    "            seq = '-'.join(chain)\n",
    "            if seq in instances:\n",
    "                instances[seq].append(self.test_distance(chain, row.up - start))\n",
    "            if row.interval > self.threshold:\n",
    "                for i in range(len(inner_queue)):\n",
    "                    start = inner_queue[i].down\n",
    "                    chain = []\n",
    "                    for r in inner_queue[i:]:\n",
    "                        chain.append(str(r.key))\n",
    "                        seq = '-'.join(chain)\n",
    "                        if seq in instances:\n",
    "                            instances[seq].append(self.test_distance(chain, r.up - start))\n",
    "                chain = []\n",
    "                inner_queue = []\n",
    "                start = -1\n",
    "                \n",
    "        for f in instances:\n",
    "            durations = instances[f]\n",
    "            if len(durations) > 0:\n",
    "                results[f] = np.mean(durations)\n",
    "        return pd.Series(results)"
   ]
  },
  {
   "cell_type": "code",
   "execution_count": 7,
   "metadata": {},
   "outputs": [],
   "source": [
    "userid_valid = data.get_users()[2]\n",
    "train = datasets[userid_valid].train\n",
    "test = datasets[userid_valid].test\n",
    "\n",
    "train_valid = train.loc[train.is_user]\n",
    "train_imposter = train.loc[train.is_user == False]\n",
    "\n",
    "test_valid = test.loc[test.is_user]\n",
    "test_imposter = test.loc[test.is_user == False]\n",
    "\n",
    "# user_threshold = optimals[userid_valid]\n",
    "seq_cutoff_threshold = 150\n",
    "seq_occurance_threshold = 30"
   ]
  },
  {
   "cell_type": "code",
   "execution_count": 8,
   "metadata": {},
   "outputs": [],
   "source": [
    "p = Profile(train_valid, seq_cutoff_threshold, trim=seq_occurance_threshold)"
   ]
  },
  {
   "cell_type": "markdown",
   "metadata": {},
   "source": [
    "## Load Frames"
   ]
  },
  {
   "cell_type": "code",
   "execution_count": 9,
   "metadata": {},
   "outputs": [],
   "source": [
    "frames = json.load(open('windowed_frames_class_40.json'))\n",
    "test_frames = json.load(open('windowed_frames_class_40_test.json'))"
   ]
  },
  {
   "cell_type": "markdown",
   "metadata": {},
   "source": [
    "# Build LSTM Model"
   ]
  },
  {
   "cell_type": "code",
   "execution_count": 10,
   "metadata": {},
   "outputs": [
    {
     "name": "stderr",
     "output_type": "stream",
     "text": [
      "/home/ubuntu/anaconda3/envs/tensorflow_p36/lib/python3.6/site-packages/h5py/__init__.py:36: FutureWarning: Conversion of the second argument of issubdtype from `float` to `np.floating` is deprecated. In future, it will be treated as `np.float64 == np.dtype(float).type`.\n",
      "  from ._conv import register_converters as _register_converters\n",
      "Using TensorFlow backend.\n",
      "/home/ubuntu/anaconda3/envs/tensorflow_p36/lib/python3.6/importlib/_bootstrap.py:219: RuntimeWarning: compiletime version 3.5 of module 'tensorflow.python.framework.fast_tensor_util' does not match runtime version 3.6\n",
      "  return f(*args, **kwds)\n"
     ]
    }
   ],
   "source": [
    "from keras.models import Model\n",
    "from keras.layers import Dense, LSTM, CuDNNLSTM, Dropout, Input, RepeatVector\n",
    "from keras.callbacks import TensorBoard, ModelCheckpoint\n",
    "from sklearn import metrics\n",
    "import matplotlib.pyplot as plt"
   ]
  },
  {
   "cell_type": "code",
   "execution_count": 11,
   "metadata": {},
   "outputs": [],
   "source": [
    "input_features = len(p.features())\n",
    "input_feature_dimensions = 2 # score, count\n",
    "lookback_window = 50\n",
    "\n",
    "num_samples = len(frames) - lookback_window\n",
    "\n",
    "input_shape = (lookback_window, input_feature_dimensions*input_features)\n",
    "\n",
    "num_layers = 2\n",
    "layer_size = 64\n",
    "\n",
    "batch_size = 32\n",
    "\n",
    "output_shape = (1)\n",
    "\n",
    "epochs = 10"
   ]
  },
  {
   "cell_type": "code",
   "execution_count": 12,
   "metadata": {},
   "outputs": [],
   "source": [
    "features = p.features()\n",
    "feature_indexes = {}\n",
    "for i in range(len(features)):\n",
    "    feature_indexes[features[i]] = i"
   ]
  },
  {
   "cell_type": "code",
   "execution_count": 13,
   "metadata": {},
   "outputs": [],
   "source": [
    "# With Count\n",
    "def parse_frame(f, feature_indexes):\n",
    "    y = int(f['y'])\n",
    "    x = np.zeros((len(feature_indexes), 2))\n",
    "    for s in f['x']:\n",
    "        try:\n",
    "            i = feature_indexes[s]\n",
    "            x[i][0] = f['x'][s]['mean']\n",
    "            x[i][1] = f['x'][s]['count']\n",
    "        except:\n",
    "            pass\n",
    "    return x, y\n",
    "\n",
    "def gen_rand_frame(frames, batch_size=64, feature_indexes=feature_indexes):\n",
    "    while True:\n",
    "        batch_x = []\n",
    "        batch_y = []\n",
    "        for i in range(batch_size):\n",
    "            x, y = parse_frame(frames[random.randint(0, len(frames)-1)], feature_indexes)\n",
    "            batch_x.append(x)\n",
    "            batch_y.append(y)\n",
    "        # x = np.array(batch_x).reshape((batch_size, len(feature_indexes)*2))\n",
    "        x = np.array(batch_x)[:,:,0]\n",
    "        yield x, x"
   ]
  },
  {
   "cell_type": "code",
   "execution_count": 29,
   "metadata": {},
   "outputs": [],
   "source": [
    "# With Count\n",
    "def create_window(frames, feature_indexes, start, lookback):\n",
    "    x_vals = []\n",
    "    y = None\n",
    "    for i in range(lookback):\n",
    "        x, y = parse_frame(frames[start+i], feature_indexes)\n",
    "        x_vals.append(x[:,0])\n",
    "    return np.array(x_vals), y\n",
    "\n",
    "def gen_rand_window(frames, feature_indexes, lookback,  batch_size=32):\n",
    "    \"\"\"\n",
    "    Generator to yield inputs and their labels in batches.\n",
    "    \"\"\"\n",
    "    while True:\n",
    "        batch_x = []\n",
    "        batch_y = []\n",
    "        for i in range(batch_size):\n",
    "            x, y = create_window(frames, feature_indexes, random.randint(0, len(frames)-lookback-1), lookback)\n",
    "            batch_x.append(x)\n",
    "            batch_y.append(y)\n",
    "        x = np.array(batch_x)\n",
    "        yield x, x\n",
    "\n",
    "def gen_window_default(frames):\n",
    "    return gen_rand_window(frames, feature_indexes, lookback_window, batch_size)"
   ]
  },
  {
   "cell_type": "code",
   "execution_count": 15,
   "metadata": {},
   "outputs": [],
   "source": [
    "# Deep MLP\n",
    "inputs = Input((input_features,))\n",
    "\n",
    "encoded = Dense(256, activation='relu')(inputs)\n",
    "encoded = Dense(128, activation='relu')(encoded)\n",
    "# encoded = Dense(64, activation='relu')(encoded)\n",
    "# encoded = Dense(32, activation='relu')(encoded)\n",
    "\n",
    "# decoded = Dense(64, activation='relu')(encoded)\n",
    "# decoded = Dense(128, activation='relu')(encoded)\n",
    "decoded = Dense(256, activation='relu')(encoded)\n",
    "decoded = Dense(input_features, activation='sigmoid')(decoded)\n",
    "\n",
    "# compile model\n",
    "autoencoder = Model(inputs, decoded)\n",
    "autoencoder.compile(optimizer='adadelta', loss='binary_crossentropy', metrics=['accuracy'])"
   ]
  },
  {
   "cell_type": "code",
   "execution_count": 120,
   "metadata": {},
   "outputs": [
    {
     "name": "stdout",
     "output_type": "stream",
     "text": [
      "Epoch 1/5\n",
      " 998/1000 [============================>.] - ETA: 0s - loss: 0.1134 - acc: 0.9521\n",
      "Epoch 00001: val_loss improved from inf to 0.08507, saving model to ./gaussian-lstm-models/2018-03-06 15_28_53_619709-weights-01-0.09.hdf5\n",
      "1000/1000 [==============================] - 7s 7ms/step - loss: 0.1133 - acc: 0.9521 - val_loss: 0.0851 - val_acc: 0.9624\n",
      "Epoch 2/5\n",
      " 994/1000 [============================>.] - ETA: 0s - loss: 0.0815 - acc: 0.9632\n",
      "Epoch 00002: val_loss improved from 0.08507 to 0.08073, saving model to ./gaussian-lstm-models/2018-03-06 15_28_53_619709-weights-02-0.08.hdf5\n",
      "1000/1000 [==============================] - 6s 6ms/step - loss: 0.0815 - acc: 0.9632 - val_loss: 0.0807 - val_acc: 0.9620\n",
      "Epoch 3/5\n",
      " 994/1000 [============================>.] - ETA: 0s - loss: 0.0773 - acc: 0.9629\n",
      "Epoch 00003: val_loss improved from 0.08073 to 0.07760, saving model to ./gaussian-lstm-models/2018-03-06 15_28_53_619709-weights-03-0.08.hdf5\n",
      "1000/1000 [==============================] - 6s 6ms/step - loss: 0.0773 - acc: 0.9629 - val_loss: 0.0776 - val_acc: 0.9620\n",
      "Epoch 4/5\n",
      " 998/1000 [============================>.] - ETA: 0s - loss: 0.0747 - acc: 0.9629\n",
      "Epoch 00004: val_loss improved from 0.07760 to 0.07497, saving model to ./gaussian-lstm-models/2018-03-06 15_28_53_619709-weights-04-0.07.hdf5\n",
      "1000/1000 [==============================] - 6s 6ms/step - loss: 0.0747 - acc: 0.9629 - val_loss: 0.0750 - val_acc: 0.9623\n",
      "Epoch 5/5\n",
      " 996/1000 [============================>.] - ETA: 0s - loss: 0.0720 - acc: 0.9631\n",
      "Epoch 00005: val_loss improved from 0.07497 to 0.07229, saving model to ./gaussian-lstm-models/2018-03-06 15_28_53_619709-weights-05-0.07.hdf5\n",
      "1000/1000 [==============================] - 6s 6ms/step - loss: 0.0720 - acc: 0.9631 - val_loss: 0.0723 - val_acc: 0.9624\n"
     ]
    },
    {
     "data": {
      "text/plain": [
       "<keras.callbacks.History at 0x7fb6d7ae7be0>"
      ]
     },
     "execution_count": 120,
     "metadata": {},
     "output_type": "execute_result"
    }
   ],
   "source": [
    "run_name = str(datetime.now()).replace(':','.').replace('.','_')\n",
    "filepath=\"./gaussian-lstm-models/%s-weights-{epoch:02d}-{val_loss:.2f}.hdf5\" % run_name\n",
    "checkpoint = ModelCheckpoint(filepath, monitor='val_loss', verbose=1, save_best_only=True)\n",
    "tbCallBack = TensorBoard(log_dir='./Graph/Gaussian_LSTM_%s/' % run_name, histogram_freq=0, write_graph=True, write_images=True)\n",
    "callbacks_list = [checkpoint, tbCallBack]\n",
    "\n",
    "autoencoder.fit_generator(gen_rand_frame(frames), validation_data=gen_rand_frame(test_frames), validation_steps=200, epochs=5, steps_per_epoch=1000, callbacks=callbacks_list)"
   ]
  },
  {
   "cell_type": "code",
   "execution_count": 30,
   "metadata": {},
   "outputs": [],
   "source": [
    "# Deep LSTM\n",
    "# create model\n",
    "inputs = Input((lookback_window, input_features))\n",
    "# add layers\n",
    "encoded = CuDNNLSTM(64)(inputs)\n",
    "decoded = RepeatVector(lookback_window)(encoded)\n",
    "decoded = CuDNNLSTM(input_features, return_sequences=True)(decoded)\n",
    "\n",
    "# compile model\n",
    "lstm_autoencoder = Model(inputs, decoded)\n",
    "lstm_autoencoder.compile(optimizer='adadelta', loss='binary_crossentropy', metrics=['accuracy'])"
   ]
  },
  {
   "cell_type": "code",
   "execution_count": null,
   "metadata": {},
   "outputs": [
    {
     "name": "stdout",
     "output_type": "stream",
     "text": [
      "Epoch 1/10\n",
      " 998/1000 [============================>.] - ETA: 0s - loss: 0.1133 - acc: 0.9640\n",
      "Epoch 00001: val_loss improved from inf to 0.10694, saving model to ./gaussian-lstm-models/2018-03-06 15_49_36_093350-weights-01-0.11.hdf5\n",
      "1000/1000 [==============================] - 60s 60ms/step - loss: 0.1133 - acc: 0.9640 - val_loss: 0.1069 - val_acc: 0.9629\n",
      "Epoch 2/10\n",
      " 999/1000 [============================>.] - ETA: 0s - loss: 0.0991 - acc: 0.9640\n",
      "Epoch 00002: val_loss improved from 0.10694 to 0.10588, saving model to ./gaussian-lstm-models/2018-03-06 15_49_36_093350-weights-02-0.11.hdf5\n",
      "1000/1000 [==============================] - 58s 58ms/step - loss: 0.0991 - acc: 0.9640 - val_loss: 0.1059 - val_acc: 0.9631\n",
      "Epoch 3/10\n",
      " 999/1000 [============================>.] - ETA: 0s - loss: 0.0912 - acc: 0.9639\n",
      "Epoch 00003: val_loss improved from 0.10588 to 0.09540, saving model to ./gaussian-lstm-models/2018-03-06 15_49_36_093350-weights-03-0.10.hdf5\n",
      "1000/1000 [==============================] - 58s 58ms/step - loss: 0.0912 - acc: 0.9639 - val_loss: 0.0954 - val_acc: 0.9634\n",
      "Epoch 4/10\n",
      " 846/1000 [========================>.....] - ETA: 7s - loss: 0.0887 - acc: 0.9639"
     ]
    }
   ],
   "source": [
    "run_name = str(datetime.now()).replace(':','.').replace('.','_')\n",
    "filepath=\"./gaussian-lstm-models/%s-weights-{epoch:02d}-{val_loss:.2f}.hdf5\" % run_name\n",
    "checkpoint = ModelCheckpoint(filepath, monitor='val_loss', verbose=1, save_best_only=True)\n",
    "tbCallBack = TensorBoard(log_dir='./Graph/Gaussian_LSTM_%s/' % run_name, histogram_freq=0, write_graph=True, write_images=True)\n",
    "callbacks_list = [checkpoint, tbCallBack]\n",
    "\n",
    "lstm_autoencoder.fit_generator(gen_window_default(frames), validation_data=gen_window_default(test_frames), validation_steps=200, epochs=10, steps_per_epoch=1000, callbacks=callbacks_list)"
   ]
  },
  {
   "cell_type": "code",
   "execution_count": 44,
   "metadata": {},
   "outputs": [
    {
     "data": {
      "text/plain": [
       "array([[[ 0.02237167,  0.00387558,  0.00400804, ..., -0.02168353,\n",
       "         -0.0139424 ,  0.06307534],\n",
       "        [ 0.03076789,  0.00233694,  0.00594454, ..., -0.038707  ,\n",
       "         -0.02620566,  0.09553093],\n",
       "        [ 0.03090568, -0.00103678,  0.00640228, ..., -0.05119434,\n",
       "         -0.03696568,  0.11314356],\n",
       "        ...,\n",
       "        [-0.04481667, -0.02125395, -0.00829104, ..., -0.08773251,\n",
       "         -0.0896745 ,  0.15114425],\n",
       "        [-0.04481842, -0.02125397, -0.00829148, ..., -0.08773296,\n",
       "         -0.0896753 ,  0.15114471],\n",
       "        [-0.04481981, -0.02125397, -0.00829183, ..., -0.08773332,\n",
       "         -0.08967594,  0.15114512]],\n",
       "\n",
       "       [[ 0.03646297,  0.0062576 ,  0.00717731, ..., -0.02106157,\n",
       "         -0.01864267,  0.03268223],\n",
       "        [ 0.05420016,  0.00600061,  0.01058725, ..., -0.03315507,\n",
       "         -0.03268186,  0.04714882],\n",
       "        [ 0.06118905,  0.00357995,  0.01218734, ..., -0.04026815,\n",
       "         -0.0428572 ,  0.05391273],\n",
       "        ...,\n",
       "        [ 0.02734142, -0.01227815,  0.00522157, ..., -0.05892977,\n",
       "         -0.07671595,  0.06134235],\n",
       "        [ 0.02734087, -0.01227855,  0.00522127, ..., -0.0589299 ,\n",
       "         -0.07671638,  0.0613423 ],\n",
       "        [ 0.02734045, -0.01227887,  0.00522104, ..., -0.05893001,\n",
       "         -0.07671673,  0.06134224]],\n",
       "\n",
       "       [[ 0.04327299,  0.00664308,  0.00611356, ..., -0.00401882,\n",
       "         -0.00431556,  0.03040467],\n",
       "        [ 0.06771644,  0.0081944 ,  0.01040582, ..., -0.00788014,\n",
       "         -0.00578411,  0.04400695],\n",
       "        [ 0.08048432,  0.00810231,  0.01294867, ..., -0.01096166,\n",
       "         -0.00623491,  0.05025667],\n",
       "        ...,\n",
       "        [ 0.04491495, -0.0002044 ,  0.00484476, ..., -0.02394023,\n",
       "         -0.01760075,  0.05451567],\n",
       "        [ 0.04491188, -0.00020475,  0.00484425, ..., -0.02394055,\n",
       "         -0.01760164,  0.05451563],\n",
       "        [ 0.04490943, -0.00020503,  0.00484384, ..., -0.02394081,\n",
       "         -0.01760236,  0.05451559]],\n",
       "\n",
       "       ...,\n",
       "\n",
       "       [[ 0.05844934,  0.01867652,  0.00267221, ..., -0.02442644,\n",
       "         -0.01967074,  0.07245363],\n",
       "        [ 0.09583281,  0.0248827 ,  0.00645528, ..., -0.04185865,\n",
       "         -0.03426643,  0.1095245 ],\n",
       "        [ 0.11882024,  0.02638167,  0.00988229, ..., -0.05367032,\n",
       "         -0.04548623,  0.12979525],\n",
       "        ...,\n",
       "        [ 0.12282065,  0.02637778,  0.01612264, ..., -0.08172369,\n",
       "         -0.08779843,  0.17261866],\n",
       "        [ 0.12281936,  0.02637769,  0.01612246, ..., -0.08172384,\n",
       "         -0.08779882,  0.17261897],\n",
       "        [ 0.12281838,  0.02637761,  0.01612233, ..., -0.08172395,\n",
       "         -0.08779914,  0.17261925]],\n",
       "\n",
       "       [[ 0.06161169,  0.0197726 ,  0.00831092, ..., -0.00043727,\n",
       "          0.00352563,  0.03173277],\n",
       "        [ 0.0999819 ,  0.03050578,  0.0100536 , ..., -0.00430686,\n",
       "          0.00039208,  0.04883527],\n",
       "        [ 0.12357185,  0.03644194,  0.00908831, ..., -0.00897841,\n",
       "         -0.005162  ,  0.05869035],\n",
       "        ...,\n",
       "        [ 0.1461675 ,  0.04491192, -0.01364834, ..., -0.03685701,\n",
       "         -0.04870028,  0.07976978],\n",
       "        [ 0.14616323,  0.04491161, -0.01364963, ..., -0.03685799,\n",
       "         -0.04870221,  0.07976975],\n",
       "        [ 0.14615968,  0.04491135, -0.0136507 , ..., -0.03685878,\n",
       "         -0.0487038 ,  0.07976973]],\n",
       "\n",
       "       [[ 0.01138636,  0.00021539, -0.00476623, ..., -0.01068273,\n",
       "         -0.00822123,  0.02576236],\n",
       "        [ 0.01632616, -0.00335383, -0.00961991, ..., -0.02173077,\n",
       "         -0.0176651 ,  0.04068958],\n",
       "        [ 0.016241  , -0.00910632, -0.01476311, ..., -0.032357  ,\n",
       "         -0.02853217,  0.04907399],\n",
       "        ...,\n",
       "        [-0.06488301, -0.05795608, -0.07499285, ..., -0.0944794 ,\n",
       "         -0.1486048 ,  0.05968039],\n",
       "        [-0.0648949 , -0.05796503, -0.07500839, ..., -0.0944805 ,\n",
       "         -0.1486102 ,  0.0596773 ],\n",
       "        [-0.06490571, -0.0579743 , -0.07502291, ..., -0.09448233,\n",
       "         -0.14861767,  0.05967523]]], dtype=float32)"
      ]
     },
     "execution_count": 44,
     "metadata": {},
     "output_type": "execute_result"
    }
   ],
   "source": [
    "x, _ = next(gen_window_default(frames))\n",
    "lstm_autoencoder.predict(x)"
   ]
  },
  {
   "cell_type": "markdown",
   "metadata": {},
   "source": [
    "## Test It"
   ]
  },
  {
   "cell_type": "code",
   "execution_count": 18,
   "metadata": {},
   "outputs": [],
   "source": [
    "def far(y_true, y_pred, thresh=0.5):\n",
    "    total_false = np.equal(y_true, 0).astype('int32').sum()\n",
    "    false_accepts = (np.equal(y_true, 0) & np.greater_equal(np.reshape(y_pred, [-1]), thresh).flatten()).sum()\n",
    "    return false_accepts/total_false\n",
    "\n",
    "def frr(y_true, y_pred, thresh=0.5):\n",
    "    total_accept = np.equal(y_true, 1).astype('int32').sum()\n",
    "    false_rejects = (np.equal(y_true, 1) & np.less_equal(np.reshape(y_pred, [-1]), thresh).flatten()).sum()\n",
    "    return false_rejects/total_accept"
   ]
  },
  {
   "cell_type": "code",
   "execution_count": 19,
   "metadata": {},
   "outputs": [],
   "source": [
    "def evaluate(x, y, model, model_path='LSTM Model', index=0, plot=True):\n",
    "    y_pred = model.predict(x)\n",
    "\n",
    "    fpr, tpr, thresholds = metrics.roc_curve(y,  y_pred)\n",
    "    auc = metrics.roc_auc_score(y, y_pred)\n",
    "    plt.plot(fpr,tpr,label=\"LSTM\"+str(index)+\", auc=\"+str(auc))\n",
    "\n",
    "    false_accepts = far(y.flatten(), y_pred.flatten())\n",
    "    false_rejects = frr(y.flatten(), y_pred.flatten())\n",
    "    accuracy = metrics.accuracy_score(y.flatten(), np.round(y_pred.flatten()))\n",
    "    print('Model: %s (FAR: %4f FRR: %4f ACC: %4f)' % (model_path, false_accepts, false_rejects, accuracy))\n",
    "    \n",
    "    if plot:\n",
    "        plt.legend(loc=4)\n",
    "        plt.show()\n",
    "\n",
    "def evaluate_many(x_data, y_data, model_paths):\n",
    "    index = 0\n",
    "    for m in model_paths:\n",
    "        lstm_model.load_weights(m)\n",
    "        evaluate(x_data, y_data, lstm_model, m, index=index, plot=False)\n",
    "        index = index + 1\n",
    "    plt.legend(loc=4)\n",
    "    plt.show()"
   ]
  },
  {
   "cell_type": "code",
   "execution_count": 27,
   "metadata": {},
   "outputs": [],
   "source": [
    "lstm_model.load_weights('./gaussian-lstm-models/2018-03-06 04_24_13_418869-weights-02-0.25.hdf5')"
   ]
  },
  {
   "cell_type": "code",
   "execution_count": 31,
   "metadata": {},
   "outputs": [],
   "source": [
    "x_train, y_train = next(gen_window(frames, feature_indexes, lookback_window, 1000))\n",
    "x_test, y_test = next(gen_window(test_frames, feature_indexes, lookback_window, 1000))"
   ]
  },
  {
   "cell_type": "code",
   "execution_count": 32,
   "metadata": {},
   "outputs": [
    {
     "name": "stdout",
     "output_type": "stream",
     "text": [
      "Model: LSTM Model (FAR: 0.017926 FRR: 0.132420 ACC: 0.957000)\n"
     ]
    },
    {
     "data": {
      "image/png": "[encoded data removed]",
      "text/plain": [
       "<matplotlib.figure.Figure at 0x7fe9d1c9ae10>"
      ]
     },
     "metadata": {},
     "output_type": "display_data"
    }
   ],
   "source": [
    "evaluate(x_train, y_train, lstm_model)"
   ]
  },
  {
   "cell_type": "code",
   "execution_count": 37,
   "metadata": {},
   "outputs": [
    {
     "name": "stdout",
     "output_type": "stream",
     "text": [
      "Model: LSTM Model (FAR: 0.044723 FRR: 0.628118 ACC: 0.698000)\n"
     ]
    },
    {
     "data": {
      "image/png": "[encoded data removed]",
      "text/plain": [
       "<matplotlib.figure.Figure at 0x7fe95cd14b00>"
      ]
     },
     "metadata": {},
     "output_type": "display_data"
    }
   ],
   "source": [
    "evaluate(x_test, y_test, lstm_model)"
   ]
  },
  {
   "cell_type": "code",
   "execution_count": 38,
   "metadata": {},
   "outputs": [
    {
     "data": {
      "application/vnd.jupyter.widget-view+json": {
       "model_id": "d7b4d91ec4d0467babc1c767dc1f998a",
       "version_major": 2,
       "version_minor": 0
      },
      "text/html": [
       "<p>Failed to display Jupyter Widget of type <code>HBox</code>.</p>\n",
       "<p>\n",
       "  If you're reading this message in the Jupyter Notebook or JupyterLab Notebook, it may mean\n",
       "  that the widgets JavaScript is still loading. If this message persists, it\n",
       "  likely means that the widgets JavaScript library is either not installed or\n",
       "  not enabled. See the <a href=\"https://ipywidgets.readthedocs.io/en/stable/user_install.html\">Jupyter\n",
       "  Widgets Documentation</a> for setup instructions.\n",
       "</p>\n",
       "<p>\n",
       "  If you're reading this message in another frontend (for example, a static\n",
       "  rendering on GitHub or <a href=\"https://nbviewer.jupyter.org/\">NBViewer</a>),\n",
       "  it may mean that your frontend doesn't currently support widgets.\n",
       "</p>\n"
      ],
      "text/plain": [
       "HBox(children=(IntProgress(value=0), HTML(value='')))"
      ]
     },
     "metadata": {},
     "output_type": "display_data"
    },
    {
     "name": "stdout",
     "output_type": "stream",
     "text": [
      "\n"
     ]
    }
   ],
   "source": [
    "y_tests = []\n",
    "y_test_preds = []\n",
    "\n",
    "for i in tnrange(100):\n",
    "    x_test, y_test = next(gen_window(test_frames, feature_indexes, lookback_window, 1000))\n",
    "    y_tests.append(y_test)\n",
    "    y_pred = lstm_model.predict(x_test)\n",
    "    y_test_preds.append(y_pred)\n",
    "\n",
    "y_tests = np.array(y_tests).flatten()\n",
    "y_test_preds = np.array(y_test_preds).flatten()"
   ]
  },
  {
   "cell_type": "code",
   "execution_count": 39,
   "metadata": {},
   "outputs": [
    {
     "name": "stdout",
     "output_type": "stream",
     "text": [
      "FAR: 0.044723 FRR: 0.628118 ACC: 0.698000\n"
     ]
    },
    {
     "data": {
      "image/png": "[encoded data removed]",
      "text/plain": [
       "<matplotlib.figure.Figure at 0x7fe9d19d1630>"
      ]
     },
     "metadata": {},
     "output_type": "display_data"
    }
   ],
   "source": [
    "fpr, tpr, thresholds = metrics.roc_curve(y_tests,  y_test_preds)\n",
    "auc = metrics.roc_auc_score(y_tests, y_test_preds)\n",
    "plt.plot(fpr,tpr,label=\"LSTM, auc=\"+str(auc))\n",
    "\n",
    "false_accepts = far(y_tests, y_test_preds)\n",
    "false_rejects = frr(y_tests, y_test_preds)\n",
    "accuracy = metrics.accuracy_score(y_tests, np.round(y_test_preds))\n",
    "print('FAR: %4f FRR: %4f ACC: %4f' % (false_accepts, false_rejects, accuracy))\n",
    "plt.legend(loc=4)\n",
    "plt.show()"
   ]
  },
  {
   "cell_type": "code",
   "execution_count": 42,
   "metadata": {},
   "outputs": [],
   "source": [
    "comp = pd.DataFrame({'predictions': y_test_preds, 'actual': y_tests})"
   ]
  },
  {
   "cell_type": "code",
   "execution_count": 49,
   "metadata": {},
   "outputs": [
    {
     "data": {
      "text/plain": [
       "<matplotlib.axes._subplots.AxesSubplot at 0x7fe9d1a341d0>"
      ]
     },
     "execution_count": 49,
     "metadata": {},
     "output_type": "execute_result"
    },
    {
     "data": {
      "image/png": "[encoded data removed]",
      "text/plain": [
       "<matplotlib.figure.Figure at 0x7fe95cc87400>"
      ]
     },
     "metadata": {},
     "output_type": "display_data"
    }
   ],
   "source": [
    "pd.Series(range(100)).apply(lambda x: (comp.predictions.rolling(x).mean().round() == comp.actual).mean()).plot()"
   ]
  },
  {
   "cell_type": "code",
   "execution_count": null,
   "metadata": {},
   "outputs": [],
   "source": []
  }
 ],
 "metadata": {
  "kernelspec": {
   "display_name": "Environment (conda_tensorflow_p36)",
   "language": "python",
   "name": "conda_tensorflow_p36"
  },
  "language_info": {
   "codemirror_mode": {
    "name": "ipython",
    "version": 3
   },
   "file_extension": ".py",
   "mimetype": "text/x-python",
   "name": "python",
   "nbconvert_exporter": "python",
   "pygments_lexer": "ipython3",
   "version": "3.6.4"
  }
 },
 "nbformat": 4,
 "nbformat_minor": 2
}
