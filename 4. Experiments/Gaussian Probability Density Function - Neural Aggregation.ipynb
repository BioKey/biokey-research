{
 "cells": [
  {
   "cell_type": "markdown",
   "metadata": {},
   "source": [
    "# [A continuous identity verification method based on free-text keystroke dynamics](http://ieeexplore.ieee.org.proxy1.lib.uwo.ca/document/7844242/authors)"
   ]
  },
  {
   "cell_type": "code",
   "execution_count": 1,
   "metadata": {},
   "outputs": [
    {
     "name": "stderr",
     "output_type": "stream",
     "text": [
      "/home/ubuntu/anaconda3/envs/tensorflow_p36/lib/python3.6/site-packages/matplotlib/__init__.py:962: UserWarning: Duplicate key in file \"/home/ubuntu/.config/matplotlib/matplotlibrc\", line #2\n",
      "  (fname, cnt))\n",
      "/home/ubuntu/anaconda3/envs/tensorflow_p36/lib/python3.6/site-packages/matplotlib/__init__.py:962: UserWarning: Duplicate key in file \"/home/ubuntu/.config/matplotlib/matplotlibrc\", line #3\n",
      "  (fname, cnt))\n"
     ]
    }
   ],
   "source": [
    "import psycopg2\n",
    "import pandas as pd\n",
    "import sys\n",
    "sys.path.append(\"..\")\n",
    "import credentials\n",
    "import numpy as np\n",
    "from datetime import datetime\n",
    "import time\n",
    "import string\n",
    "from tqdm import tnrange, tqdm_notebook, tqdm\n",
    "from tqdm._tqdm_notebook import tqdm_notebook\n",
    "import numpy.ma as ma\n",
    "from multiprocessing import Pool\n",
    "from scipy.optimize import minimize\n",
    "from biokey.data import DataInterface\n",
    "import biokey.tools\n",
    "from biokey.tools import parallel_process\n",
    "import json\n",
    "import random\n",
    "# This makes plots render inline"
   ]
  },
  {
   "cell_type": "code",
   "execution_count": 2,
   "metadata": {},
   "outputs": [],
   "source": [
    "% matplotlib inline"
   ]
  },
  {
   "cell_type": "code",
   "execution_count": 3,
   "metadata": {},
   "outputs": [
    {
     "name": "stdout",
     "output_type": "stream",
     "text": [
      "Loading Data\n",
      "\t- Attempting cache load\n",
      "\t- Loaded strokes from cache\n",
      "Processing Data\n",
      "\t- Attempting cache load\n",
      "\t- Loaded dwell and flight from cache\n",
      "Done Loading\n",
      "\n"
     ]
    }
   ],
   "source": [
    "data = DataInterface(credentials.postgres)"
   ]
  },
  {
   "cell_type": "code",
   "execution_count": 4,
   "metadata": {},
   "outputs": [],
   "source": [
    "key_press_count = data.get_dwells().key.value_counts()\n",
    "mask = list(string.ascii_uppercase)\n",
    "mask.extend(['ESCAPE', 'ENTER', 'SPACE', 'CONTROL', 'META', 'BACKSPACE', 'SHIFT'])"
   ]
  },
  {
   "cell_type": "code",
   "execution_count": 5,
   "metadata": {},
   "outputs": [],
   "source": [
    "datasets = data.get_all_sets()\n",
    "# for u in datasets:\n",
    "#     datasets[u] = biokey.tools.filter_sets(datasets[u], to_include=mask)"
   ]
  },
  {
   "cell_type": "markdown",
   "metadata": {},
   "source": [
    "# Building Profile Using Threshold"
   ]
  },
  {
   "cell_type": "code",
   "execution_count": 6,
   "metadata": {},
   "outputs": [],
   "source": [
    "from scipy.stats import ttest_ind_from_stats\n",
    "\n",
    "class Node(object):\n",
    "    def __init__(self, name):\n",
    "        self.name = name\n",
    "        self.children = {}\n",
    "        self.stats = None\n",
    "        self.parent = None\n",
    "    def add(self, hash1):\n",
    "        self.children[hash1.name] = hash1\n",
    "        self.parent = self\n",
    "        return hash1\n",
    "    def goto(self, name):\n",
    "        if(name in self.children):\n",
    "            return self.children[name]\n",
    "\n",
    "class Profile(object):\n",
    "    def __init__(self, df, threshold, trim=None):\n",
    "        self.trimmed = trim\n",
    "        self.threshold = threshold\n",
    "        if data is not None and threshold is not None:\n",
    "            self._build_profile(df, threshold)\n",
    "            if trim:\n",
    "                self.profile = self.profile.loc[self.profile['count'] >= trim]\n",
    "                self._build_tree()\n",
    "    \n",
    "    def _build_profile(self, df, t):\n",
    "        df = df.copy()\n",
    "        df['interval'] = (df.shift(-1).down - df.down)\n",
    "        chain = []\n",
    "        inner_queue = []\n",
    "        start = None\n",
    "        seqs = []\n",
    "        count = -1\n",
    "        for row in df.itertuples():\n",
    "            count += 1\n",
    "            row = {\n",
    "                'key': row.key,\n",
    "                'down': row.down,\n",
    "                'up': row.up,\n",
    "                'interval': row.interval,\n",
    "                'count': count\n",
    "            }\n",
    "            if start == None:\n",
    "                # First after threshold\n",
    "                start = row\n",
    "            else:\n",
    "                # Nth after threshold - queue as starters\n",
    "                inner_queue.append(row)\n",
    "            # Add it to the chain\n",
    "            chain.append(str(row['key']))\n",
    "            seqs.append({'seq': '-'.join(chain), 'duration': row['up'] - start['down'], 'start': start['count'], 'end': row['count']})\n",
    "            # If threshold is not met then start again\n",
    "            if row['interval'] > t:\n",
    "                for i in range(len(inner_queue)):\n",
    "                    start = inner_queue[i]\n",
    "                    chain = []\n",
    "                    for r in inner_queue[i:]:\n",
    "                        chain.append(str(row['key']))\n",
    "                        seqs.append({'seq': '-'.join(chain), 'duration': row['up'] - start['down'], 'start': start['count'], 'end': row['count']})\n",
    "                chain = []\n",
    "                inner_queue = []\n",
    "                start = None\n",
    "        # Aggregate sequences\n",
    "        self.seqs = pd.DataFrame(seqs)\n",
    "        s = self.seqs.copy()\n",
    "        s.loc[:,'log_duration'] = np.log(s.duration)\n",
    "        seq_dur = s.groupby('seq').aggregate(['mean', 'std', 'count']).log_duration\n",
    "        # Fill missing values with a proxy\n",
    "        seq_dur['std'] = seq_dur['std'].fillna((seq_dur['std']/seq_dur['mean']).mean()*seq_dur['mean'])\n",
    "        self.profile = seq_dur\n",
    "        self._build_tree()\n",
    "    \n",
    "    def update_profile(self, df):\n",
    "        self.profile = df\n",
    "        self._build_tree()\n",
    "    \n",
    "    def diversify(self, other_profile):\n",
    "        compared_profiles = pd.merge(self.profile, other_profile.profile, left_index=True, right_index=True)\n",
    "        compared_profiles['pvalue'] = compared_profiles.apply((lambda x: ttest_ind_from_stats(x.mean_x, x.std_x, x.count_x, x.mean_y, x.std_y, x.count_y, False).pvalue), axis=1)\n",
    "        new_profile = compared_profiles.loc[compared_profiles.pvalue < 0.05,['mean_x', 'std_x', 'count_x']]\n",
    "        new_profile.columns = ['mean', 'std', 'count']\n",
    "        self.update_profile(new_profile)\n",
    "        \n",
    "    def _build_tree(self):\n",
    "        self.root = Node('root')\n",
    "        for s, row in self.profile.iterrows():\n",
    "            n = self.root\n",
    "            for k in s.split('-'):\n",
    "                new = n.goto(k)\n",
    "                if not new:\n",
    "                    new = n.add(Node(k))\n",
    "                n = new\n",
    "            n.stats = row.to_dict()\n",
    "            \n",
    "    def trim(self, n):\n",
    "        \"Returns a new profile, trimmed to sequences with n instances\"\n",
    "        new_p = Profile(None, self.threshold, n)\n",
    "        new_p.profile = self.profile.loc[self.profile['count'] >= n]\n",
    "        new_p.seqs = self.profile.loc[self.seqs.seq.isin(self.profile.index)]\n",
    "        new_p._build_tree()\n",
    "        return new_p\n",
    "    \n",
    "    def search_tree(self, path):\n",
    "        \"Search tree for the node at a given list path\"\n",
    "        n = self.root\n",
    "        for p in path:\n",
    "            new = n.goto(p)\n",
    "            if not new:\n",
    "                return None\n",
    "            n = new\n",
    "        return n\n",
    "    \n",
    "    def features(self):\n",
    "        return np.array(self.profile.index)\n",
    "\n",
    "    def test_distance(self, path, duration):\n",
    "        \"Returns the probability that a typed path's duration was the profiles's\"\n",
    "        node = self.search_tree(path)\n",
    "        if node is None or node.stats is None:\n",
    "            return -1\n",
    "        stats = node.stats\n",
    "        return np.exp(-np.square((np.log(duration)-stats['mean']))/(2*np.square(stats['std'])))\n",
    "        \n",
    "    def test_window(self, df):\n",
    "        df = df.copy()\n",
    "        df['interval'] = (df.shift(-1).down - df.down)\n",
    "        chain = []\n",
    "        inner_queue = []\n",
    "        start = -1\n",
    "        instances = {}\n",
    "        results = {}\n",
    "        \n",
    "        for f in self.features():\n",
    "            instances[f] = []\n",
    "            results[f] = 0\n",
    "        for row in df.itertuples():\n",
    "            if start == -1:\n",
    "                start = row.down\n",
    "            else:\n",
    "                inner_queue.append(row)\n",
    "            chain.append(str(row.key))\n",
    "            seq = '-'.join(chain)\n",
    "            if seq in instances:\n",
    "                instances[seq].append(self.test_distance(chain, row.up - start))\n",
    "            if row.interval > self.threshold:\n",
    "                for i in range(len(inner_queue)):\n",
    "                    start = inner_queue[i].down\n",
    "                    chain = []\n",
    "                    for r in inner_queue[i:]:\n",
    "                        chain.append(str(r.key))\n",
    "                        seq = '-'.join(chain)\n",
    "                        if seq in instances:\n",
    "                            instances[seq].append(self.test_distance(chain, r.up - start))\n",
    "                chain = []\n",
    "                inner_queue = []\n",
    "                start = -1\n",
    "                \n",
    "        for f in instances:\n",
    "            durations = instances[f]\n",
    "            if len(durations) > 0:\n",
    "                results[f] = np.mean(durations)\n",
    "        return pd.Series(results)"
   ]
  },
  {
   "cell_type": "code",
   "execution_count": 7,
   "metadata": {},
   "outputs": [],
   "source": [
    "userid_valid = data.get_users()[2]\n",
    "train = datasets[userid_valid].train\n",
    "test = datasets[userid_valid].test\n",
    "\n",
    "train_valid = train.loc[train.is_user]\n",
    "train_imposter = train.loc[train.is_user == False]\n",
    "\n",
    "test_valid = test.loc[test.is_user]\n",
    "test_imposter = test.loc[test.is_user == False]\n",
    "\n",
    "# user_threshold = optimals[userid_valid]\n",
    "seq_cutoff_threshold = 150\n",
    "seq_occurance_threshold = 30"
   ]
  },
  {
   "cell_type": "code",
   "execution_count": 8,
   "metadata": {},
   "outputs": [],
   "source": [
    "p = Profile(train_valid, seq_cutoff_threshold, trim=seq_occurance_threshold)"
   ]
  },
  {
   "cell_type": "markdown",
   "metadata": {},
   "source": [
    "## Build Frames"
   ]
  },
  {
   "cell_type": "code",
   "execution_count": 9,
   "metadata": {},
   "outputs": [],
   "source": [
    "def test_window_indexes(seqs, profile, start, end):\n",
    "    s = seqs.loc[(seqs.start >= start) & (seqs.end < end)].copy()\n",
    "    s['score'] = s.apply((lambda x: profile.test_distance(x.seq.split('-'), x.duration)), axis=1)\n",
    "    s = s.loc[s.score >= 0]\n",
    "    results = s.groupby('seq').score.aggregate(['mean', 'count']).T.to_dict()\n",
    "    '''\n",
    "    for f in profile.features():\n",
    "        if f not in results:\n",
    "            results[f] = {'count': 0, 'mean': 0}\n",
    "    '''\n",
    "    return pd.DataFrame(results).T"
   ]
  },
  {
   "cell_type": "markdown",
   "metadata": {},
   "source": [
    "### Train Frames"
   ]
  },
  {
   "cell_type": "code",
   "execution_count": 9,
   "metadata": {},
   "outputs": [],
   "source": [
    "seqs_all = Profile(train, seq_cutoff_threshold).seqs\n",
    "\n",
    "buffer_length = 40\n",
    "y_vals = list(train.is_user)\n",
    "\n",
    "def test_iter(i):\n",
    "    return {\n",
    "        'x': test_window_indexes(seqs_all, p, i, i + buffer_length).T.to_dict(),\n",
    "        'y': y_vals[i+buffer_length],\n",
    "        'i': i\n",
    "    }\n",
    "\n",
    "# This takes a bit\n",
    "# frames = parallel_process(range(buffer_length, len(y_vals)), test_iter, front_num=1, n_jobs=36)\n",
    "# with open('windowed_frames.json', 'w') as fout:\n",
    "#     json.dump([f for f in frames if type(f) is not ValueError and type(f) is not IndexError and 'i' in f], fout)"
   ]
  },
  {
   "cell_type": "markdown",
   "metadata": {},
   "source": [
    "### Test Frames"
   ]
  },
  {
   "cell_type": "code",
   "execution_count": 10,
   "metadata": {},
   "outputs": [],
   "source": [
    "seqs_all_test = Profile(test, seq_cutoff_threshold).seqs\n",
    "\n",
    "buffer_length = 40\n",
    "y_vals_test = list(test.is_user)\n",
    "\n",
    "def test_iter_test(i):\n",
    "    return {\n",
    "        'x': test_window_indexes(seqs_all_test, p, i, i + buffer_length).T.to_dict(),\n",
    "        'y': y_vals[i+buffer_length],\n",
    "        'i': i\n",
    "    }\n",
    "\n",
    "# test_frames = parallel_process(range(buffer_length, len(y_vals_test)), test_iter_test, front_num=1, n_jobs=16)\n",
    "# with open('windowed_frames_test.json', 'w') as fout:\n",
    "#     json.dump([f for f in test_frames if type(f) is not ValueError and type(f) is not IndexError and 'i' in f], fout)"
   ]
  },
  {
   "cell_type": "markdown",
   "metadata": {},
   "source": [
    "## Load Frames"
   ]
  },
  {
   "cell_type": "code",
   "execution_count": 11,
   "metadata": {},
   "outputs": [],
   "source": [
    "frames = json.load(open('windowed_frames.json'))\n",
    "test_frames = json.load(open('windowed_frames_test.json'))"
   ]
  },
  {
   "cell_type": "markdown",
   "metadata": {},
   "source": [
    "## Test Raw Gaussian Profile"
   ]
  },
  {
   "cell_type": "code",
   "execution_count": 55,
   "metadata": {},
   "outputs": [],
   "source": [
    "def split_windows(df, window_size):\n",
    "    arr = [df.loc[i-window_size:i] for i in tnrange(df.is_user.count())]\n",
    "    X = parallel_process(arr, p.test_window, front_num=0)\n",
    "    Y = df.is_user.astype('int16')\n",
    "    return np.array(X), np.array(Y).reshape(Y.count(),1)\n",
    "\n",
    "# seq_length = 100\n",
    "# x_train, y_train = split_windows(train.head(30000), seq_length)\n",
    "# x_test, y_test = split_windows(test.head(30000), seq_length)"
   ]
  },
  {
   "cell_type": "code",
   "execution_count": 58,
   "metadata": {},
   "outputs": [],
   "source": [
    "x = x_test.copy()\n",
    "x[x == 0] = np.nan\n",
    "\n",
    "scores = []\n",
    "for window in x:\n",
    "    scores.append(np.nanmean(window))\n",
    "scores = np.array(scores)"
   ]
  },
  {
   "cell_type": "code",
   "execution_count": 59,
   "metadata": {},
   "outputs": [
    {
     "data": {
      "image/png": "[encoded data removed]",
      "text/plain": [
       "<matplotlib.figure.Figure at 0x7f086db69cc0>"
      ]
     },
     "metadata": {},
     "output_type": "display_data"
    }
   ],
   "source": [
    "import matplotlib.pyplot as plt\n",
    "import matplotlib.mlab as mlab\n",
    "\n",
    "stats = pd.DataFrame({'result': scores, 'is_user': y_test.flatten()}).groupby('is_user').aggregate(['mean', 'std', 'count'])\n",
    "\n",
    "mu = stats.loc[0]['result']['mean']\n",
    "sigma = stats.loc[0]['result']['std']\n",
    "\n",
    "mu1 = stats.loc[1]['result']['mean']\n",
    "sigma1 = stats.loc[1]['result']['std']\n",
    "\n",
    "x = np.linspace(mu - 3*sigma, mu + 3*sigma, 100)\n",
    "plt.plot(x,mlab.normpdf(x, mu, sigma))\n",
    "\n",
    "x1 = np.linspace(mu1 - 3*sigma1, mu1 + 3*sigma1, 100)\n",
    "plt.plot(x1,mlab.normpdf(x1, mu1, sigma1))\n",
    "\n",
    "plt.show()"
   ]
  },
  {
   "cell_type": "code",
   "execution_count": 60,
   "metadata": {},
   "outputs": [
    {
     "data": {
      "text/plain": [
       "6.554494403177562e-250"
      ]
     },
     "execution_count": 60,
     "metadata": {},
     "output_type": "execute_result"
    }
   ],
   "source": [
    "ttest_ind_from_stats(\n",
    "    stats.loc[0]['result']['mean'], stats.loc[0]['result']['std'], stats.loc[0]['result']['count'],\n",
    "    stats.loc[1]['result']['mean'], stats.loc[1]['result']['std'], stats.loc[1]['result']['count'],\n",
    "False).pvalue"
   ]
  },
  {
   "cell_type": "code",
   "execution_count": 63,
   "metadata": {},
   "outputs": [
    {
     "data": {
      "text/html": [
       "<div>\n",
       "<style scoped>\n",
       "    .dataframe tbody tr th:only-of-type {\n",
       "        vertical-align: middle;\n",
       "    }\n",
       "\n",
       "    .dataframe tbody tr th {\n",
       "        vertical-align: top;\n",
       "    }\n",
       "\n",
       "    .dataframe thead tr th {\n",
       "        text-align: left;\n",
       "    }\n",
       "\n",
       "    .dataframe thead tr:last-of-type th {\n",
       "        text-align: right;\n",
       "    }\n",
       "</style>\n",
       "<table border=\"1\" class=\"dataframe\">\n",
       "  <thead>\n",
       "    <tr>\n",
       "      <th></th>\n",
       "      <th colspan=\"3\" halign=\"left\">result</th>\n",
       "    </tr>\n",
       "    <tr>\n",
       "      <th></th>\n",
       "      <th>mean</th>\n",
       "      <th>std</th>\n",
       "      <th>count</th>\n",
       "    </tr>\n",
       "    <tr>\n",
       "      <th>is_user</th>\n",
       "      <th></th>\n",
       "      <th></th>\n",
       "      <th></th>\n",
       "    </tr>\n",
       "  </thead>\n",
       "  <tbody>\n",
       "    <tr>\n",
       "      <th>0</th>\n",
       "      <td>0.698224</td>\n",
       "      <td>0.069787</td>\n",
       "      <td>19715</td>\n",
       "    </tr>\n",
       "    <tr>\n",
       "      <th>1</th>\n",
       "      <td>0.722471</td>\n",
       "      <td>0.051484</td>\n",
       "      <td>10285</td>\n",
       "    </tr>\n",
       "  </tbody>\n",
       "</table>\n",
       "</div>"
      ],
      "text/plain": [
       "           result                 \n",
       "             mean       std  count\n",
       "is_user                           \n",
       "0        0.698224  0.069787  19715\n",
       "1        0.722471  0.051484  10285"
      ]
     },
     "execution_count": 63,
     "metadata": {},
     "output_type": "execute_result"
    }
   ],
   "source": [
    "stats"
   ]
  },
  {
   "cell_type": "code",
   "execution_count": 61,
   "metadata": {},
   "outputs": [],
   "source": [
    "pred = pd.DataFrame({'result': scores, 'is_user': y_test.flatten()}).dropna()"
   ]
  },
  {
   "cell_type": "code",
   "execution_count": 62,
   "metadata": {},
   "outputs": [
    {
     "data": {
      "text/plain": [
       "[<matplotlib.lines.Line2D at 0x7f08539d32e8>]"
      ]
     },
     "execution_count": 62,
     "metadata": {},
     "output_type": "execute_result"
    },
    {
     "data": {
      "image/png": "[encoded data removed]",
      "text/plain": [
       "<matplotlib.figure.Figure at 0x7f0862329518>"
      ]
     },
     "metadata": {},
     "output_type": "display_data"
    }
   ],
   "source": [
    "fpr, tpr, thresholds = metrics.roc_curve(pred.is_user,  pred.result)\n",
    "auc = metrics.roc_auc_score(pred.is_user, pred.result)\n",
    "plt.plot(fpr,tpr,label=\"LSTM, auc=\"+str(auc))"
   ]
  },
  {
   "cell_type": "markdown",
   "metadata": {},
   "source": [
    "# Build LSTM Model"
   ]
  },
  {
   "cell_type": "code",
   "execution_count": 12,
   "metadata": {},
   "outputs": [
    {
     "name": "stderr",
     "output_type": "stream",
     "text": [
      "/home/ubuntu/anaconda3/envs/tensorflow_p36/lib/python3.6/site-packages/h5py/__init__.py:36: FutureWarning: Conversion of the second argument of issubdtype from `float` to `np.floating` is deprecated. In future, it will be treated as `np.float64 == np.dtype(float).type`.\n",
      "  from ._conv import register_converters as _register_converters\n",
      "Using TensorFlow backend.\n",
      "/home/ubuntu/anaconda3/envs/tensorflow_p36/lib/python3.6/importlib/_bootstrap.py:219: RuntimeWarning: compiletime version 3.5 of module 'tensorflow.python.framework.fast_tensor_util' does not match runtime version 3.6\n",
      "  return f(*args, **kwds)\n"
     ]
    }
   ],
   "source": [
    "from keras.models import Sequential\n",
    "from keras.layers import Dense, LSTM, CuDNNLSTM, Dropout\n",
    "from keras.callbacks import TensorBoard, ModelCheckpoint\n",
    "from sklearn import metrics\n",
    "import matplotlib.pyplot as plt"
   ]
  },
  {
   "cell_type": "code",
   "execution_count": 13,
   "metadata": {},
   "outputs": [],
   "source": [
    "input_features = len(p.features())\n",
    "input_feature_dimensions = 2 # score, count\n",
    "lookback_window = 30\n",
    "\n",
    "num_samples = len(frames) - lookback_window\n",
    "\n",
    "input_shape = (lookback_window, input_feature_dimensions*input_features)\n",
    "\n",
    "num_layers = 2\n",
    "layer_size = 64\n",
    "\n",
    "batch_size = 32\n",
    "\n",
    "output_shape = (1)\n",
    "\n",
    "epochs = 10"
   ]
  },
  {
   "cell_type": "code",
   "execution_count": 14,
   "metadata": {},
   "outputs": [],
   "source": [
    "features = p.features()\n",
    "feature_indexes = {}\n",
    "for i in range(len(features)):\n",
    "    feature_indexes[features[i]] = i"
   ]
  },
  {
   "cell_type": "code",
   "execution_count": 15,
   "metadata": {},
   "outputs": [],
   "source": [
    "def parse_frame(f, feature_indexes):\n",
    "    y = int(f['y'])\n",
    "    x = np.zeros((len(feature_indexes), 2))\n",
    "    for s in f['x']:\n",
    "        i = feature_indexes[s]\n",
    "        x[i][0] = f['x'][s]['mean']\n",
    "        x[i][1] = f['x'][s]['count']\n",
    "    return x, y"
   ]
  },
  {
   "cell_type": "code",
   "execution_count": 16,
   "metadata": {},
   "outputs": [],
   "source": [
    "def create_window(frames, feature_indexes, start, lookback):\n",
    "    x_vals = []\n",
    "    y = None\n",
    "    for i in range(lookback):\n",
    "        x, y = parse_frame(frames[start+i], feature_indexes)\n",
    "        x_vals.append(x)\n",
    "    return np.array(x_vals).reshape((lookback, len(feature_indexes)*2)), y"
   ]
  },
  {
   "cell_type": "code",
   "execution_count": 17,
   "metadata": {},
   "outputs": [],
   "source": [
    "def gen_window(frames, feature_indexes, lookback, batch_size=32):\n",
    "    \"\"\"\n",
    "    Generator to yield inputs and their labels in batches.\n",
    "    \"\"\"\n",
    "    batch_x = []\n",
    "    batch_y = []\n",
    "    for i in range(batch_size):\n",
    "        x, y = create_window(frames, feature_indexes, i, lookback)\n",
    "        batch_x.append(x)\n",
    "        batch_y.append(y)\n",
    "    i = batch_size\n",
    "    while True:\n",
    "        batch_x = batch_x[1:]\n",
    "        batch_y = batch_y[1:]\n",
    "        x, y = create_window(frames, feature_indexes, i, lookback)\n",
    "        batch_x.append(x)\n",
    "        batch_y.append(y)\n",
    "        i = (i + batch_size) % num_samples\n",
    "        yield np.array(batch_x), np.array(batch_y)\n",
    "\n",
    "def gen_rand_window(frames, feature_indexes, lookback, batch_size=32):\n",
    "    \"\"\"\n",
    "    Generator to yield inputs and their labels in batches.\n",
    "    \"\"\"\n",
    "    while True:\n",
    "        batch_x = []\n",
    "        batch_y = []\n",
    "        for i in range(batch_size):\n",
    "            x, y = create_window(frames, feature_indexes, random.randint(0, len(frames)-lookback-1), lookback)\n",
    "            batch_x.append(x)\n",
    "            batch_y.append(y)\n",
    "        yield np.array(batch_x), np.array(batch_y)\n",
    "\n",
    "def gen_window_default(frames):\n",
    "    return gen_rand_window(frames, feature_indexes, lookback_window, batch_size)"
   ]
  },
  {
   "cell_type": "code",
   "execution_count": 52,
   "metadata": {},
   "outputs": [],
   "source": [
    "# create model\n",
    "lstm_model = Sequential()\n",
    "# add layers\n",
    "lstm_model.add(CuDNNLSTM(32, input_shape=input_shape, return_sequences=True))\n",
    "lstm_model.add(Dropout(0.5))\n",
    "# lstm_model.add(CuDNNLSTM(int(layer_size/2), return_sequences=True))\n",
    "# lstm_model.add(Dropout(0.5))\n",
    "lstm_model.add(CuDNNLSTM(8))\n",
    "lstm_model.add(Dropout(0.5))\n",
    "lstm_model.add(Dense(output_shape, activation='sigmoid'))\n",
    "# compile model\n",
    "lstm_model.compile(loss='binary_crossentropy', optimizer='adam', metrics=['accuracy'])"
   ]
  },
  {
   "cell_type": "code",
   "execution_count": 56,
   "metadata": {},
   "outputs": [],
   "source": [
    "# !rm -R ./Graph/Gaussian_LSTM*/*\n",
    "# !rm -R ./gaussian-lstm-models/*"
   ]
  },
  {
   "cell_type": "code",
   "execution_count": 57,
   "metadata": {},
   "outputs": [
    {
     "name": "stdout",
     "output_type": "stream",
     "text": [
      "Epoch 1/10\n",
      "1999/2000 [============================>.] - ETA: 0s - loss: 0.2018 - acc: 0.9345\n",
      "Epoch 00001: val_loss improved from inf to 1.23826, saving model to ./gaussian-lstm-models/2018-03-05 17_19_51_282662-weights-01-1.24.hdf5\n",
      "2000/2000 [==============================] - 75s 38ms/step - loss: 0.2018 - acc: 0.9346 - val_loss: 1.2383 - val_acc: 0.6677\n",
      "Epoch 2/10\n",
      "1999/2000 [============================>.] - ETA: 0s - loss: 0.1573 - acc: 0.9510\n",
      "Epoch 00002: val_loss did not improve\n",
      "2000/2000 [==============================] - 73s 36ms/step - loss: 0.1573 - acc: 0.9510 - val_loss: 1.3333 - val_acc: 0.6758\n",
      "Epoch 3/10\n",
      "1998/2000 [============================>.] - ETA: 0s - loss: 0.1272 - acc: 0.9624\n",
      "Epoch 00003: val_loss did not improve\n",
      "2000/2000 [==============================] - 73s 36ms/step - loss: 0.1271 - acc: 0.9624 - val_loss: 1.4762 - val_acc: 0.6734\n",
      "Epoch 4/10\n",
      "1998/2000 [============================>.] - ETA: 0s - loss: 0.1045 - acc: 0.9690\n",
      "Epoch 00004: val_loss did not improve\n",
      "2000/2000 [==============================] - 72s 36ms/step - loss: 0.1044 - acc: 0.9690 - val_loss: 1.6337 - val_acc: 0.6766\n",
      "Epoch 5/10\n",
      "1999/2000 [============================>.] - ETA: 0s - loss: 0.0922 - acc: 0.9728\n",
      "Epoch 00005: val_loss did not improve\n",
      "2000/2000 [==============================] - 74s 37ms/step - loss: 0.0922 - acc: 0.9728 - val_loss: 1.6824 - val_acc: 0.6917\n",
      "Epoch 6/10\n",
      "1999/2000 [============================>.] - ETA: 0s - loss: 0.0801 - acc: 0.9765\n",
      "Epoch 00006: val_loss did not improve\n",
      "2000/2000 [==============================] - 72s 36ms/step - loss: 0.0801 - acc: 0.9765 - val_loss: 1.8254 - val_acc: 0.6739\n",
      "Epoch 7/10\n",
      "1998/2000 [============================>.] - ETA: 0s - loss: 0.0714 - acc: 0.9801\n",
      "Epoch 00007: val_loss did not improve\n",
      "2000/2000 [==============================] - 72s 36ms/step - loss: 0.0714 - acc: 0.9801 - val_loss: 1.9607 - val_acc: 0.6816\n",
      "Epoch 8/10\n",
      "1998/2000 [============================>.] - ETA: 0s - loss: 0.0646 - acc: 0.9819\n",
      "Epoch 00008: val_loss did not improve\n",
      "2000/2000 [==============================] - 72s 36ms/step - loss: 0.0645 - acc: 0.9819 - val_loss: 2.0474 - val_acc: 0.6672\n",
      "Epoch 9/10\n",
      "1999/2000 [============================>.] - ETA: 0s - loss: 0.0601 - acc: 0.9831\n",
      "Epoch 00009: val_loss did not improve\n",
      "2000/2000 [==============================] - 72s 36ms/step - loss: 0.0602 - acc: 0.9831 - val_loss: 2.1228 - val_acc: 0.6759\n",
      "Epoch 10/10\n",
      "1998/2000 [============================>.] - ETA: 0s - loss: 0.0575 - acc: 0.9839\n",
      "Epoch 00010: val_loss did not improve\n",
      "2000/2000 [==============================] - 72s 36ms/step - loss: 0.0575 - acc: 0.9839 - val_loss: 2.1932 - val_acc: 0.6752\n"
     ]
    },
    {
     "data": {
      "text/plain": [
       "<keras.callbacks.History at 0x7f792c1cbdd8>"
      ]
     },
     "execution_count": 57,
     "metadata": {},
     "output_type": "execute_result"
    }
   ],
   "source": [
    "run_name = str(datetime.now()).replace(':','.').replace('.','_')\n",
    "filepath=\"./gaussian-lstm-models/%s-weights-{epoch:02d}-{val_loss:.2f}.hdf5\" % run_name\n",
    "checkpoint = ModelCheckpoint(filepath, monitor='val_loss', verbose=1, save_best_only=True)\n",
    "tbCallBack = TensorBoard(log_dir='./Graph/Gaussian_LSTM_%s/' % run_name, histogram_freq=0, write_graph=True, write_images=True)\n",
    "callbacks_list = [checkpoint, tbCallBack]\n",
    "\n",
    "lstm_model.fit_generator(gen_window_default(frames), validation_data=gen_window_default(test_frames), validation_steps=500, epochs=10, steps_per_epoch=2000, callbacks=callbacks_list)"
   ]
  },
  {
   "cell_type": "markdown",
   "metadata": {},
   "source": [
    "## Test It"
   ]
  },
  {
   "cell_type": "code",
   "execution_count": 24,
   "metadata": {},
   "outputs": [],
   "source": [
    "def far(y_true, y_pred, thresh=0.5):\n",
    "    total_false = np.equal(y_true, 0).astype('int32').sum()\n",
    "    false_accepts = (np.equal(y_true, 0) & np.greater_equal(np.reshape(y_pred, [-1]), thresh).flatten()).sum()\n",
    "    return false_accepts/total_false\n",
    "\n",
    "def frr(y_true, y_pred, thresh=0.5):\n",
    "    total_accept = np.equal(y_true, 1).astype('int32').sum()\n",
    "    false_rejects = (np.equal(y_true, 1) & np.less_equal(np.reshape(y_pred, [-1]), thresh).flatten()).sum()\n",
    "    return false_rejects/total_accept"
   ]
  },
  {
   "cell_type": "code",
   "execution_count": 26,
   "metadata": {},
   "outputs": [],
   "source": [
    "def evaluate(x, y, model, model_path='LSTM Model', index=0, plot=True):\n",
    "    y_pred = model.predict(x)\n",
    "\n",
    "    fpr, tpr, thresholds = metrics.roc_curve(y,  y_pred)\n",
    "    auc = metrics.roc_auc_score(y, y_pred)\n",
    "    plt.plot(fpr,tpr,label=\"LSTM\"+str(index)+\", auc=\"+str(auc))\n",
    "\n",
    "    false_accepts = far(y.flatten(), y_pred.flatten())\n",
    "    false_rejects = frr(y.flatten(), y_pred.flatten())\n",
    "    accuracy = metrics.accuracy_score(y.flatten(), np.round(y_pred.flatten()))\n",
    "    print('Model: %s (FAR: %4f FRR: %4f ACC: %4f)' % (model_path, false_accepts, false_rejects, accuracy))\n",
    "    \n",
    "    if plot:\n",
    "        plt.legend(loc=4)\n",
    "        plt.show()\n",
    "\n",
    "def evaluate_many(x_data, y_data, model_paths):\n",
    "    index = 0\n",
    "    for m in model_paths:\n",
    "        lstm_model.load_weights(m)\n",
    "        evaluate(x_data, y_data, lstm_model, m, index=index, plot=False)\n",
    "        index = index + 1\n",
    "    plt.legend(loc=4)\n",
    "    plt.show()"
   ]
  },
  {
   "cell_type": "code",
   "execution_count": 29,
   "metadata": {},
   "outputs": [],
   "source": [
    "x_train, y_train = next(gen_rand_window(frames, feature_indexes, lookback_window, 2000))\n",
    "x_test, y_test = next(gen_rand_window(test_frames, feature_indexes, lookback_window, 2000))"
   ]
  },
  {
   "cell_type": "code",
   "execution_count": 38,
   "metadata": {},
   "outputs": [
    {
     "data": {
      "text/plain": [
       "0.256"
      ]
     },
     "execution_count": 38,
     "metadata": {},
     "output_type": "execute_result"
    }
   ],
   "source": [
    "y_test.mean()"
   ]
  },
  {
   "cell_type": "code",
   "execution_count": 30,
   "metadata": {},
   "outputs": [
    {
     "name": "stdout",
     "output_type": "stream",
     "text": [
      "Model: LSTM Model (FAR: 0.002614 FRR: 0.036170 ACC: 0.989500)\n"
     ]
    },
    {
     "data": {
      "image/png": "[encoded data removed]",
      "text/plain": [
       "<matplotlib.figure.Figure at 0x7f7d3e5049e8>"
      ]
     },
     "metadata": {},
     "output_type": "display_data"
    }
   ],
   "source": [
    "evaluate(x_train, y_train, lstm_model)"
   ]
  },
  {
   "cell_type": "code",
   "execution_count": 31,
   "metadata": {},
   "outputs": [
    {
     "name": "stdout",
     "output_type": "stream",
     "text": [
      "Model: LSTM Model (FAR: 0.193548 FRR: 0.703125 ACC: 0.676000)\n"
     ]
    },
    {
     "data": {
      "image/png": "[encoded data removed]",
      "text/plain": [
       "<matplotlib.figure.Figure at 0x7f7d3e28c6d8>"
      ]
     },
     "metadata": {},
     "output_type": "display_data"
    }
   ],
   "source": [
    "evaluate(x_test, y_test, lstm_model)"
   ]
  },
  {
   "cell_type": "code",
   "execution_count": 113,
   "metadata": {},
   "outputs": [
    {
     "name": "stdout",
     "output_type": "stream",
     "text": [
      "Model: ./gaussian-lstm-models/weights-improvement-25-0.98.hdf5 (FAR: 0.203950 FRR: 0.104623 ACC: 0.861880)\n",
      "Model: ./gaussian-lstm-models/weights-improvement-21-0.98.hdf5 (FAR: 0.240541 FRR: 0.094393 ACC: 0.856320)\n",
      "Model: ./gaussian-lstm-models/weights-improvement-20-0.98.hdf5 (FAR: 0.244989 FRR: 0.092492 ACC: 0.856080)\n",
      "Model: ./gaussian-lstm-models/weights-improvement-18-0.98.hdf5 (FAR: 0.244692 FRR: 0.093307 ACC: 0.855640)\n",
      "Model: ./gaussian-lstm-models/weights-improvement-17-0.98.hdf5 (FAR: 0.198968 FRR: 0.106434 ACC: 0.862360)\n",
      "Model: ./gaussian-lstm-models/weights-improvement-15-0.98.hdf5 (FAR: 0.267406 FRR: 0.090832 ACC: 0.849620)\n"
     ]
    },
    {
     "data": {
      "image/png": "[encoded data removed]",
      "text/plain": [
       "<matplotlib.figure.Figure at 0x7f5d29b9bb70>"
      ]
     },
     "metadata": {},
     "output_type": "display_data"
    }
   ],
   "source": [
    "evaluate_many(x_test, y_test, [\n",
    "    './gaussian-lstm-models/weights-improvement-25-0.98.hdf5',\n",
    "    './gaussian-lstm-models/weights-improvement-21-0.98.hdf5',\n",
    "    './gaussian-lstm-models/weights-improvement-20-0.98.hdf5',\n",
    "    './gaussian-lstm-models/weights-improvement-18-0.98.hdf5',\n",
    "    './gaussian-lstm-models/weights-improvement-17-0.98.hdf5',\n",
    "    './gaussian-lstm-models/weights-improvement-15-0.98.hdf5'\n",
    "])s"
   ]
  },
  {
   "cell_type": "code",
   "execution_count": 117,
   "metadata": {},
   "outputs": [
    {
     "name": "stdout",
     "output_type": "stream",
     "text": [
      "Model: ./gaussian-lstm-models/weights-improvement-20-0.98.hdf5 (FAR: 0.244989 FRR: 0.092492 ACC: 0.856080)\n",
      "Model: ./gaussian-lstm-models/weights-improvement-03-0.94.hdf5 (FAR: 0.451844 FRR: 0.054409 ACC: 0.811560)\n",
      "Model: ./gaussian-lstm-models/weights-improvement-05-0.96.hdf5 (FAR: 0.189183 FRR: 0.130062 ACC: 0.850000)\n",
      "Model: ./gaussian-lstm-models/weights-improvement-21-0.98.hdf5 (FAR: 0.240541 FRR: 0.094393 ACC: 0.856320)\n",
      "Model: ./gaussian-lstm-models/weights-improvement-09-0.97.hdf5 (FAR: 0.232001 FRR: 0.103356 ACC: 0.853260)\n",
      "Model: ./gaussian-lstm-models/weights-improvement-18-0.98.hdf5 (FAR: 0.244692 FRR: 0.093307 ACC: 0.855640)\n",
      "Model: ./gaussian-lstm-models/weights-improvement-25-0.98.hdf5 (FAR: 0.203950 FRR: 0.104623 ACC: 0.861880)\n",
      "Model: ./gaussian-lstm-models/weights-improvement-01-0.81.hdf5 (FAR: 0.436900 FRR: 0.049369 ACC: 0.819940)\n",
      "Model: ./gaussian-lstm-models/weights-improvement-13-0.98.hdf5 (FAR: 0.213616 FRR: 0.110719 ACC: 0.854580)\n",
      "Model: ./gaussian-lstm-models/weights-improvement-15-0.98.hdf5 (FAR: 0.267406 FRR: 0.090832 ACC: 0.849620)\n",
      "Model: ./gaussian-lstm-models/weights-improvement-02-0.91.hdf5 (FAR: 0.223698 FRR: 0.085793 ACC: 0.867700)\n",
      "Model: ./gaussian-lstm-models/weights-improvement-07-0.97.hdf5 (FAR: 0.274582 FRR: 0.085521 ACC: 0.850720)\n",
      "Model: ./gaussian-lstm-models/weights-improvement-17-0.98.hdf5 (FAR: 0.198968 FRR: 0.106434 ACC: 0.862360)\n",
      "Model: ./gaussian-lstm-models/weights-improvement-10-0.97.hdf5 (FAR: 0.259222 FRR: 0.095027 ACC: 0.849600)\n",
      "Model: ./gaussian-lstm-models/weights-improvement-06-0.96.hdf5 (FAR: 0.264263 FRR: 0.102299 ACC: 0.843080)\n",
      "Model: ./gaussian-lstm-models/weights-improvement-04-0.96.hdf5 (FAR: 0.395861 FRR: 0.056823 ACC: 0.828840)\n"
     ]
    },
    {
     "data": {
      "image/png": "[encoded data removed]",
      "text/plain": [
       "<matplotlib.figure.Figure at 0x7f5d1ed70940>"
      ]
     },
     "metadata": {},
     "output_type": "display_data"
    }
   ],
   "source": [
    "import glob\n",
    "import os\n",
    "\n",
    "evaluate_many(x_test, y_test,[f for f in glob.glob(os.path.join('./gaussian-lstm-models/', '*.hdf5'))])"
   ]
  },
  {
   "cell_type": "code",
   "execution_count": 101,
   "metadata": {},
   "outputs": [],
   "source": [
    "pd.DataFrame({'actual': y.flatten(), 'predicted': y_pred.flatten()}).to_csv('acutal_predicted_output.csv')"
   ]
  },
  {
   "cell_type": "code",
   "execution_count": null,
   "metadata": {},
   "outputs": [],
   "source": []
  }
 ],
 "metadata": {
  "kernelspec": {
   "display_name": "Environment (conda_tensorflow_p36)",
   "language": "python",
   "name": "conda_tensorflow_p36"
  },
  "language_info": {
   "codemirror_mode": {
    "name": "ipython",
    "version": 3
   },
   "file_extension": ".py",
   "mimetype": "text/x-python",
   "name": "python",
   "nbconvert_exporter": "python",
   "pygments_lexer": "ipython3",
   "version": "3.6.4"
  }
 },
 "nbformat": 4,
 "nbformat_minor": 2
}
