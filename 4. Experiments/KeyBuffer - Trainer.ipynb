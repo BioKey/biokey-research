{
 "cells": [
  {
   "cell_type": "markdown",
   "metadata": {},
   "source": [
    "# [A continuous identity verification method based on free-text keystroke dynamics](http://ieeexplore.ieee.org.proxy1.lib.uwo.ca/document/7844242/authors)"
   ]
  },
  {
   "cell_type": "code",
   "execution_count": 1,
   "metadata": {},
   "outputs": [
    {
     "name": "stderr",
     "output_type": "stream",
     "text": [
      "/home/ubuntu/anaconda3/envs/tensorflow_p36/lib/python3.6/site-packages/matplotlib/__init__.py:962: UserWarning: Duplicate key in file \"/home/ubuntu/.config/matplotlib/matplotlibrc\", line #2\n",
      "  (fname, cnt))\n",
      "/home/ubuntu/anaconda3/envs/tensorflow_p36/lib/python3.6/site-packages/matplotlib/__init__.py:962: UserWarning: Duplicate key in file \"/home/ubuntu/.config/matplotlib/matplotlibrc\", line #3\n",
      "  (fname, cnt))\n"
     ]
    }
   ],
   "source": [
    "import psycopg2\n",
    "import pandas as pd\n",
    "import sys\n",
    "sys.path.append(\"..\")\n",
    "import credentials\n",
    "import numpy as np\n",
    "from datetime import datetime\n",
    "import time\n",
    "import string\n",
    "from tqdm import tnrange, tqdm_notebook, tqdm\n",
    "from tqdm._tqdm_notebook import tqdm_notebook\n",
    "import numpy.ma as ma\n",
    "from multiprocessing import Pool\n",
    "from scipy.optimize import minimize\n",
    "from biokey.data import DataInterface\n",
    "import biokey.tools\n",
    "from biokey.tools import parallel_process\n",
    "import json\n",
    "import random\n",
    "# This makes plots render inline"
   ]
  },
  {
   "cell_type": "code",
   "execution_count": 2,
   "metadata": {},
   "outputs": [],
   "source": [
    "import ujson as json\n",
    "import matplotlib.pyplot as plt\n",
    "import pickle"
   ]
  },
  {
   "cell_type": "code",
   "execution_count": 3,
   "metadata": {},
   "outputs": [],
   "source": [
    "% matplotlib inline"
   ]
  },
  {
   "cell_type": "code",
   "execution_count": 4,
   "metadata": {},
   "outputs": [
    {
     "name": "stdout",
     "output_type": "stream",
     "text": [
      "Loading Data\n",
      "\t- Attempting cache load\n",
      "\t- Loaded strokes from cache\n",
      "Processing Data\n",
      "\t- Attempting cache load\n",
      "\t- Loaded dwell and flight from cache\n",
      "Done Loading\n",
      "\n"
     ]
    }
   ],
   "source": [
    "data = DataInterface(credentials.postgres)"
   ]
  },
  {
   "cell_type": "code",
   "execution_count": 5,
   "metadata": {},
   "outputs": [],
   "source": [
    "key_press_count = data.get_dwells().key.value_counts()\n",
    "mask = list(string.ascii_uppercase)\n",
    "mask.extend(['ESCAPE', 'ENTER', 'SPACE', 'CONTROL', 'META', 'BACKSPACE', 'SHIFT'])"
   ]
  },
  {
   "cell_type": "code",
   "execution_count": 6,
   "metadata": {},
   "outputs": [],
   "source": [
    "datasets = data.get_all_sets()\n",
    "# for u in datasets:\n",
    "#     datasets[u] = biokey.tools.filter_sets(datasets[u], to_include=mask)"
   ]
  },
  {
   "cell_type": "markdown",
   "metadata": {},
   "source": [
    "# Building Profile Using Threshold"
   ]
  },
  {
   "cell_type": "code",
   "execution_count": 7,
   "metadata": {},
   "outputs": [],
   "source": [
    "from scipy.stats import ttest_ind_from_stats\n",
    "\n",
    "class Node(object):\n",
    "    def __init__(self, name):\n",
    "        self.name = name\n",
    "        self.children = {}\n",
    "        self.stats = None\n",
    "        self.parent = None\n",
    "    def add(self, hash1):\n",
    "        self.children[hash1.name] = hash1\n",
    "        self.parent = self\n",
    "        return hash1\n",
    "    def goto(self, name):\n",
    "        if(name in self.children):\n",
    "            return self.children[name]\n",
    "\n",
    "class Profile(object):\n",
    "    def __init__(self, df, threshold, trim=None):\n",
    "        self.trimmed = trim\n",
    "        self.threshold = threshold\n",
    "        if data is not None and threshold is not None:\n",
    "            self._build_profile(df, threshold)\n",
    "            if trim:\n",
    "                self.profile = self.profile.loc[self.profile['count'] >= trim]\n",
    "                self.profile = self.profile.loc[np.array(pd.Series(self.profile.index).apply(lambda x: (len(x.split('-')) <= 3) | (len(set(x.split('-'))) > 1)))]\n",
    "                self._build_tree()\n",
    "    \n",
    "    def _build_profile(self, df, t):\n",
    "        df = df.copy()\n",
    "        df['interval'] = (df.shift(-1).down - df.down)\n",
    "        chain = []\n",
    "        inner_queue = []\n",
    "        start = None\n",
    "        seqs = []\n",
    "        count = -1\n",
    "        for row in df.itertuples():\n",
    "            count += 1\n",
    "            row = {\n",
    "                'key': row.key_code,\n",
    "                'down': row.down,\n",
    "                'up': row.up,\n",
    "                'interval': row.interval,\n",
    "                'count': count\n",
    "            }\n",
    "            if start == None:\n",
    "                # First after threshold\n",
    "                start = row\n",
    "            else:\n",
    "                # Nth after threshold - queue as starters\n",
    "                inner_queue.append(row)\n",
    "            # Add it to the chain\n",
    "            chain.append(str(row['key']))\n",
    "            seqs.append({'seq': '-'.join(chain), 'duration': row['up'] - start['down'], 'start': start['count'], 'end': row['count']})\n",
    "            # If threshold is not met then start again\n",
    "            if row['interval'] > t:\n",
    "                for i in range(len(inner_queue)):\n",
    "                    start = inner_queue[i]\n",
    "                    chain = []\n",
    "                    for r in inner_queue[i:]:\n",
    "                        chain.append(str(row['key']))\n",
    "                        seqs.append({'seq': '-'.join(chain), 'duration': row['up'] - start['down'], 'start': start['count'], 'end': row['count']})\n",
    "                chain = []\n",
    "                inner_queue = []\n",
    "                start = None\n",
    "        # Aggregate sequences\n",
    "        self.seqs = pd.DataFrame(seqs)\n",
    "        s = self.seqs.copy()\n",
    "        s.loc[:,'log_duration'] = np.log(s.duration)\n",
    "        seq_dur = s.groupby('seq').aggregate(['mean', 'std', 'count']).log_duration\n",
    "        # Fill missing values with a proxy\n",
    "        seq_dur['std'] = seq_dur['std'].fillna((seq_dur['std']/seq_dur['mean']).mean()*seq_dur['mean'])\n",
    "        self.profile = seq_dur\n",
    "        self._build_tree()\n",
    "    \n",
    "    def update_profile(self, df):\n",
    "        self.profile = df\n",
    "        self._build_tree()\n",
    "    \n",
    "    def diversify(self, other_profile):\n",
    "        compared_profiles = pd.merge(self.profile, other_profile.profile, left_index=True, right_index=True)\n",
    "        compared_profiles['pvalue'] = compared_profiles.apply((lambda x: ttest_ind_from_stats(x.mean_x, x.std_x, x.count_x, x.mean_y, x.std_y, x.count_y, False).pvalue), axis=1)\n",
    "        new_profile = compared_profiles.loc[compared_profiles.pvalue < 0.05,['mean_x', 'std_x', 'count_x']]\n",
    "        new_profile.columns = ['mean', 'std', 'count']\n",
    "        self.update_profile(new_profile)\n",
    "        \n",
    "    def _build_tree(self):\n",
    "        self.root = Node('root')\n",
    "        for s, row in self.profile.iterrows():\n",
    "            n = self.root\n",
    "            for k in s.split('-'):\n",
    "                new = n.goto(k)\n",
    "                if not new:\n",
    "                    new = n.add(Node(k))\n",
    "                n = new\n",
    "            n.stats = row.to_dict()\n",
    "            \n",
    "    def trim(self, n):\n",
    "        \"Returns a new profile, trimmed to sequences with n instances\"\n",
    "        new_p = Profile(None, self.threshold, n)\n",
    "        new_p.profile = self.profile.loc[self.profile['count'] >= n]\n",
    "        new_p.seqs = self.seqs.loc[self.seqs.seq.isin(self.profile.index)]\n",
    "        new_p._build_tree()\n",
    "        return new_p\n",
    "    \n",
    "    def search_tree(self, path):\n",
    "        \"Search tree for the node at a given list path\"\n",
    "        n = self.root\n",
    "        for p in path:\n",
    "            new = n.goto(p)\n",
    "            if not new:\n",
    "                return None\n",
    "            n = new\n",
    "        return n\n",
    "    \n",
    "    def features(self):\n",
    "        return np.array(self.profile.index)\n",
    "\n",
    "    def test_distance(self, path, duration):\n",
    "        \"Returns the probability that a typed path's duration was the profiles's\"\n",
    "        node = self.search_tree(path)\n",
    "        if node is None or node.stats is None:\n",
    "            return -1\n",
    "        stats = node.stats\n",
    "        return np.exp(-np.square((np.log(duration)-stats['mean']))/(2*np.square(stats['std'])))\n",
    "        \n",
    "    def test_window(self, df):\n",
    "        df = df.copy()\n",
    "        df['interval'] = (df.shift(-1).down - df.down)\n",
    "        chain = []\n",
    "        inner_queue = []\n",
    "        start = -1\n",
    "        instances = {}\n",
    "        results = {}\n",
    "        \n",
    "        for f in self.features():\n",
    "            instances[f] = []\n",
    "            results[f] = 0\n",
    "        for row in df.itertuples():\n",
    "            if start == -1:\n",
    "                start = row.down\n",
    "            else:\n",
    "                inner_queue.append(row)\n",
    "            chain.append(str(row.key))\n",
    "            seq = '-'.join(chain)\n",
    "            if seq in instances:\n",
    "                instances[seq].append(self.test_distance(chain, row.up - start))\n",
    "            if row.interval > self.threshold:\n",
    "                for i in range(len(inner_queue)):\n",
    "                    start = inner_queue[i].down\n",
    "                    chain = []\n",
    "                    for r in inner_queue[i:]:\n",
    "                        chain.append(str(r.key))\n",
    "                        seq = '-'.join(chain)\n",
    "                        if seq in instances:\n",
    "                            instances[seq].append(self.test_distance(chain, r.up - start))\n",
    "                chain = []\n",
    "                inner_queue = []\n",
    "                start = -1\n",
    "                \n",
    "        for f in instances:\n",
    "            durations = instances[f]\n",
    "            if len(durations) > 0:\n",
    "                results[f] = np.mean(durations)\n",
    "        return pd.Series(results)"
   ]
  },
  {
   "cell_type": "code",
   "execution_count": 8,
   "metadata": {},
   "outputs": [],
   "source": [
    "userid_valid = 'e85b3844-5af0-47ea-bf51-62da4b4efc39'\n",
    "userid_valid = '1d63b44d-a7cb-4ee6-b228-b0ff5b7d086f'\n",
    "\n",
    "train = datasets[userid_valid].train\n",
    "test = datasets[userid_valid].test\n",
    "\n",
    "SEQ_THRESHOLD = 150\n",
    "SEQ_OCCURANCE_THRESHOLD = 30"
   ]
  },
  {
   "cell_type": "code",
   "execution_count": 9,
   "metadata": {},
   "outputs": [],
   "source": [
    "p = Profile(train.loc[train.is_user], SEQ_THRESHOLD, trim=SEQ_OCCURANCE_THRESHOLD)"
   ]
  },
  {
   "cell_type": "code",
   "execution_count": 10,
   "metadata": {},
   "outputs": [],
   "source": [
    "def deagg_strokes(df):\n",
    "    df = df.copy()\n",
    "    ups = df[['actual_user','up', 'key_code', 'is_user']]\n",
    "    ups.columns = ['user_id', 'key_time', 'key_code', 'is_user']\n",
    "    ups['direction'] = 'u'\n",
    "\n",
    "    downs = df[['actual_user','down', 'key_code', 'is_user']]\n",
    "    downs.columns = ['user_id', 'key_time', 'key_code', 'is_user']\n",
    "    downs['direction'] = 'd'\n",
    "\n",
    "    return pd.concat([ups, downs], ignore_index=True).sort_values('key_time').reset_index(drop=True)"
   ]
  },
  {
   "cell_type": "code",
   "execution_count": 11,
   "metadata": {},
   "outputs": [
    {
     "name": "stderr",
     "output_type": "stream",
     "text": [
      "/home/ubuntu/anaconda3/envs/tensorflow_p36/lib/python3.6/site-packages/ipykernel/__main__.py:5: SettingWithCopyWarning: \n",
      "A value is trying to be set on a copy of a slice from a DataFrame.\n",
      "Try using .loc[row_indexer,col_indexer] = value instead\n",
      "\n",
      "See the caveats in the documentation: http://pandas.pydata.org/pandas-docs/stable/indexing.html#indexing-view-versus-copy\n",
      "/home/ubuntu/anaconda3/envs/tensorflow_p36/lib/python3.6/site-packages/ipykernel/__main__.py:9: SettingWithCopyWarning: \n",
      "A value is trying to be set on a copy of a slice from a DataFrame.\n",
      "Try using .loc[row_indexer,col_indexer] = value instead\n",
      "\n",
      "See the caveats in the documentation: http://pandas.pydata.org/pandas-docs/stable/indexing.html#indexing-view-versus-copy\n"
     ]
    }
   ],
   "source": [
    "train_strokes = deagg_strokes(train)\n",
    "test_strokes = deagg_strokes(test)"
   ]
  },
  {
   "cell_type": "code",
   "execution_count": 12,
   "metadata": {
    "scrolled": true
   },
   "outputs": [],
   "source": [
    "def get_sequences(strokes):\n",
    "    strokes = strokes.copy()\n",
    "    last_key = None\n",
    "    seq_number = 0\n",
    "    downs = {}\n",
    "    current_seq =  []\n",
    "    running_seqs = {}\n",
    "    SEQ_THRESHOLD = 150\n",
    "    completed_seqences = []\n",
    "    for _, key in tqdm(strokes.iterrows(), total=len(strokes)):\n",
    "        if key.direction == 'd':\n",
    "            new_key = {\n",
    "                'key': key.key_code,\n",
    "                'time': key.key_time,\n",
    "                'seq_number': seq_number\n",
    "            }\n",
    "            seq_number += 1\n",
    "            if last_key is not None and new_key['time'] - last_key['time'] > SEQ_THRESHOLD:\n",
    "                # Not continuing sequence\n",
    "                current_seq = []\n",
    "            current_seq.append(new_key)\n",
    "            running_seqs[key.key_code] = list(current_seq)\n",
    "            last_key = new_key\n",
    "        else:\n",
    "            finished_section = running_seqs[key.key_code]\n",
    "            running_seqs[key.key_code] = None\n",
    "            if finished_section != None:\n",
    "                seq = ''\n",
    "                finish_time = key.key_time\n",
    "                finishing_key = finished_section[-1]\n",
    "                if finishing_key is None:\n",
    "                    pass\n",
    "                else:\n",
    "                    while len(finished_section) > 0:\n",
    "                        start_key = finished_section.pop()\n",
    "                        seq = str(start_key['key']) + ('-' + seq if len(seq) > 0 else '')\n",
    "                        duration = finish_time - start_key['time']\n",
    "                        completed_seqences.append({\n",
    "                            'seq': seq,\n",
    "                            'duration': duration,\n",
    "                            'start': start_key['seq_number'],\n",
    "                            'end': finishing_key['seq_number'],\n",
    "                            'is_user': key.is_user,\n",
    "                            'score': p.test_distance(seq.split('-'), duration)\n",
    "                        })\n",
    "    seqs = pd.DataFrame(completed_seqences)[['seq', 'start', 'end', 'duration', 'score', 'is_user']]\n",
    "    y_vals = seqs.groupby('end').is_user.first().astype(np.int16).to_dict()\n",
    "    return seqs.loc[seqs.score >= 0].reset_index(), y_vals"
   ]
  },
  {
   "cell_type": "code",
   "execution_count": 13,
   "metadata": {},
   "outputs": [
    {
     "name": "stderr",
     "output_type": "stream",
     "text": [
      "  0%|          | 1/1566562 [00:00<61:27:03,  7.08it/s]/home/ubuntu/anaconda3/envs/tensorflow_p36/lib/python3.6/site-packages/ipykernel/__main__.py:124: RuntimeWarning: divide by zero encountered in log\n",
      "100%|██████████| 1566562/1566562 [03:43<00:00, 7006.05it/s]\n",
      "100%|██████████| 1651222/1651222 [03:56<00:00, 6970.93it/s]\n"
     ]
    }
   ],
   "source": [
    "train_seqs, train_y = get_sequences(train_strokes)\n",
    "test_seqs, test_y = get_sequences(test_strokes)"
   ]
  },
  {
   "cell_type": "markdown",
   "metadata": {},
   "source": [
    "# Build Frames"
   ]
  },
  {
   "cell_type": "code",
   "execution_count": 14,
   "metadata": {},
   "outputs": [],
   "source": [
    "def frame_dictionary(seq_to_frame, frame_index):\n",
    "    try:\n",
    "        in_past = seq_to_frame.loc[(seq_to_frame.end < frame_index)]\n",
    "        raw = in_past.loc[in_past.end == frame_index-1].groupby('seq').duration.mean().apply(np.log).to_dict()\n",
    "        start_age = frame_index - in_past.start\n",
    "        r40 = in_past.loc[(start_age <= 40)].groupby('seq').score.mean().to_dict()\n",
    "        r100 =in_past.loc[(start_age <= 100)].groupby('seq').score.mean().to_dict()\n",
    "    except:\n",
    "        return None\n",
    "    return {\n",
    "        'x_raw': raw,\n",
    "        'x_40': r40,\n",
    "        'x_100': r100\n",
    "    }"
   ]
  },
  {
   "cell_type": "code",
   "execution_count": 15,
   "metadata": {},
   "outputs": [],
   "source": [
    "def train_frame(i):\n",
    "    return {\n",
    "        'x': frame_dictionary(train_seqs, i),\n",
    "        'y': train_y[i]\n",
    "    }\n",
    "\n",
    "def test_frame(i):\n",
    "    return {\n",
    "        'x': frame_dictionary(test_seqs, i),\n",
    "        'y': test_y[i]\n",
    "    }"
   ]
  },
  {
   "cell_type": "code",
   "execution_count": null,
   "metadata": {},
   "outputs": [
    {
     "name": "stdout",
     "output_type": "stream",
     "text": [
      "Generating Training Frames\n"
     ]
    },
    {
     "name": "stderr",
     "output_type": "stream",
     "text": [
      "100%|██████████| 1.11M/1.11M [13:56<00:00, 1.33kit/s]   \n",
      "Exception in thread Thread-8:\n",
      "Traceback (most recent call last):\n",
      "  File \"/home/ubuntu/anaconda3/envs/tensorflow_p36/lib/python3.6/threading.py\", line 916, in _bootstrap_inner\n",
      "    self.run()\n",
      "  File \"/home/ubuntu/anaconda3/envs/tensorflow_p36/lib/python3.6/threading.py\", line 864, in run\n",
      "    self._target(*self._args, **self._kwargs)\n",
      "  File \"/home/ubuntu/anaconda3/envs/tensorflow_p36/lib/python3.6/concurrent/futures/process.py\", line 295, in _queue_management_worker\n",
      "    shutdown_worker()\n",
      "  File \"/home/ubuntu/anaconda3/envs/tensorflow_p36/lib/python3.6/concurrent/futures/process.py\", line 253, in shutdown_worker\n",
      "    call_queue.put_nowait(None)\n",
      "  File \"/home/ubuntu/anaconda3/envs/tensorflow_p36/lib/python3.6/multiprocessing/queues.py\", line 129, in put_nowait\n",
      "    return self.put(obj, False)\n",
      "  File \"/home/ubuntu/anaconda3/envs/tensorflow_p36/lib/python3.6/multiprocessing/queues.py\", line 83, in put\n",
      "    raise Full\n",
      "queue.Full\n",
      "\n"
     ]
    }
   ],
   "source": [
    "print('Generating Training Frames')\n",
    "train_frames = parallel_process(range(101, len(train_seqs)), train_frame, front_num=1, n_jobs=36)\n",
    "print('Dumping Training Frames')\n",
    "pickle.dump(train_frames, open('./windowed_train_frames_connor.p', 'wb'))"
   ]
  },
  {
   "cell_type": "code",
   "execution_count": null,
   "metadata": {},
   "outputs": [],
   "source": [
    "print('Generating Testing Frames')\n",
    "test_frames = parallel_process(range(101, len(test_seqs)), test_frame, front_num=1, n_jobs=36)\n",
    "print('Dumping Training Frames')\n",
    "pickle.dump(test_frames, open('./windowed_test_frames_connor.p', 'wb'))"
   ]
  },
  {
   "cell_type": "code",
   "execution_count": 162,
   "metadata": {},
   "outputs": [],
   "source": [
    "train_frames = pickle.load(open('./windowed_train_frames.p', 'rb'))\n",
    "test_frames = pickle.load(open('./windowed_test_frames.p', 'rb'))"
   ]
  },
  {
   "cell_type": "markdown",
   "metadata": {},
   "source": [
    "# Make the Arrays"
   ]
  },
  {
   "cell_type": "code",
   "execution_count": null,
   "metadata": {},
   "outputs": [],
   "source": [
    "gaussian = p.profile[[\"mean\", \"std\"]].rename(columns=lambda c: {\"mean\":\"mean\", \"std\":\"stdev\"}[c])\n",
    "gaussian['i'] = 1\n",
    "gaussian.i = gaussian.i.cumsum()-1\n",
    "gaussian_profile = gaussian.T.to_dict()"
   ]
  },
  {
   "cell_type": "code",
   "execution_count": null,
   "metadata": {},
   "outputs": [],
   "source": [
    "def blowout_frame(f):\n",
    "    result = {\n",
    "        'x': {\n",
    "            'x_raw': np.zeros(len(p.features())),\n",
    "            'x_40': np.full(len(p.features()), 0.5),\n",
    "            'x_100': np.full(len(p.features()), 0.5)\n",
    "        },\n",
    "        'y': f['y']\n",
    "    }\n",
    "    for x in f['x']:\n",
    "        for seq in f['x'][x]:\n",
    "            result['x'][x][int(gaussian_profile[seq]['i'])] = f['x'][x][seq]\n",
    "    return result"
   ]
  },
  {
   "cell_type": "code",
   "execution_count": null,
   "metadata": {},
   "outputs": [],
   "source": [
    "def parse_frame(f, na_val):\n",
    "    array = np.full(len(p.features()), na_val)\n",
    "    for seq in f:\n",
    "        array[int(gaussian_profile[seq]['i'])] = f[seq]\n",
    "    return array"
   ]
  },
  {
   "cell_type": "code",
   "execution_count": null,
   "metadata": {},
   "outputs": [],
   "source": [
    "lookback = 100\n",
    "def generate_frame(frames, index):\n",
    "    # TODO: THIS IS SLOW\n",
    "    arrays = [blowout_frame(f) for f in frames[index-lookback+1:index+1]]\n",
    "    return {\n",
    "        'x_raw': np.array([a['x']['x_raw'] for a in arrays]),\n",
    "        'x_100': np.array([a['x']['x_100'] for a in arrays]),\n",
    "        'x_40': np.array([a['x']['x_40'] for a in arrays])\n",
    "    }, arrays[-1]['y']"
   ]
  },
  {
   "cell_type": "code",
   "execution_count": null,
   "metadata": {},
   "outputs": [],
   "source": [
    "def generate_batch(frames, batch_size=32):\n",
    "    num_samples = len(frames)\n",
    "    while True:\n",
    "        x_raws = []\n",
    "        x_100s = []\n",
    "        x_40s = []\n",
    "        y_vals = []\n",
    "        for i in range(batch_size):\n",
    "            successful = False\n",
    "            attempts = 0\n",
    "            while not successful and attempts < 20:\n",
    "                try:\n",
    "                    index = random.randint(lookback, num_samples-lookback)\n",
    "                    selected = frames[index-lookback+1:index+1]\n",
    "                    # x, y = generate_frame(frames, )\n",
    "                    x_raw = []\n",
    "                    x_100 = []\n",
    "                    x_40 = []\n",
    "                    for f in selected:\n",
    "                        x_raw.append(parse_frame(f['x']['x_raw'], 0))\n",
    "                        x_100.append(parse_frame(f['x']['x_100'], 0.5))\n",
    "                        x_40.append(parse_frame(f['x']['x_40'], 0.5))\n",
    "                    y = frames[index]['y']\n",
    "                    successful = True\n",
    "                    x_raws.append(x_raw)\n",
    "                    x_100s.append(x_100)\n",
    "                    x_40s.append(x_40)\n",
    "                    y_vals.append(y)\n",
    "                except Exception as err:\n",
    "                    attempts += 1\n",
    "                    pass\n",
    "        yield {\n",
    "            'x_raw': np.array(x_raws),\n",
    "            'x_100': np.array(x_100s),\n",
    "            'x_40': np.array(x_40s)\n",
    "        }, np.array(y_vals)"
   ]
  },
  {
   "cell_type": "code",
   "execution_count": 182,
   "metadata": {},
   "outputs": [],
   "source": [
    "def generate_seq(frames, batch_size=32):\n",
    "    num_samples = len(frames)\n",
    "    x_raws = []\n",
    "    x_100s = []\n",
    "    x_40s = []\n",
    "    y_vals = []\n",
    "    index = lookback\n",
    "    for i in range(batch_size):\n",
    "        successful = False\n",
    "        attempts = 0\n",
    "        while not successful and attempts < 20:\n",
    "            try:\n",
    "                selected = frames[index-lookback+1:index+1]\n",
    "                # x, y = generate_frame(frames, )\n",
    "                x_raw = []\n",
    "                x_100 = []\n",
    "                x_40 = []\n",
    "                for f in selected:\n",
    "                    x_raw.append(parse_frame(f['x']['x_raw'], 0))\n",
    "                    x_100.append(parse_frame(f['x']['x_100'], 0.5))\n",
    "                    x_40.append(parse_frame(f['x']['x_40'], 0.5))\n",
    "                y = frames[index]['y']\n",
    "                successful = True\n",
    "                x_raws.append(x_raw)\n",
    "                x_100s.append(x_100)\n",
    "                x_40s.append(x_40)\n",
    "                y_vals.append(y)\n",
    "            except Exception as err:\n",
    "                attempts += 1\n",
    "                pass\n",
    "        index += 1\n",
    "    return {\n",
    "        'x_raw': np.array(x_raws),\n",
    "        'x_100': np.array(x_100s),\n",
    "        'x_40': np.array(x_40s)\n",
    "    }, np.array(y_vals)"
   ]
  },
  {
   "cell_type": "code",
   "execution_count": 184,
   "metadata": {},
   "outputs": [
    {
     "data": {
      "text/plain": [
       "(100, 353)"
      ]
     },
     "execution_count": 184,
     "metadata": {},
     "output_type": "execute_result"
    }
   ],
   "source": [
    "generate_seq(train_frames, 1)[0]['x_100'][0].shape"
   ]
  },
  {
   "cell_type": "markdown",
   "metadata": {},
   "source": [
    "# Neural Net"
   ]
  },
  {
   "cell_type": "code",
   "execution_count": 167,
   "metadata": {},
   "outputs": [],
   "source": [
    "from keras.models import Model\n",
    "from keras.layers import Dense, LSTM, CuDNNLSTM, Dropout, Input, concatenate\n",
    "from keras.callbacks import TensorBoard, ModelCheckpoint\n",
    "from sklearn import metrics\n",
    "import matplotlib.pyplot as plt"
   ]
  },
  {
   "cell_type": "code",
   "execution_count": 168,
   "metadata": {},
   "outputs": [],
   "source": [
    "input_features = len(p.features())\n",
    "input_feature_dimensions = 2 # score, count\n",
    "lookback_window = 100\n",
    "\n",
    "input_shape = (lookback_window, input_features)\n",
    "\n",
    "output_shape = (1)"
   ]
  },
  {
   "cell_type": "code",
   "execution_count": 169,
   "metadata": {},
   "outputs": [],
   "source": [
    "# create model\n",
    "input_100 = Input(input_shape, name='x_100')\n",
    "# lstm_100 = CuDNNLSTM(32, return_sequences=True)(input_100)\n",
    "lstm_100 = LSTM(32)(input_100)\n",
    "\n",
    "input_40 = Input(input_shape, name='x_40')\n",
    "# lstm_40 = CuDNNLSTM(32, return_sequences=True)(input_40)\n",
    "lstm_40 = LSTM(32)(input_40)\n",
    "\n",
    "input_raw = Input(input_shape, name='x_raw')\n",
    "# lstm_raw = CuDNNLSTM(32, return_sequences=True)(input_raw)\n",
    "lstm_raw = LSTM(32)(input_raw)\n",
    "\n",
    "# input_interval = Input((1,), name='interval')\n",
    "# lstm_interval = CuDNNLSTM(32)(input_interval)\n",
    "\n",
    "merge_layer = concatenate([lstm_100, lstm_40, lstm_raw])\n",
    "\n",
    "# Deep Connected Layer\n",
    "# merge_layer = Dense(64, activation='tanh')(merge_layer)\n",
    "# merge_layer = Dense(64, activation='tanh')(merge_layer)\n",
    "merge_layer = Dense(64, activation='tanh')(merge_layer)\n",
    "\n",
    "merge_layer = Dense(32, activation='tanh')(merge_layer)\n",
    "merge_layer = Dense(16, activation='tanh')(merge_layer)\n",
    "\n",
    "output = Dense(output_shape, activation='sigmoid')(merge_layer)\n",
    "\n",
    "ensemble_model = Model(inputs=[input_100, input_40, input_raw], outputs=[output])\n",
    "\n",
    "# compile model\n",
    "ensemble_model.compile(loss='binary_crossentropy', optimizer='adam', metrics=['accuracy'])"
   ]
  },
  {
   "cell_type": "code",
   "execution_count": null,
   "metadata": {},
   "outputs": [],
   "source": [
    "run_name = str(datetime.now()).replace(':','.').replace('.','_')\n",
    "filepath=\"./gaussian-lstm-models/%s-weights-connor-{epoch:02d}-{val_loss:.2f}.hdf5\" % run_name\n",
    "checkpoint = ModelCheckpoint(filepath, monitor='val_loss', verbose=1, save_best_only=True, mode='min')\n",
    "tbCallBack = TensorBoard(log_dir='./Graph/LSTM_Connor_Ensemble_%s/' % run_name, histogram_freq=0, write_graph=True, write_images=True)\n",
    "callbacks_list = [checkpoint, tbCallBack]\n",
    "\n",
    "ensemble_model.fit_generator(generate_batch(train_frames), validation_data=generate_batch(test_frames), validation_steps=100, epochs=10, steps_per_epoch=500, callbacks=callbacks_list)\n"
   ]
  },
  {
   "cell_type": "code",
   "execution_count": null,
   "metadata": {},
   "outputs": [],
   "source": [
    "ensemble_model.fit_generator(generate_batch(train_frames), validation_data=generate_batch(test_frames), validation_steps=100, epochs=10, steps_per_epoch=500, callbacks=callbacks_list)\n"
   ]
  },
  {
   "cell_type": "code",
   "execution_count": null,
   "metadata": {},
   "outputs": [],
   "source": [
    "def get_model(model):\n",
    "    gaussian = p.profile[[\"mean\", \"std\"]].rename(columns=lambda c: {\"mean\":\"mean\", \"std\":\"stdev\"}[c])\n",
    "    gaussian['i'] = 1\n",
    "    gaussian.i = gaussian.i.cumsum()-1\n",
    "    gaussian\n",
    "    return {\n",
    "        'model': model.get_config(),\n",
    "        'weights': [w.tolist() for w in model.get_weights()],\n",
    "        'gaussianProfile': gaussian.T.to_dict()\n",
    "    }\n",
    "encoded_model = get_model(ensemble_model)\n",
    "with open('./keras-model-test/ensemble-small-connor.json', 'w') as fout:\n",
    "        json.dump(encoded_model, fout)"
   ]
  },
  {
   "cell_type": "code",
   "execution_count": 190,
   "metadata": {},
   "outputs": [],
   "source": [
    "x_test, y_test = generate_seq(sim_frames, 10000)"
   ]
  },
  {
   "cell_type": "code",
   "execution_count": 191,
   "metadata": {},
   "outputs": [],
   "source": [
    "y_tests = y_test.flatten()\n",
    "y_test_preds = ensemble_model.predict(x_test).flatten()"
   ]
  },
  {
   "cell_type": "code",
   "execution_count": 192,
   "metadata": {},
   "outputs": [
    {
     "data": {
      "text/plain": [
       "<matplotlib.axes._subplots.AxesSubplot at 0x7fd8ade1b4e0>"
      ]
     },
     "execution_count": 192,
     "metadata": {},
     "output_type": "execute_result"
    },
    {
     "data": {
      "image/png": "[encoded data removed]",
      "text/plain": [
       "<matplotlib.figure.Figure at 0x7fd8a189ae80>"
      ]
     },
     "metadata": {},
     "output_type": "display_data"
    }
   ],
   "source": [
    "pd.DataFrame({'pred': y_test_preds, 'act': y_tests}).plot()"
   ]
  },
  {
   "cell_type": "code",
   "execution_count": 193,
   "metadata": {},
   "outputs": [
    {
     "data": {
      "text/plain": [
       "626"
      ]
     },
     "execution_count": 193,
     "metadata": {},
     "output_type": "execute_result"
    }
   ],
   "source": [
    "len(sim_frames)"
   ]
  },
  {
   "cell_type": "markdown",
   "metadata": {},
   "source": [
    "# Validate Results"
   ]
  },
  {
   "cell_type": "code",
   "execution_count": 170,
   "metadata": {},
   "outputs": [],
   "source": [
    "model_def = json.load(open('./keras-model-test/ensemble-small.json', 'r'))"
   ]
  },
  {
   "cell_type": "code",
   "execution_count": 173,
   "metadata": {},
   "outputs": [],
   "source": [
    "ensemble_model.set_weights([np.array(w) for w in model_def['weights']])"
   ]
  },
  {
   "cell_type": "code",
   "execution_count": 180,
   "metadata": {},
   "outputs": [
    {
     "name": "stderr",
     "output_type": "stream",
     "text": [
      "100%|██████████| 1000/1000 [00:00<00:00, 6402.85it/s]"
     ]
    },
    {
     "name": "stdout",
     "output_type": "stream",
     "text": [
      "Generating Training Frames\n"
     ]
    },
    {
     "name": "stderr",
     "output_type": "stream",
     "text": [
      "\n",
      "100%|██████████| 625/625 [00:00<00:00, 2.67kit/s]\n",
      "625it [00:00, 243131.14it/s]\n"
     ]
    }
   ],
   "source": [
    "\n",
    "def sim_frame(i):\n",
    "    return {\n",
    "        'x': frame_dictionary(sim_seqs, i),\n",
    "        'y': sim_y[i]\n",
    "    }\n",
    "\n",
    "sim_strokes = pd.read_csv('./train_strokes.csv')\n",
    "sim_seqs, sim_y = get_sequences(sim_strokes)\n",
    "\n",
    "print('Generating Training Frames')\n",
    "sim_frames = parallel_process(range(101, len(sim_seqs)), sim_frame, front_num=1, n_jobs=36)"
   ]
  },
  {
   "cell_type": "markdown",
   "metadata": {},
   "source": [
    "# Random Verification Stuff"
   ]
  },
  {
   "cell_type": "code",
   "execution_count": 433,
   "metadata": {},
   "outputs": [],
   "source": [
    "lookback = 100\n",
    "frame_shape = (lookback, len(p.features()))\n",
    "x_raw = np.zeros(frame_shape)\n",
    "x_40 = np.full(frame_shape, 0.5)\n",
    "x_100 = np.full(frame_shape, 0.5)\n",
    "gaussian_profile = gaussian.T.to_dict()\n",
    "\n",
    "current = 300 - lookback + 1\n",
    "for i in range(lookback):\n",
    "    frame_index = current + i\n",
    "    # Get Mean Vals\n",
    "    raw = seq_to_frame.loc[seq_to_frame.end == frame_index-1].groupby('seq').duration.mean().apply(np.log).to_dict()\n",
    "    r40 = seq_to_frame.loc[(seq_to_frame.end < frame_index) & (frame_index - seq_to_frame.start <= 40)].groupby('seq').score.mean().to_dict()\n",
    "    r100 = seq_to_frame.loc[(seq_to_frame.end < frame_index) & (frame_index - seq_to_frame.start <= 100)].groupby('seq').score.mean().to_dict()\n",
    "    # Fill Array\n",
    "    for f in raw:\n",
    "        x_raw[i,int(gaussian_profile[f]['i'])] = raw[f]\n",
    "    for f in r40:\n",
    "        x_40[i,int(gaussian_profile[f]['i'])] = r40[f]\n",
    "    for f in r100:\n",
    "        x_100[i,int(gaussian_profile[f]['i'])] = r100[f]"
   ]
  },
  {
   "cell_type": "code",
   "execution_count": 398,
   "metadata": {},
   "outputs": [
    {
     "data": {
      "image/png": "[encoded data removed]",
      "text/plain": [
       "<matplotlib.figure.Figure at 0x7f10ef8cd748>"
      ]
     },
     "metadata": {},
     "output_type": "display_data"
    }
   ],
   "source": [
    "plt.imshow(j_100, cmap='hot', interpolation='nearest')\n",
    "plt.show()"
   ]
  },
  {
   "cell_type": "code",
   "execution_count": 412,
   "metadata": {},
   "outputs": [],
   "source": [
    "j_100 = np.array(ja['x_100'])\n",
    "j_40 = np.array(ja['x_40'])\n",
    "j_raw = np.array(ja['x_raw'])"
   ]
  },
  {
   "cell_type": "code",
   "execution_count": 423,
   "metadata": {},
   "outputs": [],
   "source": [
    "pd.DataFrame(j_100).to_csv('java_frame.csv')\n",
    "pd.DataFrame(x_100).to_csv('python_frame.csv')"
   ]
  },
  {
   "cell_type": "code",
   "execution_count": 418,
   "metadata": {},
   "outputs": [
    {
     "data": {
      "text/plain": [
       "4.956589231781906"
      ]
     },
     "execution_count": 418,
     "metadata": {},
     "output_type": "execute_result"
    }
   ],
   "source": [
    "np.absolute((j_100 - x_100)).sum()"
   ]
  },
  {
   "cell_type": "code",
   "execution_count": 419,
   "metadata": {},
   "outputs": [
    {
     "data": {
      "text/plain": [
       "184.1527547848026"
      ]
     },
     "execution_count": 419,
     "metadata": {},
     "output_type": "execute_result"
    }
   ],
   "source": [
    "np.absolute(j_raw - x_raw).sum()"
   ]
  },
  {
   "cell_type": "code",
   "execution_count": 420,
   "metadata": {},
   "outputs": [
    {
     "data": {
      "text/plain": [
       "9.249068095360757"
      ]
     },
     "execution_count": 420,
     "metadata": {},
     "output_type": "execute_result"
    }
   ],
   "source": [
    "np.absolute(j_40 - x_40).sum()"
   ]
  },
  {
   "cell_type": "code",
   "execution_count": 421,
   "metadata": {},
   "outputs": [],
   "source": [
    "diff_vals = pd.DataFrame({'p':x_100[np.round(j_100, 4) != np.round(x_100, 4)], 'j':j_100[np.round(j_100, 4) != np.round(x_100, 4)]})\n",
    "diff_vals['diff'] = (diff_vals.p - diff_vals.j).abs()\n",
    "diff_vals"
   ]
  },
  {
   "cell_type": "code",
   "execution_count": 354,
   "metadata": {},
   "outputs": [],
   "source": [
    "def get_difs(x, j):\n",
    "    return (np.round(x, 4) != np.round(j, 4))"
   ]
  },
  {
   "cell_type": "code",
   "execution_count": 410,
   "metadata": {},
   "outputs": [
    {
     "data": {
      "text/plain": [
       "mean      5.945019\n",
       "stdev     0.255426\n",
       "i        22.000000\n",
       "Name: 14-14-14, dtype: float64"
      ]
     },
     "execution_count": 410,
     "metadata": {},
     "output_type": "execute_result"
    }
   ],
   "source": [
    "gaussian.loc[gaussian.i == 20]"
   ]
  },
  {
   "cell_type": "code",
   "execution_count": 432,
   "metadata": {},
   "outputs": [],
   "source": [
    "p.profile.to_csv('features.csv')"
   ]
  },
  {
   "cell_type": "code",
   "execution_count": null,
   "metadata": {},
   "outputs": [],
   "source": []
  }
 ],
 "metadata": {
  "kernelspec": {
   "display_name": "Environment (conda_tensorflow_p36)",
   "language": "python",
   "name": "conda_tensorflow_p36"
  },
  "language_info": {
   "codemirror_mode": {
    "name": "ipython",
    "version": 3
   },
   "file_extension": ".py",
   "mimetype": "text/x-python",
   "name": "python",
   "nbconvert_exporter": "python",
   "pygments_lexer": "ipython3",
   "version": "3.6.4"
  }
 },
 "nbformat": 4,
 "nbformat_minor": 2
}
