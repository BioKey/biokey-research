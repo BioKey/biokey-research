{
 "cells": [
  {
   "cell_type": "markdown",
   "metadata": {},
   "source": [
    "# [A continuous identity verification method based on free-text keystroke dynamics](http://ieeexplore.ieee.org.proxy1.lib.uwo.ca/document/7844242/authors)"
   ]
  },
  {
   "cell_type": "code",
   "execution_count": 1,
   "metadata": {},
   "outputs": [
    {
     "name": "stderr",
     "output_type": "stream",
     "text": [
      "/home/ubuntu/anaconda3/envs/tensorflow_p36/lib/python3.6/site-packages/matplotlib/__init__.py:962: UserWarning: Duplicate key in file \"/home/ubuntu/.config/matplotlib/matplotlibrc\", line #2\n",
      "  (fname, cnt))\n",
      "/home/ubuntu/anaconda3/envs/tensorflow_p36/lib/python3.6/site-packages/matplotlib/__init__.py:962: UserWarning: Duplicate key in file \"/home/ubuntu/.config/matplotlib/matplotlibrc\", line #3\n",
      "  (fname, cnt))\n"
     ]
    }
   ],
   "source": [
    "import psycopg2\n",
    "import pandas as pd\n",
    "import sys\n",
    "sys.path.append(\"..\")\n",
    "import credentials\n",
    "import numpy as np\n",
    "from datetime import datetime\n",
    "import time\n",
    "import string\n",
    "from tqdm import tnrange, tqdm_notebook, tqdm\n",
    "from tqdm._tqdm_notebook import tqdm_notebook\n",
    "import numpy.ma as ma\n",
    "from multiprocessing import Pool\n",
    "from scipy.optimize import minimize\n",
    "from biokey.data import DataInterface\n",
    "import biokey.tools\n",
    "from biokey.tools import parallel_process\n",
    "import json\n",
    "import random\n",
    "# This makes plots render inline"
   ]
  },
  {
   "cell_type": "code",
   "execution_count": 2,
   "metadata": {},
   "outputs": [],
   "source": [
    "import ujson as json"
   ]
  },
  {
   "cell_type": "code",
   "execution_count": 3,
   "metadata": {},
   "outputs": [],
   "source": [
    "% matplotlib inline"
   ]
  },
  {
   "cell_type": "code",
   "execution_count": 4,
   "metadata": {},
   "outputs": [
    {
     "name": "stdout",
     "output_type": "stream",
     "text": [
      "Loading Data\n",
      "\t- Attempting cache load\n",
      "\t- Loaded strokes from cache\n",
      "Processing Data\n",
      "\t- Attempting cache load\n",
      "\t- Loaded dwell and flight from cache\n",
      "Done Loading\n",
      "\n"
     ]
    }
   ],
   "source": [
    "data = DataInterface(credentials.postgres)"
   ]
  },
  {
   "cell_type": "code",
   "execution_count": 5,
   "metadata": {},
   "outputs": [],
   "source": [
    "key_press_count = data.get_dwells().key.value_counts()\n",
    "mask = list(string.ascii_uppercase)\n",
    "mask.extend(['ESCAPE', 'ENTER', 'SPACE', 'CONTROL', 'META', 'BACKSPACE', 'SHIFT'])"
   ]
  },
  {
   "cell_type": "code",
   "execution_count": 6,
   "metadata": {},
   "outputs": [],
   "source": [
    "datasets = data.get_all_sets()\n",
    "# for u in datasets:\n",
    "#     datasets[u] = biokey.tools.filter_sets(datasets[u], to_include=mask)"
   ]
  },
  {
   "cell_type": "markdown",
   "metadata": {},
   "source": [
    "# Building Profile Using Threshold"
   ]
  },
  {
   "cell_type": "code",
   "execution_count": 7,
   "metadata": {},
   "outputs": [],
   "source": [
    "from scipy.stats import ttest_ind_from_stats\n",
    "\n",
    "class Node(object):\n",
    "    def __init__(self, name):\n",
    "        self.name = name\n",
    "        self.children = {}\n",
    "        self.stats = None\n",
    "        self.parent = None\n",
    "    def add(self, hash1):\n",
    "        self.children[hash1.name] = hash1\n",
    "        self.parent = self\n",
    "        return hash1\n",
    "    def goto(self, name):\n",
    "        if(name in self.children):\n",
    "            return self.children[name]\n",
    "\n",
    "class Profile(object):\n",
    "    def __init__(self, df, threshold, trim=None):\n",
    "        self.trimmed = trim\n",
    "        self.threshold = threshold\n",
    "        if data is not None and threshold is not None:\n",
    "            self._build_profile(df, threshold)\n",
    "            if trim:\n",
    "                self.profile = self.profile.loc[self.profile['count'] >= trim]\n",
    "                self._build_tree()\n",
    "    \n",
    "    def _build_profile(self, df, t):\n",
    "        df = df.copy()\n",
    "        df['interval'] = (df.shift(-1).down - df.down)\n",
    "        chain = []\n",
    "        inner_queue = []\n",
    "        start = None\n",
    "        seqs = []\n",
    "        count = -1\n",
    "        for row in df.itertuples():\n",
    "            count += 1\n",
    "            row = {\n",
    "                'key': row.key_code,\n",
    "                'down': row.down,\n",
    "                'up': row.up,\n",
    "                'interval': row.interval,\n",
    "                'count': count\n",
    "            }\n",
    "            if start == None:\n",
    "                # First after threshold\n",
    "                start = row\n",
    "            else:\n",
    "                # Nth after threshold - queue as starters\n",
    "                inner_queue.append(row)\n",
    "            # Add it to the chain\n",
    "            chain.append(str(row['key']))\n",
    "            seqs.append({'seq': '-'.join(chain), 'duration': row['up'] - start['down'], 'start': start['count'], 'end': row['count']})\n",
    "            # If threshold is not met then start again\n",
    "            if row['interval'] > t:\n",
    "                for i in range(len(inner_queue)):\n",
    "                    start = inner_queue[i]\n",
    "                    chain = []\n",
    "                    for r in inner_queue[i:]:\n",
    "                        chain.append(str(row['key']))\n",
    "                        seqs.append({'seq': '-'.join(chain), 'duration': row['up'] - start['down'], 'start': start['count'], 'end': row['count']})\n",
    "                chain = []\n",
    "                inner_queue = []\n",
    "                start = None\n",
    "        # Aggregate sequences\n",
    "        self.seqs = pd.DataFrame(seqs)\n",
    "        s = self.seqs.copy()\n",
    "        s.loc[:,'log_duration'] = np.log(s.duration)\n",
    "        seq_dur = s.groupby('seq').aggregate(['mean', 'std', 'count']).log_duration\n",
    "        # Fill missing values with a proxy\n",
    "        seq_dur['std'] = seq_dur['std'].fillna((seq_dur['std']/seq_dur['mean']).mean()*seq_dur['mean'])\n",
    "        self.profile = seq_dur\n",
    "        self._build_tree()\n",
    "    \n",
    "    def update_profile(self, df):\n",
    "        self.profile = df\n",
    "        self._build_tree()\n",
    "    \n",
    "    def diversify(self, other_profile):\n",
    "        compared_profiles = pd.merge(self.profile, other_profile.profile, left_index=True, right_index=True)\n",
    "        compared_profiles['pvalue'] = compared_profiles.apply((lambda x: ttest_ind_from_stats(x.mean_x, x.std_x, x.count_x, x.mean_y, x.std_y, x.count_y, False).pvalue), axis=1)\n",
    "        new_profile = compared_profiles.loc[compared_profiles.pvalue < 0.05,['mean_x', 'std_x', 'count_x']]\n",
    "        new_profile.columns = ['mean', 'std', 'count']\n",
    "        self.update_profile(new_profile)\n",
    "        \n",
    "    def _build_tree(self):\n",
    "        self.root = Node('root')\n",
    "        for s, row in self.profile.iterrows():\n",
    "            n = self.root\n",
    "            for k in s.split('-'):\n",
    "                new = n.goto(k)\n",
    "                if not new:\n",
    "                    new = n.add(Node(k))\n",
    "                n = new\n",
    "            n.stats = row.to_dict()\n",
    "            \n",
    "    def trim(self, n):\n",
    "        \"Returns a new profile, trimmed to sequences with n instances\"\n",
    "        new_p = Profile(None, self.threshold, n)\n",
    "        new_p.profile = self.profile.loc[self.profile['count'] >= n]\n",
    "        new_p.seqs = self.profile.loc[self.seqs.seq.isin(self.profile.index)]\n",
    "        new_p._build_tree()\n",
    "        return new_p\n",
    "    \n",
    "    def search_tree(self, path):\n",
    "        \"Search tree for the node at a given list path\"\n",
    "        n = self.root\n",
    "        for p in path:\n",
    "            new = n.goto(p)\n",
    "            if not new:\n",
    "                return None\n",
    "            n = new\n",
    "        return n\n",
    "    \n",
    "    def features(self):\n",
    "        return np.array(self.profile.index)\n",
    "\n",
    "    def test_distance(self, path, duration):\n",
    "        \"Returns the probability that a typed path's duration was the profiles's\"\n",
    "        node = self.search_tree(path)\n",
    "        if node is None or node.stats is None:\n",
    "            return -1\n",
    "        stats = node.stats\n",
    "        return np.exp(-np.square((np.log(duration)-stats['mean']))/(2*np.square(stats['std'])))\n",
    "        \n",
    "    def test_window(self, df):\n",
    "        df = df.copy()\n",
    "        df['interval'] = (df.shift(-1).down - df.down)\n",
    "        chain = []\n",
    "        inner_queue = []\n",
    "        start = -1\n",
    "        instances = {}\n",
    "        results = {}\n",
    "        \n",
    "        for f in self.features():\n",
    "            instances[f] = []\n",
    "            results[f] = 0\n",
    "        for row in df.itertuples():\n",
    "            if start == -1:\n",
    "                start = row.down\n",
    "            else:\n",
    "                inner_queue.append(row)\n",
    "            chain.append(str(row.key))\n",
    "            seq = '-'.join(chain)\n",
    "            if seq in instances:\n",
    "                instances[seq].append(self.test_distance(chain, row.up - start))\n",
    "            if row.interval > self.threshold:\n",
    "                for i in range(len(inner_queue)):\n",
    "                    start = inner_queue[i].down\n",
    "                    chain = []\n",
    "                    for r in inner_queue[i:]:\n",
    "                        chain.append(str(r.key))\n",
    "                        seq = '-'.join(chain)\n",
    "                        if seq in instances:\n",
    "                            instances[seq].append(self.test_distance(chain, r.up - start))\n",
    "                chain = []\n",
    "                inner_queue = []\n",
    "                start = -1\n",
    "                \n",
    "        for f in instances:\n",
    "            durations = instances[f]\n",
    "            if len(durations) > 0:\n",
    "                results[f] = np.mean(durations)\n",
    "        return pd.Series(results)"
   ]
  },
  {
   "cell_type": "code",
   "execution_count": 33,
   "metadata": {},
   "outputs": [],
   "source": [
    "userid_valid = data.get_users()[2]\n",
    "# userid_valid = '1d63b44d-a7cb-4ee6-b228-b0ff5b7d086f'\n",
    "userid_valid = 'e85b3844-5af0-47ea-bf51-62da4b4efc39'\n",
    "train = datasets[userid_valid].train.head(40000)\n",
    "test = datasets[userid_valid].test.head(40000)\n",
    "\n",
    "train_valid = train.loc[train.is_user]\n",
    "train_imposter = train.loc[train.is_user == False]\n",
    "\n",
    "test_valid = test.loc[test.is_user]\n",
    "test_imposter = test.loc[test.is_user == False]\n",
    "\n",
    "# user_threshold = optimals[userid_valid]\n",
    "seq_cutoff_threshold = 150\n",
    "seq_occurance_threshold = 30"
   ]
  },
  {
   "cell_type": "code",
   "execution_count": 34,
   "metadata": {},
   "outputs": [],
   "source": [
    "p = Profile(train_valid, seq_cutoff_threshold, trim=seq_occurance_threshold)"
   ]
  },
  {
   "cell_type": "code",
   "execution_count": 35,
   "metadata": {},
   "outputs": [],
   "source": [
    "features = p.features()\n",
    "feature_indexes = {}\n",
    "for i in range(len(features)):\n",
    "    feature_indexes[features[i]] = i"
   ]
  },
  {
   "cell_type": "code",
   "execution_count": 36,
   "metadata": {},
   "outputs": [],
   "source": [
    "def test_window_indexes(seqs, profile, start, end):\n",
    "    s = seqs.loc[(seqs.start >= start) & (seqs.end < end)].copy()\n",
    "    s['score'] = s.apply((lambda x: profile.test_distance(x.seq.split('-'), x.duration)), axis=1)\n",
    "    s = s.loc[s.score >= 0]\n",
    "    results = s.groupby('seq').score.aggregate(['mean', 'count']).T.to_dict()\n",
    "    return pd.DataFrame(results).T\n",
    "\n",
    "def test_iter(i):\n",
    "    try:\n",
    "        return {\n",
    "            'x': test_window_indexes(seqs_all, p, i-buffer_length, i).T.to_dict(),\n",
    "            'y': y_vals[i],\n",
    "            'i': i\n",
    "        }\n",
    "    except:\n",
    "        return None\n",
    "\n",
    "def build_windows(bl, name):\n",
    "    global buffer_length\n",
    "    buffer_length = bl\n",
    "    frames = parallel_process(range(buffer_length, len(y_vals)), test_iter, front_num=1, n_jobs=36)\n",
    "    frames = {str(f['i']): f for f in frames if f is not None}\n",
    "    with open('windowed_frames_%d_%s.json' % (buffer_length, name), 'w') as fout:\n",
    "        json.dump(frames, fout)\n",
    "    return frames"
   ]
  },
  {
   "cell_type": "code",
   "execution_count": 37,
   "metadata": {},
   "outputs": [],
   "source": [
    "def generate_set(df, buffers, name):\n",
    "    global seqs_all\n",
    "    global y_vals\n",
    "    \n",
    "    seqs_all = Profile(df, seq_cutoff_threshold).seqs\n",
    "    y_vals = list(df.is_user)\n",
    "\n",
    "    seqs_all = seqs_all.loc[seqs_all.seq.isin(features)]\n",
    "    durations = seqs_all.groupby(['seq', 'end']).duration.mean().apply(np.log)\n",
    "    unstacked = durations.unstack(0).reindex(labels=range(len(y_vals))).fillna(0)\n",
    "    \n",
    "    x_raw = np.array(unstacked)\n",
    "    x_raw = {str(i): {'x': list(x_raw[i]), 'y': y_vals[i]} for i in range(len(x_raw))}\n",
    "    \n",
    "    with open('raw_frames_%s.json' % name, 'w') as fout:\n",
    "        json.dump(x_raw, fout)\n",
    "    \n",
    "    results = { 'raw': x_raw, 'y': y_vals }\n",
    "    for b in buffers:\n",
    "        results[str(b)] = build_windows(b,name)\n",
    "    return results\n",
    "    "
   ]
  },
  {
   "cell_type": "code",
   "execution_count": 38,
   "metadata": {},
   "outputs": [],
   "source": [
    "def load_sets(buffers, name):\n",
    "    raw = json.load(open('raw_frames_%s.json' % name))\n",
    "    results = { \n",
    "        'raw': raw, \n",
    "        'y': [raw[i]['y'] for i in raw]\n",
    "    }\n",
    "    for b in buffers:\n",
    "        results[str(b)] = json.load(open('windowed_frames_%s_%s.json' % (b, name)))\n",
    "    return results\n",
    "    "
   ]
  },
  {
   "cell_type": "code",
   "execution_count": 30,
   "metadata": {},
   "outputs": [],
   "source": [
    "train_sets = load_sets([40,100], 'train')\n",
    "test_sets = load_sets([40,100], 'test')"
   ]
  },
  {
   "cell_type": "code",
   "execution_count": 40,
   "metadata": {},
   "outputs": [],
   "source": [
    "train_sets['interval'] = list(train.down - train.down.shift(1))\n",
    "test_sets['interval'] = list(test.down - test.down.shift(1))"
   ]
  },
  {
   "cell_type": "code",
   "execution_count": 39,
   "metadata": {},
   "outputs": [
    {
     "name": "stderr",
     "output_type": "stream",
     "text": [
      "100%|██████████| 40.0k/40.0k [00:13<00:00, 2.85kit/s]\n",
      "39959it [00:00, 374609.28it/s]\n",
      "100%|██████████| 39.9k/39.9k [00:37<00:00, 1.06kit/s]\n",
      "39899it [00:00, 373362.49it/s]\n",
      "100%|██████████| 40.0k/40.0k [00:15<00:00, 2.64kit/s]\n",
      "39959it [00:00, 373383.31it/s]\n",
      "100%|██████████| 39.9k/39.9k [00:41<00:00, 971it/s]  \n",
      "39899it [00:00, 366508.55it/s]\n"
     ]
    }
   ],
   "source": [
    "train_sets = generate_set(train, [40,100], 'train')\n",
    "test_sets = generate_set(test, [40,100], 'test')"
   ]
  },
  {
   "cell_type": "markdown",
   "metadata": {},
   "source": [
    "# Build LSTM Model"
   ]
  },
  {
   "cell_type": "code",
   "execution_count": 41,
   "metadata": {},
   "outputs": [],
   "source": [
    "from keras.models import Model\n",
    "from keras.layers import Dense, LSTM, CuDNNLSTM, Dropout, Input, concatenate\n",
    "from keras.callbacks import TensorBoard, ModelCheckpoint\n",
    "from sklearn import metrics\n",
    "import matplotlib.pyplot as plt"
   ]
  },
  {
   "cell_type": "code",
   "execution_count": 42,
   "metadata": {},
   "outputs": [],
   "source": [
    "input_features = len(p.features())\n",
    "input_feature_dimensions = 2 # score, count\n",
    "lookback_window = 100\n",
    "\n",
    "input_shape = (lookback_window, input_features)\n",
    "\n",
    "output_shape = (1)"
   ]
  },
  {
   "cell_type": "code",
   "execution_count": 43,
   "metadata": {},
   "outputs": [],
   "source": [
    "features = p.features()\n",
    "feature_indexes = {}\n",
    "for i in range(len(features)):\n",
    "    feature_indexes[features[i]] = i"
   ]
  },
  {
   "cell_type": "code",
   "execution_count": 44,
   "metadata": {},
   "outputs": [],
   "source": [
    "# With Count\n",
    "def parse_frame(f, feature_indexes):\n",
    "    y = int(f['y'])\n",
    "    x = np.full((len(feature_indexes)), 0.5)\n",
    "    for s in f['x']:\n",
    "        try:\n",
    "            i = feature_indexes[s]\n",
    "            x[i] = f['x'][s]['mean']\n",
    "        except:\n",
    "            pass\n",
    "    return x, y\n",
    "\n",
    "# With Count\n",
    "def create_window(frames, start, lookback):\n",
    "    x_vals = []\n",
    "    for i in range(lookback):\n",
    "        x, _ = parse_frame(frames[str(start+i)], feature_indexes)\n",
    "        x_vals.append(x)\n",
    "    return np.array(x_vals)"
   ]
  },
  {
   "cell_type": "code",
   "execution_count": 45,
   "metadata": {},
   "outputs": [],
   "source": [
    "def gen_rand_window(data_set, lookback=lookback_window, batch_size=32):\n",
    "    y = data_set['y']\n",
    "    while True:\n",
    "        x_raw_batches = []\n",
    "        x_40_batches = []\n",
    "        x_100_batches = []\n",
    "        y_batches = []\n",
    "        intervals = []\n",
    "        for i in range(batch_size):\n",
    "            successful = False\n",
    "            attempts = 0\n",
    "            while not successful and attempts < 20:\n",
    "                try:\n",
    "                    start = random.randint(200, len(y)-lookback-1)\n",
    "                    x_raw = [data_set['raw'][str(start+j)]['x'] for j in range(lookback)]\n",
    "                    x_40 = create_window(data_set['40'], start, lookback)\n",
    "                    x_100 = create_window(data_set['100'], start, lookback)\n",
    "                    interval = data_set['interval'][start+lookback]\n",
    "                    y_val = y[start+lookback]\n",
    "                    successful = True\n",
    "                    x_raw_batches.append(x_raw)\n",
    "                    x_40_batches.append(x_40)\n",
    "                    x_100_batches.append(x_100)\n",
    "                    y_batches.append(y_val)\n",
    "                    intervals.append(interval)\n",
    "                except Exception as err:\n",
    "                    attempts += 1\n",
    "                    pass\n",
    "                \n",
    "        yield {\n",
    "            'x_raw': np.array(x_raw_batches), \n",
    "            'x_40': np.array(x_40_batches), \n",
    "            'x_100': np.array(x_100_batches),\n",
    "            'interval': np.array(intervals)\n",
    "        }, np.array(y_batches).astype(np.int16)\n",
    "    \n",
    "def gen_seq_window(data_set, lookback=lookback_window, batch_size=32):\n",
    "    y = data_set['y']\n",
    "    start = 200\n",
    "    while True:\n",
    "        x_raw_batches = []\n",
    "        x_40_batches = []\n",
    "        x_100_batches = []\n",
    "        y_batches = []\n",
    "        intervals = []\n",
    "        for i in range(batch_size):\n",
    "            successful = False\n",
    "            attempts = 0\n",
    "            while not successful and attempts < 20:\n",
    "                try:\n",
    "                    start += 1\n",
    "                    x_raw = [data_set['raw'][str(start+j)]['x'] for j in range(lookback)]\n",
    "                    x_40 = create_window(data_set['40'], start, lookback)\n",
    "                    x_100 = create_window(data_set['100'], start, lookback)\n",
    "                    interval = data_set['interval'][start+lookback]\n",
    "                    y_val = y[start+lookback]\n",
    "                    successful = True\n",
    "                    x_raw_batches.append(x_raw)\n",
    "                    x_40_batches.append(x_40)\n",
    "                    x_100_batches.append(x_100)\n",
    "                    y_batches.append(y_val)\n",
    "                    intervals.append(interval)\n",
    "                except Exception as err:\n",
    "                    attempts += 1\n",
    "                    pass\n",
    "                \n",
    "        yield {\n",
    "            'x_raw': np.array(x_raw_batches), \n",
    "            'x_40': np.array(x_40_batches), \n",
    "            'x_100': np.array(x_100_batches),\n",
    "            'interval': np.array(intervals)\n",
    "        }, np.array(y_batches).astype(np.int16)"
   ]
  },
  {
   "cell_type": "code",
   "execution_count": 46,
   "metadata": {},
   "outputs": [],
   "source": [
    "# create model\n",
    "input_100 = Input(input_shape, name='x_100')\n",
    "# lstm_100 = CuDNNLSTM(32, return_sequences=True)(input_100)\n",
    "lstm_100 = LSTM(32)(input_100)\n",
    "\n",
    "input_40 = Input(input_shape, name='x_40')\n",
    "# lstm_40 = CuDNNLSTM(32, return_sequences=True)(input_40)\n",
    "lstm_40 = LSTM(32)(input_40)\n",
    "\n",
    "input_raw = Input(input_shape, name='x_raw')\n",
    "# lstm_raw = CuDNNLSTM(32, return_sequences=True)(input_raw)\n",
    "lstm_raw = LSTM(32)(input_raw)\n",
    "\n",
    "# input_interval = Input((1,), name='interval')\n",
    "# lstm_interval = CuDNNLSTM(32)(input_interval)\n",
    "\n",
    "merge_layer = concatenate([lstm_100, lstm_40, lstm_raw])\n",
    "\n",
    "# Deep Connected Layer\n",
    "# merge_layer = Dense(64, activation='tanh')(merge_layer)\n",
    "# merge_layer = Dense(64, activation='tanh')(merge_layer)\n",
    "merge_layer = Dense(64, activation='tanh')(merge_layer)\n",
    "\n",
    "merge_layer = Dense(32, activation='tanh')(merge_layer)\n",
    "merge_layer = Dense(16, activation='tanh')(merge_layer)\n",
    "\n",
    "output = Dense(output_shape, activation='sigmoid')(merge_layer)\n",
    "\n",
    "ensemble_model = Model(inputs=[input_100, input_40, input_raw], outputs=[output])\n",
    "\n",
    "# compile model\n",
    "ensemble_model.compile(loss='binary_crossentropy', optimizer='adam', metrics=['accuracy'])"
   ]
  },
  {
   "cell_type": "code",
   "execution_count": 47,
   "metadata": {},
   "outputs": [
    {
     "name": "stdout",
     "output_type": "stream",
     "text": [
      "Epoch 1/2\n",
      " 999/1000 [============================>.] - ETA: 0s - loss: 0.2137 - acc: 0.9134\n",
      "Epoch 00001: val_loss improved from inf to 0.61121, saving model to ./gaussian-lstm-models/2018-03-19 02_27_41_757917-weights-01-0.61.hdf5\n",
      "1000/1000 [==============================] - 389s 389ms/step - loss: 0.2135 - acc: 0.9134 - val_loss: 0.6112 - val_acc: 0.8275\n",
      "Epoch 2/2\n",
      " 999/1000 [============================>.] - ETA: 0s - loss: 0.0830 - acc: 0.9705\n",
      "Epoch 00002: val_loss improved from 0.61121 to 0.54621, saving model to ./gaussian-lstm-models/2018-03-19 02_27_41_757917-weights-02-0.55.hdf5\n",
      "1000/1000 [==============================] - 388s 388ms/step - loss: 0.0829 - acc: 0.9705 - val_loss: 0.5462 - val_acc: 0.8498\n"
     ]
    },
    {
     "data": {
      "text/plain": [
       "<keras.callbacks.History at 0x7fe4cd7d2588>"
      ]
     },
     "execution_count": 47,
     "metadata": {},
     "output_type": "execute_result"
    }
   ],
   "source": [
    "run_name = str(datetime.now()).replace(':','.').replace('.','_')\n",
    "filepath=\"./gaussian-lstm-models/%s-weights-{epoch:02d}-{val_loss:.2f}.hdf5\" % run_name\n",
    "checkpoint = ModelCheckpoint(filepath, monitor='val_loss', verbose=1, save_best_only=True, mode='min')\n",
    "tbCallBack = TensorBoard(log_dir='./Graph/LSTM_Ensemble_%s/' % run_name, histogram_freq=0, write_graph=True, write_images=True)\n",
    "callbacks_list = [checkpoint, tbCallBack]\n",
    "\n",
    "ensemble_model.fit_generator(gen_rand_window(train_sets, lookback_window), validation_data=gen_rand_window(test_sets, lookback_window), validation_steps=200, epochs=2, steps_per_epoch=1000, callbacks=callbacks_list)"
   ]
  },
  {
   "cell_type": "code",
   "execution_count": null,
   "metadata": {},
   "outputs": [],
   "source": [
    "!mkdir ./keras-model-test"
   ]
  },
  {
   "cell_type": "code",
   "execution_count": 48,
   "metadata": {},
   "outputs": [],
   "source": [
    "def get_model(model):\n",
    "    gaussian = p.profile[[\"mean\", \"std\"]].rename(columns=lambda c: {\"mean\":\"mean\", \"std\":\"stdev\"}[c])\n",
    "    gaussian['i'] = 1\n",
    "    gaussian.i = gaussian.i.cumsum()-1\n",
    "    gaussian\n",
    "    return {\n",
    "        'model': model.get_config(),\n",
    "        'weights': [w.tolist() for w in model.get_weights()],\n",
    "        'gaussianProfile': gaussian.T.to_dict()\n",
    "    }\n",
    "encoded_model = get_model(ensemble_model)\n",
    "with open('./keras-model-test/ensemble-c-2.json', 'w') as fout:\n",
    "        json.dump(encoded_model, fout)"
   ]
  },
  {
   "cell_type": "code",
   "execution_count": 25,
   "metadata": {},
   "outputs": [],
   "source": [
    "ensemble_model.save_weights('./keras-model-test/ensemble_weights.h5')\n",
    "json_string = ensemble_model.to_json()\n",
    "with open('./keras-model-test/ensemble_model.json', 'w') as fout:\n",
    "        json.dump(json_string, fout)"
   ]
  },
  {
   "cell_type": "code",
   "execution_count": 26,
   "metadata": {},
   "outputs": [],
   "source": [
    "p.profile.to_csv('./keras-model-test/gaussian_model.csv')"
   ]
  },
  {
   "cell_type": "code",
   "execution_count": 59,
   "metadata": {},
   "outputs": [],
   "source": [
    "test_connor = pd.read_csv('./keras-model-test/connor.csv')"
   ]
  },
  {
   "cell_type": "code",
   "execution_count": 65,
   "metadata": {},
   "outputs": [],
   "source": [
    "dwells = pd.DataFrame()\n",
    "for key, strokes in test_connor.groupby('key_code'):\n",
    "    # Eliminate non duplicate strokes\n",
    "    strokes = strokes.loc[(strokes.direction != strokes.direction.shift(1))]\n",
    "    # Split up and down actions\n",
    "    down = strokes.loc[strokes.direction == 'd'].reset_index(drop=True)\n",
    "    up = strokes.loc[strokes.direction == 'u'].reset_index(drop=True)\n",
    "    # Filter non-matching strokes\n",
    "    number = np.min([down.count(), up.count()])\n",
    "    down = down.head(number)\n",
    "    up = up.head(number)\n",
    "    # Add to DataFrame\n",
    "    dwells = dwells.append(pd.DataFrame({\n",
    "        'key_code': key,\n",
    "        'down': down.key_time,\n",
    "        'up': up.key_time,\n",
    "        'dwell': up.key_time - down.key_time,\n",
    "        'is_user': 1\n",
    "    }), ignore_index=True)\n",
    "# Output user's dwells to csv\n",
    "dwells = dwells.sort_values('down')[['key_code', 'down', 'up', 'dwell', 'is_user']].reset_index(drop=True)"
   ]
  },
  {
   "cell_type": "code",
   "execution_count": 78,
   "metadata": {},
   "outputs": [
    {
     "name": "stderr",
     "output_type": "stream",
     "text": [
      "100%|██████████| 199/199 [00:00<00:00, 1.14kit/s]\n",
      "199it [00:00, 264051.41it/s]\n",
      "100%|██████████| 139/139 [00:00<00:00, 721it/s] \n",
      "139it [00:00, 241111.77it/s]\n"
     ]
    }
   ],
   "source": [
    "test_sets = generate_set(dwells, [40,100], 'dwells')\n",
    "test_sets['interval'] = list(dwells.down - dwells.down.shift(1))"
   ]
  },
  {
   "cell_type": "code",
   "execution_count": 136,
   "metadata": {},
   "outputs": [],
   "source": [
    "df = dwells\n",
    "seqs_all = Profile(df, seq_cutoff_threshold).seqs\n",
    "y_vals = list(df.is_user)\n",
    "\n",
    "seqs_all = seqs_all.loc[seqs_all.seq.isin(features)]\n",
    "durations = seqs_all.groupby(['seq', 'end']).duration.mean().apply(np.log)\n",
    "unstacked = durations.unstack(0).reindex(labels=range(len(y_vals))).fillna(0)"
   ]
  },
  {
   "cell_type": "code",
   "execution_count": 142,
   "metadata": {},
   "outputs": [],
   "source": [
    "un_dict = unstacked.T.to_dict()"
   ]
  },
  {
   "cell_type": "code",
   "execution_count": 135,
   "metadata": {},
   "outputs": [
    {
     "data": {
      "text/plain": [
       "57"
      ]
     },
     "execution_count": 135,
     "metadata": {},
     "output_type": "execute_result"
    }
   ],
   "source": [
    "feature_indexes['20-24']"
   ]
  },
  {
   "cell_type": "code",
   "execution_count": 144,
   "metadata": {},
   "outputs": [],
   "source": [
    "x_raw = np.zeros((1,100,len(p.features())))\n",
    "\n",
    "for i in range(lookback):\n",
    "    for f in un_dict[i]:\n",
    "        x_raw[0][i][feature_indexes[f]] = un_dict[i][f]"
   ]
  },
  {
   "cell_type": "code",
   "execution_count": 145,
   "metadata": {},
   "outputs": [
    {
     "data": {
      "text/plain": [
       "(1, 100, 246)"
      ]
     },
     "execution_count": 145,
     "metadata": {},
     "output_type": "execute_result"
    }
   ],
   "source": [
    "x_raw.shape"
   ]
  },
  {
   "cell_type": "code",
   "execution_count": 168,
   "metadata": {},
   "outputs": [],
   "source": [
    "def gen_from_start(start):\n",
    "    lookback = 100\n",
    "    data_set = test_sets\n",
    "\n",
    "    x_raw = np.zeros((1,100,len(p.features())))\n",
    "\n",
    "    for i in range(start, start+lookback):\n",
    "        for f in un_dict[i]:\n",
    "            x_raw[0][i-start][feature_indexes[f]] = un_dict[i][f]\n",
    "\n",
    "    test_frame = {\n",
    "        'x_raw': x_raw, \n",
    "        'x_40': np.array([create_window(data_set['40'], start, lookback)]), \n",
    "        'x_100': np.array([create_window(data_set['100'], start, lookback)]),\n",
    "        'interval': None\n",
    "    }\n",
    "    return test_frame"
   ]
  },
  {
   "cell_type": "markdown",
   "metadata": {},
   "source": [
    "## Test It"
   ]
  },
  {
   "cell_type": "code",
   "execution_count": 25,
   "metadata": {},
   "outputs": [],
   "source": [
    "def far(y_true, y_pred, thresh=0.5):\n",
    "    total_false = np.equal(y_true, 0).astype('int32').sum()\n",
    "    false_accepts = (np.equal(y_true, 0) & np.greater_equal(np.reshape(y_pred, [-1]), thresh).flatten()).sum()\n",
    "    return false_accepts/total_false\n",
    "\n",
    "def frr(y_true, y_pred, thresh=0.5):\n",
    "    total_accept = np.equal(y_true, 1).astype('int32').sum()\n",
    "    false_rejects = (np.equal(y_true, 1) & np.less_equal(np.reshape(y_pred, [-1]), thresh).flatten()).sum()\n",
    "    return false_rejects/total_accept"
   ]
  },
  {
   "cell_type": "code",
   "execution_count": 26,
   "metadata": {},
   "outputs": [],
   "source": [
    "def evaluate(x, y, model, model_path='LSTM Model', index=0, plot=True):\n",
    "    y_pred = model.predict(x)\n",
    "\n",
    "    fpr, tpr, thresholds = metrics.roc_curve(y,  y_pred)\n",
    "    auc = metrics.roc_auc_score(y, y_pred)\n",
    "    plt.plot(fpr,tpr,label=\"LSTM\"+str(index)+\", auc=\"+str(auc))\n",
    "\n",
    "    false_accepts = far(y.flatten(), y_pred.flatten())\n",
    "    false_rejects = frr(y.flatten(), y_pred.flatten())\n",
    "    accuracy = metrics.accuracy_score(y.flatten(), np.round(y_pred.flatten()))\n",
    "    print('Model: %s (FAR: %4f FRR: %4f ACC: %4f)' % (model_path, false_accepts, false_rejects, accuracy))\n",
    "    \n",
    "    if plot:\n",
    "        plt.legend(loc=4)\n",
    "        plt.show()\n",
    "\n",
    "def evaluate_many(x_data, y_data, model_paths):\n",
    "    index = 0\n",
    "    for m in model_paths:\n",
    "        lstm_model.load_weights(m)\n",
    "        evaluate(x_data, y_data, lstm_model, m, index=index, plot=False)\n",
    "        index = index + 1\n",
    "    plt.legend(loc=4)\n",
    "    plt.show()"
   ]
  },
  {
   "cell_type": "code",
   "execution_count": 27,
   "metadata": {},
   "outputs": [],
   "source": [
    "x_train, y_train = next(gen_seq_window(train_sets, batch_size=10000))\n",
    "x_test, y_test = next(gen_seq_window(test_sets, batch_size=10000))"
   ]
  },
  {
   "cell_type": "code",
   "execution_count": 28,
   "metadata": {},
   "outputs": [
    {
     "name": "stdout",
     "output_type": "stream",
     "text": [
      "Model: LSTM Model (FAR: 0.067925 FRR: 0.069176 ACC: 0.931500)\n"
     ]
    },
    {
     "data": {
      "image/png": "[encoded data removed]",
      "text/plain": [
       "<matplotlib.figure.Figure at 0x7f23c444ebe0>"
      ]
     },
     "metadata": {},
     "output_type": "display_data"
    }
   ],
   "source": [
    "evaluate(x_train, y_train, ensemble_model)"
   ]
  },
  {
   "cell_type": "code",
   "execution_count": 29,
   "metadata": {},
   "outputs": [
    {
     "name": "stdout",
     "output_type": "stream",
     "text": [
      "Model: LSTM Model (FAR: 0.095035 FRR: 0.158022 ACC: 0.855300)\n"
     ]
    },
    {
     "data": {
      "image/png": "[encoded data removed]",
      "text/plain": [
       "<matplotlib.figure.Figure at 0x7f23c45ed4a8>"
      ]
     },
     "metadata": {},
     "output_type": "display_data"
    }
   ],
   "source": [
    "evaluate(x_test, y_test, ensemble_model)"
   ]
  },
  {
   "cell_type": "code",
   "execution_count": 30,
   "metadata": {},
   "outputs": [],
   "source": [
    "y_tests = y_test.flatten()\n",
    "y_test_preds = ensemble_model.predict(x_test).flatten()"
   ]
  },
  {
   "cell_type": "code",
   "execution_count": 31,
   "metadata": {},
   "outputs": [],
   "source": [
    "from sklearn.metrics import r2_score"
   ]
  },
  {
   "cell_type": "code",
   "execution_count": 32,
   "metadata": {},
   "outputs": [
    {
     "data": {
      "text/plain": [
       "0.2803533558051837"
      ]
     },
     "execution_count": 32,
     "metadata": {},
     "output_type": "execute_result"
    }
   ],
   "source": [
    "r2_score(y_tests, y_test_preds)"
   ]
  },
  {
   "cell_type": "code",
   "execution_count": 33,
   "metadata": {},
   "outputs": [],
   "source": [
    "pd.DataFrame({'pred': y_test_preds, 'act': y_tests}).to_csv('seq-predictions-vs-actual.csv')"
   ]
  },
  {
   "cell_type": "code",
   "execution_count": 38,
   "metadata": {},
   "outputs": [
    {
     "name": "stdout",
     "output_type": "stream",
     "text": [
      "FAR: 0.052955 FRR: 0.120228 ACC: 0.894000\n"
     ]
    },
    {
     "data": {
      "image/png": "[encoded data removed]",
      "text/plain": [
       "<matplotlib.figure.Figure at 0x7f1ab81330b8>"
      ]
     },
     "metadata": {},
     "output_type": "display_data"
    }
   ],
   "source": [
    "fpr, tpr, thresholds = metrics.roc_curve(y_tests,  y_test_preds)\n",
    "auc = metrics.roc_auc_score(y_tests, y_test_preds)\n",
    "plt.plot(fpr,tpr,label=\"LSTM, auc=\"+str(auc))\n",
    "\n",
    "false_accepts = far(y_tests, y_test_preds)\n",
    "false_rejects = frr(y_tests, y_test_preds)\n",
    "accuracy = metrics.accuracy_score(y_tests, np.round(y_test_preds))\n",
    "print('FAR: %4f FRR: %4f ACC: %4f' % (false_accepts, false_rejects, accuracy))\n",
    "plt.legend(loc=4)\n",
    "plt.show()"
   ]
  },
  {
   "cell_type": "code",
   "execution_count": 35,
   "metadata": {},
   "outputs": [],
   "source": [
    "threshold_tests = pd.Series([i/200 for i in range(200)]).apply(lambda x: pd.Series({'t': x, 'tnr': 1-far(y_tests, y_test_preds, x), 'tpr': 1-frr(y_tests, y_test_preds, x)})).set_index('t')"
   ]
  },
  {
   "cell_type": "code",
   "execution_count": 38,
   "metadata": {},
   "outputs": [
    {
     "data": {
      "text/html": [
       "<div>\n",
       "<style scoped>\n",
       "    .dataframe tbody tr th:only-of-type {\n",
       "        vertical-align: middle;\n",
       "    }\n",
       "\n",
       "    .dataframe tbody tr th {\n",
       "        vertical-align: top;\n",
       "    }\n",
       "\n",
       "    .dataframe thead th {\n",
       "        text-align: right;\n",
       "    }\n",
       "</style>\n",
       "<table border=\"1\" class=\"dataframe\">\n",
       "  <thead>\n",
       "    <tr style=\"text-align: right;\">\n",
       "      <th></th>\n",
       "      <th>tnr</th>\n",
       "      <th>tpr</th>\n",
       "    </tr>\n",
       "    <tr>\n",
       "      <th>t</th>\n",
       "      <th></th>\n",
       "      <th></th>\n",
       "    </tr>\n",
       "  </thead>\n",
       "  <tbody>\n",
       "    <tr>\n",
       "      <th>0.000</th>\n",
       "      <td>0.000000</td>\n",
       "      <td>1.000000</td>\n",
       "    </tr>\n",
       "    <tr>\n",
       "      <th>0.005</th>\n",
       "      <td>0.263357</td>\n",
       "      <td>0.996068</td>\n",
       "    </tr>\n",
       "    <tr>\n",
       "      <th>0.010</th>\n",
       "      <td>0.511111</td>\n",
       "      <td>0.983133</td>\n",
       "    </tr>\n",
       "    <tr>\n",
       "      <th>0.015</th>\n",
       "      <td>0.613239</td>\n",
       "      <td>0.971972</td>\n",
       "    </tr>\n",
       "    <tr>\n",
       "      <th>0.020</th>\n",
       "      <td>0.679433</td>\n",
       "      <td>0.960304</td>\n",
       "    </tr>\n",
       "    <tr>\n",
       "      <th>0.025</th>\n",
       "      <td>0.709693</td>\n",
       "      <td>0.952695</td>\n",
       "    </tr>\n",
       "    <tr>\n",
       "      <th>0.030</th>\n",
       "      <td>0.731915</td>\n",
       "      <td>0.946734</td>\n",
       "    </tr>\n",
       "    <tr>\n",
       "      <th>0.035</th>\n",
       "      <td>0.745154</td>\n",
       "      <td>0.939632</td>\n",
       "    </tr>\n",
       "    <tr>\n",
       "      <th>0.040</th>\n",
       "      <td>0.760284</td>\n",
       "      <td>0.933672</td>\n",
       "    </tr>\n",
       "    <tr>\n",
       "      <th>0.045</th>\n",
       "      <td>0.774941</td>\n",
       "      <td>0.928472</td>\n",
       "    </tr>\n",
       "    <tr>\n",
       "      <th>0.050</th>\n",
       "      <td>0.782979</td>\n",
       "      <td>0.922511</td>\n",
       "    </tr>\n",
       "    <tr>\n",
       "      <th>0.055</th>\n",
       "      <td>0.791489</td>\n",
       "      <td>0.917311</td>\n",
       "    </tr>\n",
       "    <tr>\n",
       "      <th>0.060</th>\n",
       "      <td>0.799527</td>\n",
       "      <td>0.914521</td>\n",
       "    </tr>\n",
       "    <tr>\n",
       "      <th>0.065</th>\n",
       "      <td>0.807565</td>\n",
       "      <td>0.912112</td>\n",
       "    </tr>\n",
       "    <tr>\n",
       "      <th>0.070</th>\n",
       "      <td>0.814184</td>\n",
       "      <td>0.910336</td>\n",
       "    </tr>\n",
       "    <tr>\n",
       "      <th>0.075</th>\n",
       "      <td>0.818440</td>\n",
       "      <td>0.908053</td>\n",
       "    </tr>\n",
       "    <tr>\n",
       "      <th>0.080</th>\n",
       "      <td>0.821749</td>\n",
       "      <td>0.906785</td>\n",
       "    </tr>\n",
       "    <tr>\n",
       "      <th>0.085</th>\n",
       "      <td>0.825532</td>\n",
       "      <td>0.904629</td>\n",
       "    </tr>\n",
       "    <tr>\n",
       "      <th>0.090</th>\n",
       "      <td>0.830733</td>\n",
       "      <td>0.903234</td>\n",
       "    </tr>\n",
       "    <tr>\n",
       "      <th>0.095</th>\n",
       "      <td>0.832624</td>\n",
       "      <td>0.902093</td>\n",
       "    </tr>\n",
       "    <tr>\n",
       "      <th>0.100</th>\n",
       "      <td>0.835461</td>\n",
       "      <td>0.899810</td>\n",
       "    </tr>\n",
       "    <tr>\n",
       "      <th>0.105</th>\n",
       "      <td>0.836879</td>\n",
       "      <td>0.898034</td>\n",
       "    </tr>\n",
       "    <tr>\n",
       "      <th>0.110</th>\n",
       "      <td>0.839716</td>\n",
       "      <td>0.896386</td>\n",
       "    </tr>\n",
       "    <tr>\n",
       "      <th>0.115</th>\n",
       "      <td>0.842080</td>\n",
       "      <td>0.895244</td>\n",
       "    </tr>\n",
       "    <tr>\n",
       "      <th>0.120</th>\n",
       "      <td>0.844917</td>\n",
       "      <td>0.893342</td>\n",
       "    </tr>\n",
       "    <tr>\n",
       "      <th>0.125</th>\n",
       "      <td>0.848227</td>\n",
       "      <td>0.892200</td>\n",
       "    </tr>\n",
       "    <tr>\n",
       "      <th>0.130</th>\n",
       "      <td>0.849645</td>\n",
       "      <td>0.891059</td>\n",
       "    </tr>\n",
       "    <tr>\n",
       "      <th>0.135</th>\n",
       "      <td>0.851064</td>\n",
       "      <td>0.889664</td>\n",
       "    </tr>\n",
       "    <tr>\n",
       "      <th>0.140</th>\n",
       "      <td>0.852482</td>\n",
       "      <td>0.888269</td>\n",
       "    </tr>\n",
       "    <tr>\n",
       "      <th>0.145</th>\n",
       "      <td>0.855792</td>\n",
       "      <td>0.886620</td>\n",
       "    </tr>\n",
       "    <tr>\n",
       "      <th>...</th>\n",
       "      <td>...</td>\n",
       "      <td>...</td>\n",
       "    </tr>\n",
       "    <tr>\n",
       "      <th>0.850</th>\n",
       "      <td>0.939953</td>\n",
       "      <td>0.803805</td>\n",
       "    </tr>\n",
       "    <tr>\n",
       "      <th>0.855</th>\n",
       "      <td>0.940898</td>\n",
       "      <td>0.801902</td>\n",
       "    </tr>\n",
       "    <tr>\n",
       "      <th>0.860</th>\n",
       "      <td>0.941371</td>\n",
       "      <td>0.800761</td>\n",
       "    </tr>\n",
       "    <tr>\n",
       "      <th>0.865</th>\n",
       "      <td>0.941844</td>\n",
       "      <td>0.799746</td>\n",
       "    </tr>\n",
       "    <tr>\n",
       "      <th>0.870</th>\n",
       "      <td>0.941844</td>\n",
       "      <td>0.798351</td>\n",
       "    </tr>\n",
       "    <tr>\n",
       "      <th>0.875</th>\n",
       "      <td>0.943262</td>\n",
       "      <td>0.796449</td>\n",
       "    </tr>\n",
       "    <tr>\n",
       "      <th>0.880</th>\n",
       "      <td>0.945154</td>\n",
       "      <td>0.793786</td>\n",
       "    </tr>\n",
       "    <tr>\n",
       "      <th>0.885</th>\n",
       "      <td>0.946099</td>\n",
       "      <td>0.791503</td>\n",
       "    </tr>\n",
       "    <tr>\n",
       "      <th>0.890</th>\n",
       "      <td>0.949882</td>\n",
       "      <td>0.788205</td>\n",
       "    </tr>\n",
       "    <tr>\n",
       "      <th>0.895</th>\n",
       "      <td>0.950355</td>\n",
       "      <td>0.786430</td>\n",
       "    </tr>\n",
       "    <tr>\n",
       "      <th>0.900</th>\n",
       "      <td>0.951773</td>\n",
       "      <td>0.785289</td>\n",
       "    </tr>\n",
       "    <tr>\n",
       "      <th>0.905</th>\n",
       "      <td>0.953664</td>\n",
       "      <td>0.783133</td>\n",
       "    </tr>\n",
       "    <tr>\n",
       "      <th>0.910</th>\n",
       "      <td>0.955083</td>\n",
       "      <td>0.779581</td>\n",
       "    </tr>\n",
       "    <tr>\n",
       "      <th>0.915</th>\n",
       "      <td>0.955556</td>\n",
       "      <td>0.777679</td>\n",
       "    </tr>\n",
       "    <tr>\n",
       "      <th>0.920</th>\n",
       "      <td>0.957447</td>\n",
       "      <td>0.774762</td>\n",
       "    </tr>\n",
       "    <tr>\n",
       "      <th>0.925</th>\n",
       "      <td>0.957920</td>\n",
       "      <td>0.771718</td>\n",
       "    </tr>\n",
       "    <tr>\n",
       "      <th>0.930</th>\n",
       "      <td>0.959338</td>\n",
       "      <td>0.769689</td>\n",
       "    </tr>\n",
       "    <tr>\n",
       "      <th>0.935</th>\n",
       "      <td>0.960757</td>\n",
       "      <td>0.765504</td>\n",
       "    </tr>\n",
       "    <tr>\n",
       "      <th>0.940</th>\n",
       "      <td>0.962175</td>\n",
       "      <td>0.761065</td>\n",
       "    </tr>\n",
       "    <tr>\n",
       "      <th>0.945</th>\n",
       "      <td>0.965012</td>\n",
       "      <td>0.756500</td>\n",
       "    </tr>\n",
       "    <tr>\n",
       "      <th>0.950</th>\n",
       "      <td>0.968322</td>\n",
       "      <td>0.750666</td>\n",
       "    </tr>\n",
       "    <tr>\n",
       "      <th>0.955</th>\n",
       "      <td>0.972577</td>\n",
       "      <td>0.741661</td>\n",
       "    </tr>\n",
       "    <tr>\n",
       "      <th>0.960</th>\n",
       "      <td>0.975414</td>\n",
       "      <td>0.733672</td>\n",
       "    </tr>\n",
       "    <tr>\n",
       "      <th>0.965</th>\n",
       "      <td>0.978251</td>\n",
       "      <td>0.720482</td>\n",
       "    </tr>\n",
       "    <tr>\n",
       "      <th>0.970</th>\n",
       "      <td>0.982979</td>\n",
       "      <td>0.703995</td>\n",
       "    </tr>\n",
       "    <tr>\n",
       "      <th>0.975</th>\n",
       "      <td>0.986761</td>\n",
       "      <td>0.683703</td>\n",
       "    </tr>\n",
       "    <tr>\n",
       "      <th>0.980</th>\n",
       "      <td>0.989598</td>\n",
       "      <td>0.649588</td>\n",
       "    </tr>\n",
       "    <tr>\n",
       "      <th>0.985</th>\n",
       "      <td>0.994799</td>\n",
       "      <td>0.579074</td>\n",
       "    </tr>\n",
       "    <tr>\n",
       "      <th>0.990</th>\n",
       "      <td>0.999527</td>\n",
       "      <td>0.375396</td>\n",
       "    </tr>\n",
       "    <tr>\n",
       "      <th>0.995</th>\n",
       "      <td>1.000000</td>\n",
       "      <td>0.002790</td>\n",
       "    </tr>\n",
       "  </tbody>\n",
       "</table>\n",
       "<p>200 rows × 2 columns</p>\n",
       "</div>"
      ],
      "text/plain": [
       "            tnr       tpr\n",
       "t                        \n",
       "0.000  0.000000  1.000000\n",
       "0.005  0.263357  0.996068\n",
       "0.010  0.511111  0.983133\n",
       "0.015  0.613239  0.971972\n",
       "0.020  0.679433  0.960304\n",
       "0.025  0.709693  0.952695\n",
       "0.030  0.731915  0.946734\n",
       "0.035  0.745154  0.939632\n",
       "0.040  0.760284  0.933672\n",
       "0.045  0.774941  0.928472\n",
       "0.050  0.782979  0.922511\n",
       "0.055  0.791489  0.917311\n",
       "0.060  0.799527  0.914521\n",
       "0.065  0.807565  0.912112\n",
       "0.070  0.814184  0.910336\n",
       "0.075  0.818440  0.908053\n",
       "0.080  0.821749  0.906785\n",
       "0.085  0.825532  0.904629\n",
       "0.090  0.830733  0.903234\n",
       "0.095  0.832624  0.902093\n",
       "0.100  0.835461  0.899810\n",
       "0.105  0.836879  0.898034\n",
       "0.110  0.839716  0.896386\n",
       "0.115  0.842080  0.895244\n",
       "0.120  0.844917  0.893342\n",
       "0.125  0.848227  0.892200\n",
       "0.130  0.849645  0.891059\n",
       "0.135  0.851064  0.889664\n",
       "0.140  0.852482  0.888269\n",
       "0.145  0.855792  0.886620\n",
       "...         ...       ...\n",
       "0.850  0.939953  0.803805\n",
       "0.855  0.940898  0.801902\n",
       "0.860  0.941371  0.800761\n",
       "0.865  0.941844  0.799746\n",
       "0.870  0.941844  0.798351\n",
       "0.875  0.943262  0.796449\n",
       "0.880  0.945154  0.793786\n",
       "0.885  0.946099  0.791503\n",
       "0.890  0.949882  0.788205\n",
       "0.895  0.950355  0.786430\n",
       "0.900  0.951773  0.785289\n",
       "0.905  0.953664  0.783133\n",
       "0.910  0.955083  0.779581\n",
       "0.915  0.955556  0.777679\n",
       "0.920  0.957447  0.774762\n",
       "0.925  0.957920  0.771718\n",
       "0.930  0.959338  0.769689\n",
       "0.935  0.960757  0.765504\n",
       "0.940  0.962175  0.761065\n",
       "0.945  0.965012  0.756500\n",
       "0.950  0.968322  0.750666\n",
       "0.955  0.972577  0.741661\n",
       "0.960  0.975414  0.733672\n",
       "0.965  0.978251  0.720482\n",
       "0.970  0.982979  0.703995\n",
       "0.975  0.986761  0.683703\n",
       "0.980  0.989598  0.649588\n",
       "0.985  0.994799  0.579074\n",
       "0.990  0.999527  0.375396\n",
       "0.995  1.000000  0.002790\n",
       "\n",
       "[200 rows x 2 columns]"
      ]
     },
     "execution_count": 38,
     "metadata": {},
     "output_type": "execute_result"
    }
   ],
   "source": [
    "threshold_tests"
   ]
  },
  {
   "cell_type": "code",
   "execution_count": null,
   "metadata": {},
   "outputs": [],
   "source": []
  }
 ],
 "metadata": {
  "kernelspec": {
   "display_name": "Environment (conda_tensorflow_p36)",
   "language": "python",
   "name": "conda_tensorflow_p36"
  },
  "language_info": {
   "codemirror_mode": {
    "name": "ipython",
    "version": 3
   },
   "file_extension": ".py",
   "mimetype": "text/x-python",
   "name": "python",
   "nbconvert_exporter": "python",
   "pygments_lexer": "ipython3",
   "version": "3.6.4"
  }
 },
 "nbformat": 4,
 "nbformat_minor": 2
}
