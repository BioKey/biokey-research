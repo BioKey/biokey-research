{
 "cells": [
  {
   "cell_type": "markdown",
   "metadata": {},
   "source": [
    "# [A continuous identity verification method based on free-text keystroke dynamics](http://ieeexplore.ieee.org.proxy1.lib.uwo.ca/document/7844242/authors)"
   ]
  },
  {
   "cell_type": "code",
   "execution_count": 1,
   "metadata": {},
   "outputs": [
    {
     "name": "stderr",
     "output_type": "stream",
     "text": [
      "/home/ubuntu/anaconda3/envs/tensorflow_p36/lib/python3.6/site-packages/matplotlib/__init__.py:962: UserWarning: Duplicate key in file \"/home/ubuntu/.config/matplotlib/matplotlibrc\", line #2\n",
      "  (fname, cnt))\n",
      "/home/ubuntu/anaconda3/envs/tensorflow_p36/lib/python3.6/site-packages/matplotlib/__init__.py:962: UserWarning: Duplicate key in file \"/home/ubuntu/.config/matplotlib/matplotlibrc\", line #3\n",
      "  (fname, cnt))\n"
     ]
    }
   ],
   "source": [
    "import psycopg2\n",
    "import pandas as pd\n",
    "import sys\n",
    "sys.path.append(\"..\")\n",
    "import credentials\n",
    "import numpy as np\n",
    "from datetime import datetime\n",
    "import time\n",
    "import string\n",
    "from tqdm import tnrange, tqdm_notebook, tqdm\n",
    "from tqdm._tqdm_notebook import tqdm_notebook\n",
    "import numpy.ma as ma\n",
    "from multiprocessing import Pool\n",
    "from scipy.optimize import minimize\n",
    "from biokey.data import DataInterface\n",
    "import biokey.tools\n",
    "from biokey.tools import parallel_process\n",
    "import json\n",
    "import random\n",
    "# This makes plots render inline"
   ]
  },
  {
   "cell_type": "code",
   "execution_count": 2,
   "metadata": {},
   "outputs": [],
   "source": [
    "% matplotlib inline"
   ]
  },
  {
   "cell_type": "code",
   "execution_count": 3,
   "metadata": {},
   "outputs": [
    {
     "name": "stdout",
     "output_type": "stream",
     "text": [
      "Loading Data\n",
      "\t- Attempting cache load\n",
      "\t- Loaded strokes from cache\n",
      "Processing Data\n",
      "\t- Attempting cache load\n",
      "\t- Loaded dwell and flight from cache\n",
      "Done Loading\n",
      "\n"
     ]
    }
   ],
   "source": [
    "data = DataInterface(credentials.postgres)"
   ]
  },
  {
   "cell_type": "code",
   "execution_count": 4,
   "metadata": {},
   "outputs": [],
   "source": [
    "key_press_count = data.get_dwells().key.value_counts()\n",
    "mask = list(string.ascii_uppercase)\n",
    "mask.extend(['ESCAPE', 'ENTER', 'SPACE', 'CONTROL', 'META', 'BACKSPACE', 'SHIFT'])"
   ]
  },
  {
   "cell_type": "code",
   "execution_count": 5,
   "metadata": {},
   "outputs": [],
   "source": [
    "datasets = data.get_all_sets()\n",
    "# for u in datasets:\n",
    "#     datasets[u] = biokey.tools.filter_sets(datasets[u], to_include=mask)"
   ]
  },
  {
   "cell_type": "markdown",
   "metadata": {},
   "source": [
    "# Building Profile Using Threshold"
   ]
  },
  {
   "cell_type": "code",
   "execution_count": 6,
   "metadata": {},
   "outputs": [],
   "source": [
    "from scipy.stats import ttest_ind_from_stats\n",
    "\n",
    "class Node(object):\n",
    "    def __init__(self, name):\n",
    "        self.name = name\n",
    "        self.children = {}\n",
    "        self.stats = None\n",
    "        self.parent = None\n",
    "    def add(self, hash1):\n",
    "        self.children[hash1.name] = hash1\n",
    "        self.parent = self\n",
    "        return hash1\n",
    "    def goto(self, name):\n",
    "        if(name in self.children):\n",
    "            return self.children[name]\n",
    "\n",
    "class Profile(object):\n",
    "    def __init__(self, df, threshold, trim=None):\n",
    "        self.trimmed = trim\n",
    "        self.threshold = threshold\n",
    "        if data is not None and threshold is not None:\n",
    "            self._build_profile(df, threshold)\n",
    "            if trim:\n",
    "                self.profile = self.profile.loc[self.profile['count'] >= trim]\n",
    "                self._build_tree()\n",
    "    \n",
    "    def _build_profile(self, df, t):\n",
    "        df = df.copy()\n",
    "        df['interval'] = (df.shift(-1).down - df.down)\n",
    "        chain = []\n",
    "        inner_queue = []\n",
    "        start = None\n",
    "        seqs = []\n",
    "        count = -1\n",
    "        for row in df.itertuples():\n",
    "            count += 1\n",
    "            row = {\n",
    "                'key': row.key,\n",
    "                'down': row.down,\n",
    "                'up': row.up,\n",
    "                'interval': row.interval,\n",
    "                'count': count\n",
    "            }\n",
    "            if start == None:\n",
    "                # First after threshold\n",
    "                start = row\n",
    "            else:\n",
    "                # Nth after threshold - queue as starters\n",
    "                inner_queue.append(row)\n",
    "            # Add it to the chain\n",
    "            chain.append(str(row['key']))\n",
    "            seqs.append({'seq': '-'.join(chain), 'duration': row['up'] - start['down'], 'start': start['count'], 'end': row['count']})\n",
    "            # If threshold is not met then start again\n",
    "            if row['interval'] > t:\n",
    "                for i in range(len(inner_queue)):\n",
    "                    start = inner_queue[i]\n",
    "                    chain = []\n",
    "                    for r in inner_queue[i:]:\n",
    "                        chain.append(str(row['key']))\n",
    "                        seqs.append({'seq': '-'.join(chain), 'duration': row['up'] - start['down'], 'start': start['count'], 'end': row['count']})\n",
    "                chain = []\n",
    "                inner_queue = []\n",
    "                start = None\n",
    "        # Aggregate sequences\n",
    "        self.seqs = pd.DataFrame(seqs)\n",
    "        s = self.seqs.copy()\n",
    "        s.loc[:,'log_duration'] = np.log(s.duration)\n",
    "        seq_dur = s.groupby('seq').aggregate(['mean', 'std', 'count']).log_duration\n",
    "        # Fill missing values with a proxy\n",
    "        seq_dur['std'] = seq_dur['std'].fillna((seq_dur['std']/seq_dur['mean']).mean()*seq_dur['mean'])\n",
    "        self.profile = seq_dur\n",
    "        self._build_tree()\n",
    "    \n",
    "    def update_profile(self, df):\n",
    "        self.profile = df\n",
    "        self._build_tree()\n",
    "    \n",
    "    def diversify(self, other_profile):\n",
    "        compared_profiles = pd.merge(self.profile, other_profile.profile, left_index=True, right_index=True)\n",
    "        compared_profiles['pvalue'] = compared_profiles.apply((lambda x: ttest_ind_from_stats(x.mean_x, x.std_x, x.count_x, x.mean_y, x.std_y, x.count_y, False).pvalue), axis=1)\n",
    "        new_profile = compared_profiles.loc[compared_profiles.pvalue < 0.05,['mean_x', 'std_x', 'count_x']]\n",
    "        new_profile.columns = ['mean', 'std', 'count']\n",
    "        self.update_profile(new_profile)\n",
    "        \n",
    "    def _build_tree(self):\n",
    "        self.root = Node('root')\n",
    "        for s, row in self.profile.iterrows():\n",
    "            n = self.root\n",
    "            for k in s.split('-'):\n",
    "                new = n.goto(k)\n",
    "                if not new:\n",
    "                    new = n.add(Node(k))\n",
    "                n = new\n",
    "            n.stats = row.to_dict()\n",
    "            \n",
    "    def trim(self, n):\n",
    "        \"Returns a new profile, trimmed to sequences with n instances\"\n",
    "        new_p = Profile(None, self.threshold, n)\n",
    "        new_p.profile = self.profile.loc[self.profile['count'] >= n]\n",
    "        new_p.seqs = self.profile.loc[self.seqs.seq.isin(self.profile.index)]\n",
    "        new_p._build_tree()\n",
    "        return new_p\n",
    "    \n",
    "    def search_tree(self, path):\n",
    "        \"Search tree for the node at a given list path\"\n",
    "        n = self.root\n",
    "        for p in path:\n",
    "            new = n.goto(p)\n",
    "            if not new:\n",
    "                return None\n",
    "            n = new\n",
    "        return n\n",
    "    \n",
    "    def features(self):\n",
    "        return np.array(self.profile.index)\n",
    "\n",
    "    def test_distance(self, path, duration):\n",
    "        \"Returns the probability that a typed path's duration was the profiles's\"\n",
    "        node = self.search_tree(path)\n",
    "        if node is None or node.stats is None:\n",
    "            return -1\n",
    "        stats = node.stats\n",
    "        return np.exp(-np.square((np.log(duration)-stats['mean']))/(2*np.square(stats['std'])))\n",
    "        \n",
    "    def test_window(self, df):\n",
    "        df = df.copy()\n",
    "        df['interval'] = (df.shift(-1).down - df.down)\n",
    "        chain = []\n",
    "        inner_queue = []\n",
    "        start = -1\n",
    "        instances = {}\n",
    "        results = {}\n",
    "        \n",
    "        for f in self.features():\n",
    "            instances[f] = []\n",
    "            results[f] = 0\n",
    "        for row in df.itertuples():\n",
    "            if start == -1:\n",
    "                start = row.down\n",
    "            else:\n",
    "                inner_queue.append(row)\n",
    "            chain.append(str(row.key))\n",
    "            seq = '-'.join(chain)\n",
    "            if seq in instances:\n",
    "                instances[seq].append(self.test_distance(chain, row.up - start))\n",
    "            if row.interval > self.threshold:\n",
    "                for i in range(len(inner_queue)):\n",
    "                    start = inner_queue[i].down\n",
    "                    chain = []\n",
    "                    for r in inner_queue[i:]:\n",
    "                        chain.append(str(r.key))\n",
    "                        seq = '-'.join(chain)\n",
    "                        if seq in instances:\n",
    "                            instances[seq].append(self.test_distance(chain, r.up - start))\n",
    "                chain = []\n",
    "                inner_queue = []\n",
    "                start = -1\n",
    "                \n",
    "        for f in instances:\n",
    "            durations = instances[f]\n",
    "            if len(durations) > 0:\n",
    "                results[f] = np.mean(durations)\n",
    "        return pd.Series(results)"
   ]
  },
  {
   "cell_type": "code",
   "execution_count": 7,
   "metadata": {},
   "outputs": [],
   "source": [
    "userid_valid = '28513a33-02a3-4b09-88f6-92c9fdb9dcdf'\n",
    "userid_imposter = '5aa5405e-4574-4dc1-be50-b31e5bafc4cb'\n",
    "\n",
    "train = datasets[userid_valid].train\n",
    "test = datasets[userid_valid].test\n",
    "\n",
    "train_valid = train.loc[train.is_user]\n",
    "train_imposter = train.loc[(train.is_user == False) & (train.actual_user == userid_imposter)]\n",
    "\n",
    "test_valid = test.loc[test.is_user]\n",
    "test_imposter = test.loc[(test.is_user == False) & (test.actual_user == userid_imposter)]\n",
    "\n",
    "# user_threshold = optimals[userid_valid]\n",
    "seq_cutoff_threshold = 150\n",
    "seq_occurance_threshold = 30"
   ]
  },
  {
   "cell_type": "code",
   "execution_count": 8,
   "metadata": {},
   "outputs": [],
   "source": [
    "p = Profile(train_valid, seq_cutoff_threshold, trim=seq_occurance_threshold)"
   ]
  },
  {
   "cell_type": "markdown",
   "metadata": {},
   "source": [
    "## Load Frames"
   ]
  },
  {
   "cell_type": "code",
   "execution_count": 9,
   "metadata": {},
   "outputs": [],
   "source": [
    "frames = json.load(open('windowed_frames_class_40.json'))\n",
    "test_frames = json.load(open('windowed_frames_class_40_test.json'))"
   ]
  },
  {
   "cell_type": "markdown",
   "metadata": {},
   "source": [
    "# Build LSTM Model"
   ]
  },
  {
   "cell_type": "code",
   "execution_count": 10,
   "metadata": {},
   "outputs": [
    {
     "name": "stderr",
     "output_type": "stream",
     "text": [
      "/home/ubuntu/anaconda3/envs/tensorflow_p36/lib/python3.6/site-packages/h5py/__init__.py:36: FutureWarning: Conversion of the second argument of issubdtype from `float` to `np.floating` is deprecated. In future, it will be treated as `np.float64 == np.dtype(float).type`.\n",
      "  from ._conv import register_converters as _register_converters\n",
      "Using TensorFlow backend.\n",
      "/home/ubuntu/anaconda3/envs/tensorflow_p36/lib/python3.6/importlib/_bootstrap.py:219: RuntimeWarning: compiletime version 3.5 of module 'tensorflow.python.framework.fast_tensor_util' does not match runtime version 3.6\n",
      "  return f(*args, **kwds)\n"
     ]
    }
   ],
   "source": [
    "from keras.models import Sequential\n",
    "from keras.layers import Dense, LSTM, CuDNNLSTM, Dropout\n",
    "from keras.callbacks import TensorBoard, ModelCheckpoint\n",
    "from sklearn import metrics\n",
    "import matplotlib.pyplot as plt"
   ]
  },
  {
   "cell_type": "code",
   "execution_count": 11,
   "metadata": {},
   "outputs": [],
   "source": [
    "input_features = len(p.features())\n",
    "input_feature_dimensions = 2 # score, count\n",
    "lookback_window = 30\n",
    "\n",
    "num_samples = len(frames) - lookback_window\n",
    "\n",
    "input_shape = (lookback_window, input_feature_dimensions*input_features)\n",
    "\n",
    "num_layers = 2\n",
    "layer_size = 64\n",
    "\n",
    "batch_size = 32\n",
    "\n",
    "output_shape = (1)\n",
    "\n",
    "epochs = 10"
   ]
  },
  {
   "cell_type": "code",
   "execution_count": 12,
   "metadata": {},
   "outputs": [],
   "source": [
    "features = p.features()\n",
    "feature_indexes = {}\n",
    "for i in range(len(features)):\n",
    "    feature_indexes[features[i]] = i"
   ]
  },
  {
   "cell_type": "code",
   "execution_count": 13,
   "metadata": {},
   "outputs": [],
   "source": [
    "# With Count\n",
    "def parse_frame(f, feature_indexes):\n",
    "    y = int(f['y'])\n",
    "    x = np.zeros((len(feature_indexes), 2))\n",
    "    for s in f['x']:\n",
    "        i = feature_indexes[s]\n",
    "        x[i][0] = f['x'][s]['mean']\n",
    "        x[i][1] = f['x'][s]['count']\n",
    "    return x, y"
   ]
  },
  {
   "cell_type": "code",
   "execution_count": 14,
   "metadata": {},
   "outputs": [],
   "source": [
    "# With Count\n",
    "def create_window(frames, feature_indexes, start, lookback):\n",
    "    x_vals = []\n",
    "    y = None\n",
    "    for i in range(lookback):\n",
    "        x, y = parse_frame(frames[start+i], feature_indexes)\n",
    "        x_vals.append(x)\n",
    "    return np.array(x_vals).reshape((lookback, len(feature_indexes)*2)), y"
   ]
  },
  {
   "cell_type": "code",
   "execution_count": 19,
   "metadata": {},
   "outputs": [],
   "source": [
    "def gen_window(frames, feature_indexes, lookback, batch_size=32):\n",
    "    \"\"\"\n",
    "    Generator to yield inputs and their labels in batches.\n",
    "    \"\"\"\n",
    "    batch_x = []\n",
    "    batch_y = []\n",
    "    for i in range(batch_size):\n",
    "        x, y = create_window(frames, feature_indexes, i, lookback)\n",
    "        batch_x.append(x)\n",
    "        batch_y.append(y)\n",
    "    i = batch_size\n",
    "    while True:\n",
    "        batch_x = batch_x[1:]\n",
    "        batch_y = batch_y[1:]\n",
    "        x, y = create_window(frames, feature_indexes, i, lookback)\n",
    "        batch_x.append(x)\n",
    "        batch_y.append(y)\n",
    "        i = (i + batch_size) % num_samples\n",
    "        yield np.array(batch_x), np.array(batch_y)\n",
    "\n",
    "def gen_rand_window(frames, feature_indexes, lookback, batch_size=32):\n",
    "    \"\"\"\n",
    "    Generator to yield inputs and their labels in batches.\n",
    "    \"\"\"\n",
    "    while True:\n",
    "        batch_x = []\n",
    "        batch_y = []\n",
    "        for i in range(batch_size):\n",
    "            x, y = create_window(frames, feature_indexes, random.randint(0, len(frames)-lookback-1), lookback)\n",
    "            batch_x.append(x)\n",
    "            batch_y.append(y)\n",
    "        yield np.array(batch_x), np.array(batch_y)\n",
    "\n",
    "def gen_window_default(frames, batch_size=32):\n",
    "    return gen_rand_window(frames, feature_indexes, lookback_window, batch_size)"
   ]
  },
  {
   "cell_type": "code",
   "execution_count": null,
   "metadata": {},
   "outputs": [],
   "source": [
    "dropout_rate = 0.4\n",
    "\n",
    "# create model\n",
    "lstm_model = Sequential()\n",
    "# add layers\n",
    "lstm_model.add(CuDNNLSTM(32, input_shape=input_shape))\n",
    "\n",
    "# lstm_model.add(Dense(32, activation='relu'))\n",
    "# lstm_model.add(Dense(16, activation='relu'))\n",
    "\n",
    "lstm_model.add(Dense(output_shape, activation='sigmoid'))\n",
    "# compile model\n",
    "lstm_model.compile(loss='binary_crossentropy', optimizer='adam', metrics=['accuracy'])"
   ]
  },
  {
   "cell_type": "code",
   "execution_count": null,
   "metadata": {},
   "outputs": [
    {
     "name": "stdout",
     "output_type": "stream",
     "text": [
      "Epoch 1/50\n",
      " 999/1000 [============================>.] - ETA: 0s - loss: 0.2118 - acc: 0.9173\n",
      "Epoch 00001: val_loss improved from inf to 0.26425, saving model to ./gaussian-lstm-models/2018-03-06 06_00_39_802051-weights-01-0.26.hdf5\n",
      "1000/1000 [==============================] - 125s 125ms/step - loss: 0.2116 - acc: 0.9173 - val_loss: 0.2643 - val_acc: 0.8978\n",
      "Epoch 2/50\n",
      " 999/1000 [============================>.] - ETA: 0s - loss: 0.1169 - acc: 0.9593\n",
      "Epoch 00002: val_loss did not improve\n",
      "1000/1000 [==============================] - 122s 122ms/step - loss: 0.1168 - acc: 0.9593 - val_loss: 0.2782 - val_acc: 0.9010\n",
      "Epoch 3/50\n",
      " 999/1000 [============================>.] - ETA: 0s - loss: 0.0837 - acc: 0.9716\n",
      "Epoch 00003: val_loss did not improve\n",
      "1000/1000 [==============================] - 122s 122ms/step - loss: 0.0837 - acc: 0.9716 - val_loss: 0.3200 - val_acc: 0.8952\n",
      "Epoch 4/50\n",
      " 999/1000 [============================>.] - ETA: 0s - loss: 0.0626 - acc: 0.9790\n",
      "Epoch 00004: val_loss did not improve\n",
      "1000/1000 [==============================] - 122s 122ms/step - loss: 0.0626 - acc: 0.9790 - val_loss: 0.3662 - val_acc: 0.8948\n",
      "Epoch 5/50\n",
      " 999/1000 [============================>.] - ETA: 0s - loss: 0.0499 - acc: 0.9838\n",
      "Epoch 00005: val_loss did not improve\n",
      "1000/1000 [==============================] - 122s 122ms/step - loss: 0.0499 - acc: 0.9838 - val_loss: 0.4289 - val_acc: 0.8927\n",
      "Epoch 6/50\n",
      " 489/1000 [=============>................] - ETA: 52s - loss: 0.0466 - acc: 0.9851"
     ]
    }
   ],
   "source": [
    "run_name = str(datetime.now()).replace(':','.').replace('.','_')\n",
    "filepath=\"./gaussian-lstm-models/%s-weights-{epoch:02d}-{val_loss:.2f}.hdf5\" % run_name\n",
    "checkpoint = ModelCheckpoint(filepath, monitor='val_loss', verbose=1, save_best_only=True)\n",
    "tbCallBack = TensorBoard(log_dir='./Graph/Gaussian_LSTM_%s/' % run_name, histogram_freq=0, write_graph=True, write_images=True)\n",
    "callbacks_list = [checkpoint, tbCallBack]\n",
    "\n",
    "lstm_model.fit_generator(gen_window_default(frames,100), validation_data=gen_window_default(test_frames,100), validation_steps=200, epochs=50, steps_per_epoch=1000, callbacks=callbacks_list)"
   ]
  },
  {
   "cell_type": "markdown",
   "metadata": {},
   "source": [
    "## Test It"
   ]
  },
  {
   "cell_type": "code",
   "execution_count": 25,
   "metadata": {},
   "outputs": [],
   "source": [
    "def far(y_true, y_pred, thresh=0.5):\n",
    "    total_false = np.equal(y_true, 0).astype('int32').sum()\n",
    "    false_accepts = (np.equal(y_true, 0) & np.greater_equal(np.reshape(y_pred, [-1]), thresh).flatten()).sum()\n",
    "    return false_accepts/total_false\n",
    "\n",
    "def frr(y_true, y_pred, thresh=0.5):\n",
    "    total_accept = np.equal(y_true, 1).astype('int32').sum()\n",
    "    false_rejects = (np.equal(y_true, 1) & np.less_equal(np.reshape(y_pred, [-1]), thresh).flatten()).sum()\n",
    "    return false_rejects/total_accept"
   ]
  },
  {
   "cell_type": "code",
   "execution_count": 26,
   "metadata": {},
   "outputs": [],
   "source": [
    "def evaluate(x, y, model, model_path='LSTM Model', index=0, plot=True):\n",
    "    y_pred = model.predict(x)\n",
    "\n",
    "    fpr, tpr, thresholds = metrics.roc_curve(y,  y_pred)\n",
    "    auc = metrics.roc_auc_score(y, y_pred)\n",
    "    plt.plot(fpr,tpr,label=\"LSTM\"+str(index)+\", auc=\"+str(auc))\n",
    "\n",
    "    false_accepts = far(y.flatten(), y_pred.flatten())\n",
    "    false_rejects = frr(y.flatten(), y_pred.flatten())\n",
    "    accuracy = metrics.accuracy_score(y.flatten(), np.round(y_pred.flatten()))\n",
    "    print('Model: %s (FAR: %4f FRR: %4f ACC: %4f)' % (model_path, false_accepts, false_rejects, accuracy))\n",
    "    \n",
    "    if plot:\n",
    "        plt.legend(loc=4)\n",
    "        plt.show()\n",
    "\n",
    "def evaluate_many(x_data, y_data, model_paths):\n",
    "    index = 0\n",
    "    for m in model_paths:\n",
    "        lstm_model.load_weights(m)\n",
    "        evaluate(x_data, y_data, lstm_model, m, index=index, plot=False)\n",
    "        index = index + 1\n",
    "    plt.legend(loc=4)\n",
    "    plt.show()"
   ]
  },
  {
   "cell_type": "code",
   "execution_count": 27,
   "metadata": {},
   "outputs": [],
   "source": [
    "x_train, y_train = next(gen_rand_window(frames, feature_indexes, lookback_window, 2000))\n",
    "x_test, y_test = next(gen_rand_window(test_frames, feature_indexes, lookback_window, 2000))"
   ]
  },
  {
   "cell_type": "code",
   "execution_count": 28,
   "metadata": {},
   "outputs": [
    {
     "name": "stdout",
     "output_type": "stream",
     "text": [
      "Model: LSTM Model (FAR: 0.002597 FRR: 0.023913 ACC: 0.992500)\n"
     ]
    },
    {
     "data": {
      "image/png": "[encoded data removed]",
      "text/plain": [
       "<matplotlib.figure.Figure at 0x7f65685abd30>"
      ]
     },
     "metadata": {},
     "output_type": "display_data"
    }
   ],
   "source": [
    "evaluate(x_train, y_train, lstm_model)"
   ]
  },
  {
   "cell_type": "code",
   "execution_count": 29,
   "metadata": {},
   "outputs": [
    {
     "name": "stdout",
     "output_type": "stream",
     "text": [
      "Model: LSTM Model (FAR: 0.052492 FRR: 0.339394 ACC: 0.876500)\n"
     ]
    },
    {
     "data": {
      "image/png": "[encoded data removed]",
      "text/plain": [
       "<matplotlib.figure.Figure at 0x7f6568131e80>"
      ]
     },
     "metadata": {},
     "output_type": "display_data"
    }
   ],
   "source": [
    "evaluate(x_test, y_test, lstm_model)"
   ]
  },
  {
   "cell_type": "code",
   "execution_count": 31,
   "metadata": {},
   "outputs": [
    {
     "data": {
      "application/vnd.jupyter.widget-view+json": {
       "model_id": "d2eeaa5f9d2346b0a1227c3bd3e4c6de",
       "version_major": 2,
       "version_minor": 0
      },
      "text/html": [
       "<p>Failed to display Jupyter Widget of type <code>HBox</code>.</p>\n",
       "<p>\n",
       "  If you're reading this message in the Jupyter Notebook or JupyterLab Notebook, it may mean\n",
       "  that the widgets JavaScript is still loading. If this message persists, it\n",
       "  likely means that the widgets JavaScript library is either not installed or\n",
       "  not enabled. See the <a href=\"https://ipywidgets.readthedocs.io/en/stable/user_install.html\">Jupyter\n",
       "  Widgets Documentation</a> for setup instructions.\n",
       "</p>\n",
       "<p>\n",
       "  If you're reading this message in another frontend (for example, a static\n",
       "  rendering on GitHub or <a href=\"https://nbviewer.jupyter.org/\">NBViewer</a>),\n",
       "  it may mean that your frontend doesn't currently support widgets.\n",
       "</p>\n"
      ],
      "text/plain": [
       "HBox(children=(IntProgress(value=0), HTML(value='')))"
      ]
     },
     "metadata": {},
     "output_type": "display_data"
    },
    {
     "name": "stdout",
     "output_type": "stream",
     "text": [
      "\n"
     ]
    }
   ],
   "source": [
    "y_tests = []\n",
    "y_test_preds = []\n",
    "\n",
    "for i in tnrange(100):\n",
    "    x_test, y_test = next(gen_window(test_frames, feature_indexes, lookback_window, 1000))\n",
    "    y_tests.append(y_test)\n",
    "    y_pred = lstm_model.predict(x_test)\n",
    "    y_test_preds.append(y_pred)\n",
    "\n",
    "y_tests = np.array(y_tests).flatten()\n",
    "y_test_preds = np.array(y_test_preds).flatten()"
   ]
  },
  {
   "cell_type": "code",
   "execution_count": 32,
   "metadata": {},
   "outputs": [
    {
     "name": "stdout",
     "output_type": "stream",
     "text": [
      "FAR: 0.074266 FRR: 0.470309 ACC: 0.759000\n"
     ]
    },
    {
     "data": {
      "image/png": "[encoded data removed]",
      "text/plain": [
       "<matplotlib.figure.Figure at 0x7f69020a1390>"
      ]
     },
     "metadata": {},
     "output_type": "display_data"
    }
   ],
   "source": [
    "fpr, tpr, thresholds = metrics.roc_curve(y_tests,  y_test_preds)\n",
    "auc = metrics.roc_auc_score(y_tests, y_test_preds)\n",
    "plt.plot(fpr,tpr,label=\"LSTM, auc=\"+str(auc))\n",
    "\n",
    "false_accepts = far(y_tests, y_test_preds)\n",
    "false_rejects = frr(y_tests, y_test_preds)\n",
    "accuracy = metrics.accuracy_score(y_tests, np.round(y_test_preds))\n",
    "print('FAR: %4f FRR: %4f ACC: %4f' % (false_accepts, false_rejects, accuracy))\n",
    "plt.legend(loc=4)\n",
    "plt.show()"
   ]
  },
  {
   "cell_type": "code",
   "execution_count": 46,
   "metadata": {},
   "outputs": [
    {
     "data": {
      "text/plain": [
       "322"
      ]
     },
     "execution_count": 46,
     "metadata": {},
     "output_type": "execute_result"
    }
   ],
   "source": [
    "tpr"
   ]
  },
  {
   "cell_type": "code",
   "execution_count": 33,
   "metadata": {},
   "outputs": [],
   "source": [
    "comp = pd.DataFrame({'predictions': y_test_preds, 'actual': y_tests})"
   ]
  },
  {
   "cell_type": "code",
   "execution_count": 53,
   "metadata": {},
   "outputs": [
    {
     "data": {
      "text/plain": [
       "<matplotlib.axes._subplots.AxesSubplot at 0x7f654c508320>"
      ]
     },
     "execution_count": 53,
     "metadata": {},
     "output_type": "execute_result"
    },
    {
     "data": {
      "image/png": "[encoded data removed]",
      "text/plain": [
       "<matplotlib.figure.Figure at 0x7f654c508ef0>"
      ]
     },
     "metadata": {},
     "output_type": "display_data"
    }
   ],
   "source": [
    "pd.Series(range(100)).apply(lambda x: pd.Series({t/1000: ((comp.predictions.rolling(x).mean() > (t/1000)).astype(np.int16) == comp.actual).mean() for t in range(50)})).plot()"
   ]
  },
  {
   "cell_type": "code",
   "execution_count": null,
   "metadata": {},
   "outputs": [],
   "source": []
  }
 ],
 "metadata": {
  "kernelspec": {
   "display_name": "Environment (conda_tensorflow_p36)",
   "language": "python",
   "name": "conda_tensorflow_p36"
  },
  "language_info": {
   "codemirror_mode": {
    "name": "ipython",
    "version": 3
   },
   "file_extension": ".py",
   "mimetype": "text/x-python",
   "name": "python",
   "nbconvert_exporter": "python",
   "pygments_lexer": "ipython3",
   "version": "3.6.4"
  }
 },
 "nbformat": 4,
 "nbformat_minor": 2
}
