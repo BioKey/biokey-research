{
 "cells": [
  {
   "cell_type": "code",
   "execution_count": 1,
   "metadata": {
    "collapsed": true
   },
   "outputs": [],
   "source": [
    "# Example for my blog post at:\n",
    "# https://danijar.com/introduction-to-recurrent-networks-in-tensorflow/\n",
    "import functools\n",
    "import sets\n",
    "import tensorflow as tf\n",
    "\n",
    "\n",
    "def lazy_property(function):\n",
    "    attribute = '_' + function.__name__\n",
    "\n",
    "    @property\n",
    "    @functools.wraps(function)\n",
    "    def wrapper(self):\n",
    "        if not hasattr(self, attribute):\n",
    "            setattr(self, attribute, function(self))\n",
    "        return getattr(self, attribute)\n",
    "    return wrapper\n",
    "\n",
    "\n",
    "class SequenceClassification:\n",
    "\n",
    "    def __init__(self, data, target, dropout, num_hidden=200, num_layers=3):\n",
    "        self.data = data\n",
    "        self.target = target\n",
    "        self.dropout = dropout\n",
    "        self._num_hidden = num_hidden\n",
    "        self._num_layers = num_layers\n",
    "        self.prediction\n",
    "        self.error\n",
    "        self.optimize\n",
    "\n",
    "    @lazy_property\n",
    "    def prediction(self):\n",
    "        cells = []\n",
    "        for _ in range(self._num_layers):\n",
    "          cell = tf.contrib.rnn.GRUCell(self._num_hidden)  # Or LSTMCell(num_units)\n",
    "          cell = tf.contrib.rnn.DropoutWrapper(\n",
    "              cell, output_keep_prob=1.0 - self.dropout)\n",
    "          cells.append(cell)\n",
    "        network = tf.contrib.rnn.MultiRNNCell(cells)\n",
    "        output, _ = tf.nn.dynamic_rnn(network, self.data, dtype=tf.float32)\n",
    "        # Select last output.\n",
    "        output = tf.transpose(output, [1, 0, 2])\n",
    "        last = tf.gather(output, int(output.get_shape()[0]) - 1)\n",
    "        # Softmax layer.\n",
    "        weight, bias = self._weight_and_bias(\n",
    "            self._num_hidden, int(self.target.get_shape()[1]))\n",
    "        prediction = tf.nn.softmax(tf.matmul(last, weight) + bias)\n",
    "        return prediction\n",
    "\n",
    "    @lazy_property\n",
    "    def cost(self):\n",
    "        cross_entropy = -tf.reduce_sum(self.target * tf.log(self.prediction))\n",
    "        return cross_entropy\n",
    "\n",
    "    @lazy_property\n",
    "    def optimize(self):\n",
    "        learning_rate = 0.003\n",
    "        optimizer = tf.train.RMSPropOptimizer(learning_rate)\n",
    "        return optimizer.minimize(self.cost)\n",
    "\n",
    "    @lazy_property\n",
    "    def error(self):\n",
    "        mistakes = tf.not_equal(\n",
    "            tf.argmax(self.target, 1), tf.argmax(self.prediction, 1))\n",
    "        return tf.reduce_mean(tf.cast(mistakes, tf.float32))\n",
    "\n",
    "    @staticmethod\n",
    "    def _weight_and_bias(in_size, out_size):\n",
    "        weight = tf.truncated_normal([in_size, out_size], stddev=0.01)\n",
    "        bias = tf.constant(0.1, shape=[out_size])\n",
    "        return tf.Variable(weight), tf.Variable(bias)"
   ]
  },
  {
   "cell_type": "code",
   "execution_count": 2,
   "metadata": {},
   "outputs": [
    {
     "name": "stderr",
     "output_type": "stream",
     "text": [
      "/anaconda/lib/python3.6/site-packages/tensorflow/python/ops/gradients_impl.py:95: UserWarning: Converting sparse IndexedSlices to a dense Tensor of unknown shape. This may consume a large amount of memory.\n",
      "  \"Converting sparse IndexedSlices to a dense Tensor of unknown shape. \"\n"
     ]
    }
   ],
   "source": [
    "# We treat images as sequences of pixel rows.\n",
    "train, test = sets.Mnist()\n",
    "_, rows, row_size = train.data.shape\n",
    "num_classes = train.target.shape[1]\n",
    "data = tf.placeholder(tf.float32, [None, rows, row_size])\n",
    "target = tf.placeholder(tf.float32, [None, num_classes])\n",
    "dropout = tf.placeholder(tf.float32)\n",
    "model = SequenceClassification(data, target, dropout)"
   ]
  },
  {
   "cell_type": "code",
   "execution_count": 6,
   "metadata": {},
   "outputs": [
    {
     "name": "stdout",
     "output_type": "stream",
     "text": [
      "Epoch  1 error 90.2%\n",
      "Epoch  2 error 90.2%\n",
      "Epoch  3 error 90.2%\n",
      "Epoch  4 error 90.2%\n",
      "Epoch  5 error 90.2%\n",
      "Epoch  6 error 90.2%\n",
      "Epoch  7 error 90.2%\n",
      "Epoch  8 error 90.2%\n",
      "Epoch  9 error 90.2%\n",
      "Epoch 10 error 90.2%\n"
     ]
    }
   ],
   "source": [
    "sess = tf.Session()\n",
    "sess.run(tf.global_variables_initializer())\n",
    "for epoch in range(10):\n",
    "    for _ in range(100):\n",
    "        batch = train.sample(10)\n",
    "        sess.run(model.optimize, {\n",
    "            data: batch.data, target: batch.target, dropout: 0.5})\n",
    "    error = sess.run(model.error, {\n",
    "        data: test.data, target: test.target, dropout: 1})\n",
    "    print('Epoch {:2d} error {:3.1f}%'.format(epoch + 1, 100 * error))"
   ]
  },
  {
   "cell_type": "code",
   "execution_count": null,
   "metadata": {
    "collapsed": true
   },
   "outputs": [],
   "source": []
  }
 ],
 "metadata": {
  "kernelspec": {
   "display_name": "Python 3",
   "language": "python",
   "name": "python3"
  },
  "language_info": {
   "codemirror_mode": {
    "name": "ipython",
    "version": 3
   },
   "file_extension": ".py",
   "mimetype": "text/x-python",
   "name": "python",
   "nbconvert_exporter": "python",
   "pygments_lexer": "ipython3",
   "version": "3.6.1"
  }
 },
 "nbformat": 4,
 "nbformat_minor": 2
}
